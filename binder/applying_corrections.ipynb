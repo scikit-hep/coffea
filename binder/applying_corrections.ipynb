{
 "cells": [
  {
   "cell_type": "markdown",
   "metadata": {},
   "source": [
    "# Applying corrections to columnar data\n",
    "\n",
    "This is a rendered copy of [applying_corrections.ipynb](https://github.com/scikit-hep/coffea/blob/master/binder/applying_corrections.ipynb). You can optionally run it interactively on [binder at this link](https://mybinder.org/v2/gh/coffeateam/coffea/master?filepath=binder%2Fapplying_corrections.ipynb)\n",
    "\n",
    "Here we will show how to apply corrections to columnar data using:\n",
    "\n",
    "- the `coffea.lookup_tools` package, which was designed to read in ROOT histograms and a variety of data file formats popular within CMS into a standardized lookup table format; \n",
    "- CMS-specific extensions to the above, for jet corrections (`coffea.jetmet_tools`) and b-tagging efficiencies/uncertainties (`coffea.btag_tools`); while some subtools have been deprecated in favor of correctionlib, you may still come across older formats until everyone has fully transitioned.\n",
    "- the [correctionlib](https://cms-nanoaod.github.io/correctionlib/) package, which provides an experiment-agnostic serializable data format for common correction functions. This format is the preferred format moving forward, as CMS has standardized on this."
   ]
  },
  {
   "cell_type": "markdown",
   "metadata": {},
   "source": [
    "**Test data**:\n",
    "We'll use NanoEvents to construct some test data."
   ]
  },
  {
   "cell_type": "code",
   "execution_count": 1,
   "metadata": {
    "tags": []
   },
   "outputs": [],
   "source": [
    "import awkward as ak\n",
    "from coffea.nanoevents import NanoEventsFactory, NanoAODSchema\n",
    "\n",
    "NanoAODSchema.warn_missing_crossrefs = False\n",
    "\n",
    "fname = \"coffea/tests/samples/nano_dy.root\"\n",
    "access_log = []\n",
    "events = NanoEventsFactory.from_root(\n",
    "    {fname: \"Events\"},\n",
    "    schemaclass=NanoAODSchema,\n",
    "    metadata={\"dataset\": \"DYJets\"},\n",
    "    mode=\"virtual\",\n",
    "    access_log=access_log,\n",
    ").events()"
   ]
  },
  {
   "cell_type": "markdown",
   "metadata": {},
   "source": [
    "## Coffea lookup_tools\n",
    "\n",
    "The entrypoint for `coffea.lookup_tools` is the [extractor class](https://coffea-hep.readthedocs.io/en/latest/api/coffea.lookup_tools.extractor.html#coffea.lookup_tools.extractor)."
   ]
  },
  {
   "cell_type": "code",
   "execution_count": 2,
   "metadata": {
    "tags": []
   },
   "outputs": [],
   "source": [
    "from coffea.lookup_tools import extractor"
   ]
  },
  {
   "cell_type": "code",
   "execution_count": 3,
   "metadata": {
    "tags": []
   },
   "outputs": [
    {
     "name": "stdout",
     "output_type": "stream",
     "text": [
      "~/Dropbox/work/pyhep_dev/coffea/binder/data ~/Dropbox/work/pyhep_dev/coffea/binder\n",
      "~/Dropbox/work/pyhep_dev/coffea/binder\n"
     ]
    }
   ],
   "source": [
    "%%bash\n",
    "# download some sample correction sources\n",
    "mkdir -p data\n",
    "pushd data\n",
    "PREFIX=https://raw.githubusercontent.com/CoffeaTeam/coffea/master/tests/samples\n",
    "curl -Os $PREFIX/testSF2d.histo.root\n",
    "curl -Os $PREFIX/Fall17_17Nov2017_V32_MC_L2Relative_AK4PFPuppi.jec.txt\n",
    "curl -Os $PREFIX/Fall17_17Nov2017_V32_MC_Uncertainty_AK4PFPuppi.junc.txt\n",
    "curl -Os $PREFIX/DeepCSV_102XSF_V1.btag.csv.gz\n",
    "popd"
   ]
  },
  {
   "cell_type": "markdown",
   "metadata": {},
   "source": [
    "### Opening a root file and using it as a lookup table\n",
    "\n",
    "In [tests/samples](https://github.com/CoffeaTeam/coffea/tree/master/tests/samples), there is an example file with a `TH2F` histogram named `scalefactors_Tight_Electron`. The following code reads that histogram into an [evaluator](https://coffea-hep.readthedocs.io/en/latest/api/coffea.lookup_tools.evaluator.html#coffea.lookup_tools.evaluator) instance, under the key `testSF2d` and applies it to some electrons."
   ]
  },
  {
   "cell_type": "code",
   "execution_count": 4,
   "metadata": {
    "tags": []
   },
   "outputs": [
    {
     "name": "stdout",
     "output_type": "stream",
     "text": [
      "available evaluator keys:\n",
      "\t testSF2d\n",
      "testSF2d: <coffea.lookup_tools.dense_lookup.dense_lookup object at 0x14c66c590> 2 dimensional histogram with axes:\n",
      "\t1: [-2.5   -2.    -1.566 -1.444 -0.8    0.     0.8    1.444  1.566  2.\n",
      "  2.5  ]\n",
      "\t2: [ 10.  20.  35.  50.  90. 150. 500.]\n",
      "\n",
      "type of testSF2d: <class 'coffea.lookup_tools.dense_lookup.dense_lookup'>\n"
     ]
    }
   ],
   "source": [
    "ext = extractor()\n",
    "# several histograms can be imported at once using wildcards (*)\n",
    "ext.add_weight_sets([\"testSF2d scalefactors_Tight_Electron data/testSF2d.histo.root\"])\n",
    "ext.finalize()\n",
    "\n",
    "evaluator = ext.make_evaluator()\n",
    "\n",
    "print(\"available evaluator keys:\")\n",
    "for key in evaluator.keys():\n",
    "    print(\"\\t\", key)\n",
    "print(\"testSF2d:\", evaluator[\"testSF2d\"])\n",
    "print(\"type of testSF2d:\", type(evaluator[\"testSF2d\"]))"
   ]
  },
  {
   "cell_type": "code",
   "execution_count": 5,
   "metadata": {
    "tags": []
   },
   "outputs": [
    {
     "name": "stdout",
     "output_type": "stream",
     "text": [
      "Electron eta: [??, ??, ??, ??, ??, ??, ??, ??, ??, ..., ??, ??, ??, ??, ??, ??, ??, ??, ??]\n",
      "Electron pt: [??, ??, ??, ??, ??, ??, ??, ??, ??, ..., ??, ??, ??, ??, ??, ??, ??, ??, ??]\n",
      "Scale factor: [[], [0.909], [0.953, 0.972], [0.807, 0.827], [], ..., [], [0.946], [], []]\n"
     ]
    }
   ],
   "source": [
    "print(\"Electron eta:\", events.Electron.eta)\n",
    "print(\"Electron pt:\", events.Electron.pt)\n",
    "print(\"Scale factor:\", evaluator[\"testSF2d\"](events.Electron.eta, events.Electron.pt))"
   ]
  },
  {
   "cell_type": "markdown",
   "metadata": {},
   "source": [
    "### Building and using your own correction from a histogram\n",
    "\n",
    "To use a histogram or ratio of histograms to build your own correction, you can use `lookup_tools` to simplify the implementation. Here we create some mock data for two slightly different pt and eta spectra (say, from two different generators) and derive a correction to reweight one sample to the other."
   ]
  },
  {
   "cell_type": "code",
   "execution_count": 6,
   "metadata": {
    "tags": []
   },
   "outputs": [
    {
     "name": "stderr",
     "output_type": "stream",
     "text": [
      "/Users/iason/micromamba/envs/awkward-coffea/lib/python3.13/site-packages/mplhep/utils.py:652: RuntimeWarning: All sumw are zero!  Cannot compute meaningful error bars\n",
      "  return np.abs(method_fcn(self.values(), variances) - self.values())\n"
     ]
    },
    {
     "data": {
      "text/plain": [
       "<matplotlib.legend.Legend at 0x156eb2e90>"
      ]
     },
     "execution_count": 6,
     "metadata": {},
     "output_type": "execute_result"
    },
    {
     "data": {
      "image/png": "[encoded data removed]",
      "text/plain": [
       "<Figure size 640x480 with 1 Axes>"
      ]
     },
     "metadata": {},
     "output_type": "display_data"
    }
   ],
   "source": [
    "import numpy as np\n",
    "import hist\n",
    "import matplotlib.pyplot as plt\n",
    "\n",
    "dists = (\n",
    "    hist.Hist.new.StrCat([\"gen1\", \"gen2\", \"gen2rwt\"], name=\"dataset\")\n",
    "    .Reg(20, 0, 100, name=\"pt\")\n",
    "    .Reg(4, -3, 3, name=\"eta\")\n",
    "    .Weight()\n",
    "    .fill(\n",
    "        dataset=\"gen1\",\n",
    "        pt=np.random.exponential(scale=10.0, size=10000) + np.random.exponential(scale=10.0, size=10000),\n",
    "        eta=np.random.normal(scale=1, size=10000),\n",
    "    )\n",
    "    .fill(\n",
    "        dataset=\"gen2\",\n",
    "        pt=np.random.exponential(scale=10.0, size=10000) + np.random.exponential(scale=15.0, size=10000),\n",
    "        eta=np.random.normal(scale=1.1, size=10000),\n",
    "    )\n",
    ")\n",
    "\n",
    "fig, ax = plt.subplots()\n",
    "dists[:, :, sum].plot1d(ax=ax)\n",
    "ax.legend(title=\"dataset\")"
   ]
  },
  {
   "cell_type": "markdown",
   "metadata": {},
   "source": [
    "Now we derive a correction as a function of $p_T$ and $\\eta$ to `gen2` such that it agrees with `gen1`. We'll set it to 1 anywhere we run out of statistics for the correction, to avoid divide by zero issues"
   ]
  },
  {
   "cell_type": "code",
   "execution_count": 7,
   "metadata": {
    "tags": []
   },
   "outputs": [
    {
     "name": "stdout",
     "output_type": "stream",
     "text": [
      "<coffea.lookup_tools.dense_lookup.dense_lookup object at 0x156f1d310> 2 dimensional histogram with axes:\n",
      "\t1: [  0.   5.  10.  15.  20.  25.  30.  35.  40.  45.  50.  55.  60.  65.\n",
      "  70.  75.  80.  85.  90.  95. 100.]\n",
      "\t2: [-3.  -1.5  0.   1.5  3. ]\n",
      "\n"
     ]
    },
    {
     "data": {
      "text/plain": [
       "ColormeshArtists(pcolormesh=<matplotlib.collections.QuadMesh object at 0x156dd7a10>, cbar=<matplotlib.colorbar.Colorbar object at 0x156eb5160>, text=[])"
      ]
     },
     "execution_count": 7,
     "metadata": {},
     "output_type": "execute_result"
    },
    {
     "data": {
      "image/png": "[encoded data removed]",
      "text/plain": [
       "<Figure size 684.8x480 with 2 Axes>"
      ]
     },
     "metadata": {},
     "output_type": "display_data"
    }
   ],
   "source": [
    "from coffea.lookup_tools.dense_lookup import dense_lookup\n",
    "\n",
    "num = dists[\"gen1\", :, :].values()\n",
    "den = dists[\"gen2\", :, :].values()\n",
    "sf = np.where(\n",
    "    (num > 0) & (den > 0),\n",
    "    num / np.maximum(den, 1) * den.sum() / num.sum(),\n",
    "    1.0,\n",
    ")\n",
    "\n",
    "corr = dense_lookup(sf, [ax.edges for ax in dists.axes[1:]])\n",
    "print(corr)\n",
    "\n",
    "# a quick way to plot the scale factor is to steal the axis definitions from the input histograms:\n",
    "sfhist = hist.Hist(*dists.axes[1:], data=sf)\n",
    "sfhist.plot2d()"
   ]
  },
  {
   "cell_type": "markdown",
   "metadata": {},
   "source": [
    "Now we generate some new mock data as if it was drawn from `gen2` and reweight it with our `corr` to match `gen1`"
   ]
  },
  {
   "cell_type": "code",
   "execution_count": 8,
   "metadata": {
    "tags": []
   },
   "outputs": [
    {
     "data": {
      "text/plain": [
       "<matplotlib.legend.Legend at 0x1570c2990>"
      ]
     },
     "execution_count": 8,
     "metadata": {},
     "output_type": "execute_result"
    },
    {
     "data": {
      "image/png": "[encoded data removed]",
      "text/plain": [
       "<Figure size 640x480 with 1 Axes>"
      ]
     },
     "metadata": {},
     "output_type": "display_data"
    }
   ],
   "source": [
    "ptvals = np.random.exponential(scale=10.0, size=10000) + np.random.exponential(scale=15.0, size=10000)\n",
    "etavals = np.random.normal(scale=1.1, size=10000)\n",
    "\n",
    "dists.fill(dataset=\"gen2rwt\", pt=ptvals, eta=etavals, weight=corr(ptvals, etavals))\n",
    "\n",
    "fig, ax = plt.subplots()\n",
    "dists[:, :, sum].plot1d(ax=ax)\n",
    "ax.legend(title=\"dataset\")"
   ]
  },
  {
   "cell_type": "markdown",
   "metadata": {},
   "source": [
    "Note that `corr()` can accept also jagged arrays if need be."
   ]
  },
  {
   "cell_type": "markdown",
   "metadata": {},
   "source": [
    "## CMS high-level tools\n",
    "\n",
    "### Applying energy scale transformations with jetmet_tools\n",
    "\n",
    "The `coffea.jetmet_tools` package provides a convenience class [JetTransformer](https://coffea-hep.readthedocs.io/en/latest/api/coffea.jetmet_tools.JetTransformer.html#coffea.jetmet_tools.JetTransformer) which applies specified corrections and computes uncertainties in one call. First we build the desired jet correction stack to apply. This will usually be some set of the various JEC and JER correction text files that depends on the jet cone size (AK4, AK8) and the pileup mitigation algorithm, as well as the data-taking year they are associated with."
   ]
  },
  {
   "cell_type": "code",
   "execution_count": 9,
   "metadata": {
    "tags": []
   },
   "outputs": [
    {
     "name": "stdout",
     "output_type": "stream",
     "text": [
      "['Fall17_17Nov2017_V32_MC_L2Relative_AK4PFPuppi', 'Fall17_17Nov2017_V32_MC_Uncertainty_AK4PFPuppi']\n"
     ]
    }
   ],
   "source": [
    "from coffea.jetmet_tools import FactorizedJetCorrector, JetCorrectionUncertainty\n",
    "from coffea.jetmet_tools import JECStack, CorrectedJetsFactory\n",
    "import numpy as np\n",
    "\n",
    "ext = extractor()\n",
    "ext.add_weight_sets(\n",
    "    [\n",
    "        \"* * data/Fall17_17Nov2017_V32_MC_L2Relative_AK4PFPuppi.jec.txt\",\n",
    "        \"* * data/Fall17_17Nov2017_V32_MC_Uncertainty_AK4PFPuppi.junc.txt\",\n",
    "    ]\n",
    ")\n",
    "ext.finalize()\n",
    "\n",
    "jec_stack_names = [\"Fall17_17Nov2017_V32_MC_L2Relative_AK4PFPuppi\", \"Fall17_17Nov2017_V32_MC_Uncertainty_AK4PFPuppi\"]\n",
    "\n",
    "evaluator = ext.make_evaluator()\n",
    "\n",
    "jec_inputs = {name: evaluator[name] for name in jec_stack_names}\n",
    "jec_stack = JECStack(jec_inputs)\n",
    "### more possibilities are available if you send in more pieces of the JEC stack\n",
    "# mc2016_ak8_jxform = JECStack([\"more\", \"names\", \"of\", \"JEC parts\"])\n",
    "\n",
    "print(dir(evaluator))"
   ]
  },
  {
   "cell_type": "markdown",
   "metadata": {},
   "source": [
    "Now we prepare some auxilary variables that are used to parameterize the jet energy corrections, such as jet area, mass, and event $\\rho$ (mean pileup energy density), and pass all of these into the `CorrectedJetsFactory`:"
   ]
  },
  {
   "cell_type": "code",
   "execution_count": 10,
   "metadata": {
    "tags": []
   },
   "outputs": [
    {
     "name": "stdout",
     "output_type": "stream",
     "text": [
      "starting columns: {'nConstituents', 'rawFactor', 'electronIdx2', 'nElectrons', 'btagDeepFlavC', 'Rho', 'pt_gen', 'chHEF', 'bRegCorr', 'btagDeepFlavB', 'partonFlavour', 'genJetIdxG', 'genJetIdx', 'muonIdx2', 'btagDeepC', 'electronIdxG', 'electronIdx1G', 'pt_raw', 'jercCHF', 'muonIdx1', 'electronIdx1', 'mass', 'cleanmask', 'electronIdx2G', 'neEmEF', 'qgl', 'area', 'muonIdx2G', 'pt', 'muonIdxG', 'chEmEF', 'bRegRes', 'btagDeepB', 'hadronFlavour', 'jetId', 'btagCSVV2', 'btagCMVA', 'muonSubtrFactor', 'mass_raw', 'phi', 'nMuons', 'muEF', 'jercCHPUF', 'neHEF', 'puId', 'eta', 'muonIdx1G'}\n",
      "new columns: {'jet_energy_uncertainty_jes', 'pt_jec', 'pt_orig', 'JES_jes', 'jet_energy_correction', 'mass_jec', 'mass_orig'}\n"
     ]
    }
   ],
   "source": [
    "name_map = jec_stack.blank_name_map\n",
    "name_map[\"JetPt\"] = \"pt\"\n",
    "name_map[\"JetMass\"] = \"mass\"\n",
    "name_map[\"JetEta\"] = \"eta\"\n",
    "name_map[\"JetA\"] = \"area\"\n",
    "\n",
    "jets = events.Jet\n",
    "\n",
    "jets[\"pt_raw\"] = (1 - jets[\"rawFactor\"]) * jets[\"pt\"]\n",
    "jets[\"mass_raw\"] = (1 - jets[\"rawFactor\"]) * jets[\"mass\"]\n",
    "jets[\"pt_gen\"] = ak.values_astype(ak.fill_none(jets.matched_gen.pt, 0), np.float32)\n",
    "jets[\"Rho\"] = ak.broadcast_arrays(events.fixedGridRhoFastjetAll, jets.pt)[0]\n",
    "name_map[\"ptGenJet\"] = \"pt_gen\"\n",
    "name_map[\"ptRaw\"] = \"pt_raw\"\n",
    "name_map[\"massRaw\"] = \"mass_raw\"\n",
    "name_map[\"Rho\"] = \"Rho\"\n",
    "\n",
    "corrector = FactorizedJetCorrector(\n",
    "    Fall17_17Nov2017_V32_MC_L2Relative_AK4PFPuppi=evaluator[\"Fall17_17Nov2017_V32_MC_L2Relative_AK4PFPuppi\"],\n",
    ")\n",
    "uncertainties = JetCorrectionUncertainty(Fall17_17Nov2017_V32_MC_Uncertainty_AK4PFPuppi=evaluator[\"Fall17_17Nov2017_V32_MC_Uncertainty_AK4PFPuppi\"])\n",
    "\n",
    "jet_factory = CorrectedJetsFactory(name_map, jec_stack)\n",
    "corrected_jets = jet_factory.build(jets)\n",
    "\n",
    "print(\"starting columns:\", set(ak.fields(jets)))\n",
    "print(\"new columns:\", set(ak.fields(corrected_jets)) - set(ak.fields(jets)))"
   ]
  },
  {
   "cell_type": "markdown",
   "metadata": {},
   "source": [
    "Below we show that the corrected jets indeed have a different $p_T$ and mass than we started with"
   ]
  },
  {
   "cell_type": "code",
   "execution_count": 11,
   "metadata": {
    "tags": []
   },
   "outputs": [
    {
     "name": "stdout",
     "output_type": "stream",
     "text": [
      "untransformed pt ratios [[1.12, 1.09, 1.2, 1.35, 1.27], [1.03, 1.08, ..., 1, 0.918], ..., [1.13, 0.978]]\n",
      "untransformed mass ratios [[1.12, 1.09, 1.2, 1.35, 1.27], [1.03, 1.08, ..., 1, 0.918], ..., [1.13, 0.978]]\n",
      "transformed pt ratios [[1.2, 1.3, 1.46, 2.09, 2.1], [1.09, 1.29, ..., 1.22, 1.83], ..., [1.37, 1.15]]\n",
      "transformed mass ratios [[1.2, 1.3, 1.46, 2.09, 2.1], [1.09, 1.29, ..., 1.22, 1.83], ..., [1.37, 1.15]]\n",
      "JES UP pt ratio [[1.22, 1.35, 1.56, 2.34, 2.37], [1.1, 1.32, ..., 1.94], ..., [1.41, 1.17]]\n",
      "JES DOWN pt ratio [[1.19, 1.25, 1.35, 1.83, 1.83], [1.08, 1.26, ..., 1.73], ..., [1.33, 1.12]]\n"
     ]
    }
   ],
   "source": [
    "print(\"untransformed pt ratios\", jets.pt / jets.pt_raw)\n",
    "print(\"untransformed mass ratios\", jets.mass / jets.mass_raw)\n",
    "\n",
    "print(\"transformed pt ratios\", corrected_jets.pt / corrected_jets.pt_raw)\n",
    "print(\"transformed mass ratios\", corrected_jets.mass / corrected_jets.mass_raw)\n",
    "\n",
    "print(\"JES UP pt ratio\", corrected_jets.JES_jes.up.pt / corrected_jets.pt_raw)\n",
    "print(\"JES DOWN pt ratio\", corrected_jets.JES_jes.down.pt / corrected_jets.pt_raw)"
   ]
  },
  {
   "cell_type": "markdown",
   "metadata": {},
   "source": [
    "### Applying CMS b-tagging corrections with btag_tools\n",
    "The `coffea.btag_tools` module provides the high-level utility [BTagScaleFactor](https://coffea-hep.readthedocs.io/en/latest/api/coffea.btag_tools.BTagScaleFactor.html#coffea.btag_tools.BTagScaleFactor) which calculates per-jet weights for b-tagging as well as light flavor mis-tagging efficiencies. Uncertainties can be calculated as well."
   ]
  },
  {
   "cell_type": "code",
   "execution_count": 12,
   "metadata": {
    "tags": []
   },
   "outputs": [
    {
     "name": "stdout",
     "output_type": "stream",
     "text": [
      "SF: [[1.52, 1.56, 1.59, 1.6, 1.6], [0.969, 1.57, ..., 1.6, 1.6], ..., [1.6, 1.6]]\n",
      "systematic +: [[1.72, 1.77, 1.79, 1.8, 1.8], [1.01, 1.78, ..., 1.8, 1.8], ..., [1.8, 1.8]]\n",
      "systematic -: [[1.31, 1.36, 1.38, 1.4, 1.4], [0.925, 1.37, ..., 1.4, 1.4], ..., [1.4, 1.4]]\n"
     ]
    }
   ],
   "source": [
    "from coffea.btag_tools import BTagScaleFactor\n",
    "\n",
    "btag_sf = BTagScaleFactor(\"data/DeepCSV_102XSF_V1.btag.csv.gz\", \"medium\")\n",
    "\n",
    "print(\"SF:\", btag_sf.eval(\"central\", events.Jet.hadronFlavour, abs(events.Jet.eta), events.Jet.pt))\n",
    "print(\"systematic +:\", btag_sf.eval(\"up\", events.Jet.hadronFlavour, abs(events.Jet.eta), events.Jet.pt))\n",
    "print(\"systematic -:\", btag_sf.eval(\"down\", events.Jet.hadronFlavour, abs(events.Jet.eta), events.Jet.pt))"
   ]
  },
  {
   "cell_type": "markdown",
   "metadata": {},
   "source": [
    "## Using correctionlib\n",
    "\n",
    "For the most part, using correctionlib is straightforward. We'll show here how to convert the custom correction we derived earlier (`corr`) into a correctionlib object, and save it in the json format:"
   ]
  },
  {
   "cell_type": "code",
   "execution_count": 13,
   "metadata": {
    "tags": []
   },
   "outputs": [
    {
     "data": {
      "text/html": [
       "<pre style=\"white-space:pre;overflow-x:auto;line-height:normal;font-family:Menlo,'DejaVu Sans Mono',consolas,'Courier New',monospace\"><span style=\"font-weight: bold\">CorrectionSet</span> (<span style=\"font-style: italic\">schema v2</span>)\n",
       "my custom corrections\n",
       "📂\n",
       "└── 📈 <span style=\"font-weight: bold\">gen2_to_gen1</span> (v0)\n",
       "    Reweights gen2 to agree with gen1\n",
       "    Node counts: <span style=\"font-weight: bold\">MultiBinning</span>: 1\n",
       "    ╭──────────── ▶ input ─────────────╮ ╭──────────── ▶ input ────────────╮\n",
       "    │ <span style=\"font-weight: bold\">pt</span> (real)                        │ │ <span style=\"font-weight: bold\">eta</span> (real)                      │\n",
       "    │ pt                               │ │ eta                             │\n",
       "    │ Range: [0.0, 100.0), overflow ok │ │ Range: [-3.0, 3.0), overflow ok │\n",
       "    ╰──────────────────────────────────╯ ╰─────────────────────────────────╯\n",
       "    ╭─── ◀ output ───╮\n",
       "    │ <span style=\"font-weight: bold\">out</span> (real)     │\n",
       "    │ <span style=\"font-style: italic\">No description</span> │\n",
       "    ╰────────────────╯\n",
       "</pre>\n"
      ],
      "text/plain": [
       "\u001b[1mCorrectionSet\u001b[0m (\u001b[3mschema v2\u001b[0m)\n",
       "my custom corrections\n",
       "📂\n",
       "└── 📈 \u001b[1mgen2_to_gen1\u001b[0m (v0)\n",
       "    Reweights gen2 to agree with gen1\n",
       "    Node counts: \u001b[1mMultiBinning\u001b[0m: 1\n",
       "    ╭──────────── ▶ input ─────────────╮ ╭──────────── ▶ input ────────────╮\n",
       "    │ \u001b[1mpt\u001b[0m (real)                        │ │ \u001b[1meta\u001b[0m (real)                      │\n",
       "    │ pt                               │ │ eta                             │\n",
       "    │ Range: [0.0, 100.0), overflow ok │ │ Range: [-3.0, 3.0), overflow ok │\n",
       "    ╰──────────────────────────────────╯ ╰─────────────────────────────────╯\n",
       "    ╭─── ◀ output ───╮\n",
       "    │ \u001b[1mout\u001b[0m (real)     │\n",
       "    │ \u001b[3mNo description\u001b[0m │\n",
       "    ╰────────────────╯\n"
      ]
     },
     "metadata": {},
     "output_type": "display_data"
    }
   ],
   "source": [
    "import correctionlib\n",
    "import rich\n",
    "import correctionlib.convert\n",
    "\n",
    "# without a name, the resulting object will fail validation\n",
    "sfhist.name = \"gen2_to_gen1\"\n",
    "sfhist.label = \"out\"\n",
    "clibcorr = correctionlib.convert.from_histogram(sfhist)\n",
    "clibcorr.description = \"Reweights gen2 to agree with gen1\"\n",
    "# set overflow bins behavior (default is to raise an error when out of bounds)\n",
    "clibcorr.data.flow = \"clamp\"\n",
    "\n",
    "cset = correctionlib.schemav2.CorrectionSet(\n",
    "    schema_version=2,\n",
    "    description=\"my custom corrections\",\n",
    "    corrections=[clibcorr],\n",
    ")\n",
    "rich.print(cset)\n",
    "\n",
    "with open(\"data/mycorrections.json\", \"w\") as fout:\n",
    "    fout.write(cset.model_dump_json(exclude_unset=True))"
   ]
  },
  {
   "cell_type": "markdown",
   "metadata": {},
   "source": [
    "We can now use this new correction in a similar way to the original `corr()` object:"
   ]
  },
  {
   "cell_type": "code",
   "execution_count": 14,
   "metadata": {
    "tags": []
   },
   "outputs": [
    {
     "data": {
      "text/plain": [
       "array([1.34972203, 0.98072826, 1.34972203, ..., 1.20142093, 0.51586373,\n",
       "       1.32139074], shape=(10000,))"
      ]
     },
     "execution_count": 14,
     "metadata": {},
     "output_type": "execute_result"
    }
   ],
   "source": [
    "ceval = cset.to_evaluator()\n",
    "\n",
    "ceval[\"gen2_to_gen1\"].evaluate(ptvals, etavals)"
   ]
  },
  {
   "cell_type": "code",
   "execution_count": 15,
   "metadata": {
    "tags": []
   },
   "outputs": [
    {
     "data": {
      "text/html": [
       "<pre>[[1, 0.514, 0.787, 0.91, 0.91],\n",
       " [0.398, 0.765, 0.981, 0.941, 0.91, 0.941, 1.11, 0.91],\n",
       " [1, 0.505, 0.738, 0.646, 0.854],\n",
       " [0.621, 0.613, 0.941],\n",
       " [0.426, 0.271, 0.787, 0.941, 0.941],\n",
       " [0.698, 0.765, 0.774, 0.88, 0.906, 0.941, 0.91, 1.2],\n",
       " [1, 0.777, 0.613, 0.491],\n",
       " [0.613, 0.491, 0.906, 0.941],\n",
       " [0.906],\n",
       " [0.994, 0.609, 0.765, 0.774, 0.491, 0.787, 0.91, 1.11, 0.91],\n",
       " ...,\n",
       " [0.861, 0.88],\n",
       " [0.906, 0.91, 0.91, 0.91],\n",
       " [0.514, 0.523, 0.491, 1.14, 1.2, 0.941, 1.11, 1.11, 0.91],\n",
       " [0.791, 0.787, 0.88],\n",
       " [1.14, 1.2],\n",
       " [0.981, 0.854, 1.2],\n",
       " [1.07],\n",
       " [0.459, 0.646, 0.854, 0.906, 0.854, 1.2],\n",
       " [0.941, 1.11]]\n",
       "--------------------------------------------------------------\n",
       "backend: cpu\n",
       "nbytes: 1.8 kB\n",
       "type: 40 * var * float64</pre>"
      ],
      "text/plain": [
       "<Array [[1, 0.514, 0.787, 0.91, 0.91], ..., [...]] type='40 * var * float64'>"
      ]
     },
     "execution_count": 15,
     "metadata": {},
     "output_type": "execute_result"
    }
   ],
   "source": [
    "def myJetSF(jets):\n",
    "    # Older correctionlib did not handle jagged arrays\\\n",
    "    # the solution for flattening and unflattening is left commented below\n",
    "    # j, nj = ak.flatten(jets), ak.num(jets)\n",
    "    # sf = ceval[\"gen2_to_gen1\"].evaluate(np.array(j.pt), np.array(j.eta))\n",
    "    # return ak.unflatten(sf, nj)\n",
    "    return ceval[\"gen2_to_gen1\"].evaluate(jets.pt, jets.eta)\n",
    "\n",
    "\n",
    "myJetSF(events.Jet)"
   ]
  },
  {
   "cell_type": "markdown",
   "metadata": {},
   "source": [
    "In dask mode, the only difference is that you need to call compute on stuff"
   ]
  },
  {
   "cell_type": "code",
   "execution_count": 16,
   "metadata": {},
   "outputs": [],
   "source": [
    "fname = \"coffea/tests/samples/nano_dy.root\"\n",
    "events = NanoEventsFactory.from_root(\n",
    "    {fname: \"Events\"},\n",
    "    schemaclass=NanoAODSchema,\n",
    "    metadata={\"dataset\": \"DYJets\"},\n",
    "    mode=\"dask\",\n",
    ").events()"
   ]
  },
  {
   "cell_type": "code",
   "execution_count": 17,
   "metadata": {},
   "outputs": [
    {
     "name": "stdout",
     "output_type": "stream",
     "text": [
      "starting columns: {'nConstituents', 'rawFactor', 'electronIdx2', 'nElectrons', 'btagDeepFlavC', 'Rho', 'pt_gen', 'chHEF', 'bRegCorr', 'btagDeepFlavB', 'partonFlavour', 'genJetIdxG', 'genJetIdx', 'muonIdx2', 'btagDeepC', 'electronIdxG', 'electronIdx1G', 'pt_raw', 'jercCHF', 'muonIdx1', 'electronIdx1', 'mass', 'cleanmask', 'electronIdx2G', 'neEmEF', 'qgl', 'area', 'muonIdx2G', 'pt', 'muonIdxG', 'chEmEF', 'bRegRes', 'btagDeepB', 'hadronFlavour', 'jetId', 'btagCSVV2', 'btagCMVA', 'muonSubtrFactor', 'mass_raw', 'phi', 'nMuons', 'muEF', 'jercCHPUF', 'neHEF', 'puId', 'eta', 'muonIdx1G'}\n",
      "new columns: {'jet_energy_uncertainty_jes', 'pt_jec', 'pt_orig', 'JES_jes', 'jet_energy_correction', 'mass_jec', 'mass_orig'}\n"
     ]
    }
   ],
   "source": [
    "name_map = jec_stack.blank_name_map\n",
    "name_map[\"JetPt\"] = \"pt\"\n",
    "name_map[\"JetMass\"] = \"mass\"\n",
    "name_map[\"JetEta\"] = \"eta\"\n",
    "name_map[\"JetA\"] = \"area\"\n",
    "\n",
    "jets = events.Jet\n",
    "\n",
    "jets[\"pt_raw\"] = (1 - jets[\"rawFactor\"]) * jets[\"pt\"]\n",
    "jets[\"mass_raw\"] = (1 - jets[\"rawFactor\"]) * jets[\"mass\"]\n",
    "jets[\"pt_gen\"] = ak.values_astype(ak.fill_none(jets.matched_gen.pt, 0), np.float32)\n",
    "jets[\"Rho\"] = ak.broadcast_arrays(events.fixedGridRhoFastjetAll, jets.pt)[0]\n",
    "name_map[\"ptGenJet\"] = \"pt_gen\"\n",
    "name_map[\"ptRaw\"] = \"pt_raw\"\n",
    "name_map[\"massRaw\"] = \"mass_raw\"\n",
    "name_map[\"Rho\"] = \"Rho\"\n",
    "\n",
    "corrector = FactorizedJetCorrector(\n",
    "    Fall17_17Nov2017_V32_MC_L2Relative_AK4PFPuppi=evaluator[\"Fall17_17Nov2017_V32_MC_L2Relative_AK4PFPuppi\"],\n",
    ")\n",
    "uncertainties = JetCorrectionUncertainty(Fall17_17Nov2017_V32_MC_Uncertainty_AK4PFPuppi=evaluator[\"Fall17_17Nov2017_V32_MC_Uncertainty_AK4PFPuppi\"])\n",
    "\n",
    "jet_factory = CorrectedJetsFactory(name_map, jec_stack)\n",
    "corrected_jets = jet_factory.build(jets)\n",
    "\n",
    "print(\"starting columns:\", set(ak.fields(jets)))\n",
    "print(\"new columns:\", set(ak.fields(corrected_jets)) - set(ak.fields(jets)))"
   ]
  },
  {
   "cell_type": "code",
   "execution_count": 18,
   "metadata": {},
   "outputs": [
    {
     "name": "stdout",
     "output_type": "stream",
     "text": [
      "untransformed pt ratios [[1.12, 1.09, 1.2, 1.35, 1.27], [1.03, 1.08, ..., 1, 0.918], ..., [1.13, 0.978]]\n",
      "untransformed mass ratios [[1.12, 1.09, 1.2, 1.35, 1.27], [1.03, 1.08, ..., 1, 0.918], ..., [1.13, 0.978]]\n",
      "transformed pt ratios [[1.2, 1.3, 1.46, 2.09, 2.1], [1.09, 1.29, ..., 1.22, 1.83], ..., [1.37, 1.15]]\n",
      "transformed mass ratios [[1.2, 1.3, 1.46, 2.09, 2.1], [1.09, 1.29, ..., 1.22, 1.83], ..., [1.37, 1.15]]\n",
      "JES UP pt ratio [[1.22, 1.35, 1.56, 2.34, 2.37], [1.1, 1.32, ..., 1.94], ..., [1.41, 1.17]]\n",
      "JES DOWN pt ratio [[1.19, 1.25, 1.35, 1.83, 1.83], [1.08, 1.26, ..., 1.73], ..., [1.33, 1.12]]\n"
     ]
    }
   ],
   "source": [
    "print(\"untransformed pt ratios\", (jets.pt / jets.pt_raw).compute())\n",
    "print(\"untransformed mass ratios\", (jets.mass / jets.mass_raw).compute())\n",
    "\n",
    "print(\"transformed pt ratios\", (corrected_jets.pt / corrected_jets.pt_raw).compute())\n",
    "print(\"transformed mass ratios\", (corrected_jets.mass / corrected_jets.mass_raw).compute())\n",
    "\n",
    "print(\"JES UP pt ratio\", (corrected_jets.JES_jes.up.pt / corrected_jets.pt_raw).compute())\n",
    "print(\"JES DOWN pt ratio\", (corrected_jets.JES_jes.down.pt / corrected_jets.pt_raw).compute())"
   ]
  },
  {
   "cell_type": "code",
   "execution_count": 19,
   "metadata": {},
   "outputs": [
    {
     "data": {
      "text/plain": [
       "dask.awkward<gen2-to, type='## * var * float64', npartitions=1>"
      ]
     },
     "execution_count": 19,
     "metadata": {},
     "output_type": "execute_result"
    }
   ],
   "source": [
    "myJetSF(events.Jet)"
   ]
  },
  {
   "cell_type": "code",
   "execution_count": 20,
   "metadata": {},
   "outputs": [
    {
     "data": {
      "text/html": [
       "<pre>[[1, 0.514, 0.787, 0.91, 0.91],\n",
       " [0.398, 0.765, 0.981, 0.941, 0.91, 0.941, 1.11, 0.91],\n",
       " [1, 0.505, 0.738, 0.646, 0.854],\n",
       " [0.621, 0.613, 0.941],\n",
       " [0.426, 0.271, 0.787, 0.941, 0.941],\n",
       " [0.698, 0.765, 0.774, 0.88, 0.906, 0.941, 0.91, 1.2],\n",
       " [1, 0.777, 0.613, 0.491],\n",
       " [0.613, 0.491, 0.906, 0.941],\n",
       " [0.906],\n",
       " [0.994, 0.609, 0.765, 0.774, 0.491, 0.787, 0.91, 1.11, 0.91],\n",
       " ...,\n",
       " [0.861, 0.88],\n",
       " [0.906, 0.91, 0.91, 0.91],\n",
       " [0.514, 0.523, 0.491, 1.14, 1.2, 0.941, 1.11, 1.11, 0.91],\n",
       " [0.791, 0.787, 0.88],\n",
       " [1.14, 1.2],\n",
       " [0.981, 0.854, 1.2],\n",
       " [1.07],\n",
       " [0.459, 0.646, 0.854, 0.906, 0.854, 1.2],\n",
       " [0.941, 1.11]]\n",
       "--------------------------------------------------------------\n",
       "backend: cpu\n",
       "nbytes: 1.8 kB\n",
       "type: 40 * var * float64</pre>"
      ],
      "text/plain": [
       "<Array [[1, 0.514, 0.787, 0.91, 0.91], ..., [...]] type='40 * var * float64'>"
      ]
     },
     "execution_count": 20,
     "metadata": {},
     "output_type": "execute_result"
    }
   ],
   "source": [
    "myJetSF(events.Jet).compute()"
   ]
  }
 ],
 "metadata": {
  "kernelspec": {
   "display_name": "awkward-coffea",
   "language": "python",
   "name": "awkward-coffea"
  },
  "language_info": {
   "codemirror_mode": {
    "name": "ipython",
    "version": 3
   },
   "file_extension": ".py",
   "mimetype": "text/x-python",
   "name": "python",
   "nbconvert_exporter": "python",
   "pygments_lexer": "ipython3",
   "version": "3.13.9"
  }
 },
 "nbformat": 4,
 "nbformat_minor": 4
}
