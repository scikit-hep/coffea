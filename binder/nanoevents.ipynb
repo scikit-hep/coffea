{
 "cells": [
  {
   "cell_type": "markdown",
   "metadata": {},
   "source": [
    "# Reading data with coffea NanoEvents\n",
    "\n",
    "This is a rendered copy of [nanoevents.ipynb](https://github.com/scikit-hep/coffea/blob/master/binder/nanoevents.ipynb). You can optionally run it interactively on [binder at this link](https://mybinder.org/v2/gh/coffeateam/coffea/master?filepath=binder%2Fnanoevents.ipynb)\n",
    "\n",
    "NanoEvents is a Coffea utility to wrap flat nTuple structures (such as the CMS [NanoAOD](https://www.epj-conferences.org/articles/epjconf/pdf/2019/19/epjconf_chep2018_06021.pdf) format) into a single awkward array with appropriate object methods (such as Lorentz vector methods$^*$), cross references, and nested objects, all accessed in delayed$^\\dagger$ mode from the source ROOT TTree via uproot. The interpretation of the TTree data is configurable via [schema objects](https://coffea-hep.readthedocs.io/en/latest/modules/coffea.nanoevents.html#classes), which are community-supplied  for various source file types. These schema objects allow a richer interpretation of the file contents than the `uproot` methods. Currently available schemas include:\n",
    "\n",
    "   - `BaseSchema`, which provides a simple representation of the input TTree, where each branch is available verbatim as `events.branch_name`.  Any branches that uproot supports at \"full speed\" (i.e. that are fully split and either flat or single-jagged) can be read by this schema;\n",
    "   - `NanoAODSchema`, which is optimized to provide all methods and cross-references in CMS NanoAOD format;\n",
    "   - `PFNanoAODSchema`, which builds a double-jagged particle flow candidate colllection `events.jet.constituents` from compatible PFNanoAOD input files;\n",
    "   - `TreeMakerSchema` which is designed to read TTrees made by [TreeMaker](https://github.com/TreeMaker/TreeMaker), an alternative CMS nTuplization format;\n",
    "   - `PHYSLITESchema`, for the ATLAS DAOD_PHYSLITE derivation, a compact centrally-produced data format similar to CMS NanoAOD; and\n",
    "   - `DelphesSchema`, for reading Delphes fast simulation [nTuples](https://cp3.irmp.ucl.ac.be/projects/delphes/wiki/WorkBook/RootTreeDescription).\n",
    "\n",
    "We welcome contributions for new schemas, and can assist with the design of them.\n",
    "\n",
    "$^*$ Vector methods are currently made possible via the [coffea vector](https://coffea-hep.readthedocs.io/en/latest/modules/coffea.nanoevents.methods.vector.html) methods mixin class structure. In a future version of coffea, they will instead be provided by the dedicated scikit-hep [vector](https://vector.readthedocs.io/en/latest/) library, which provides a more rich feature set. The coffea vector methods predate the release of the vector library.\n",
    "\n",
    "$^\\dagger$ _delayed_ access refers to only fetching the needed data from the (possibly remote) file when you're ready to compute the entire set of outputs. Until then, a minimal amount of metadata is used to trace the operations to eventually be performed (frequently called \"lazily\" \"booking\" operations in RDataFrame's approach to this)\n",
    "\n",
    "\n",
    "In this demo, we will use NanoEvents to read a small CMS NanoAOD sample. The events object can be instantiated as follows:"
   ]
  },
  {
   "cell_type": "code",
   "execution_count": 1,
   "metadata": {
    "tags": []
   },
   "outputs": [],
   "source": [
    "import awkward as ak\n",
    "from coffea.nanoevents import NanoEventsFactory, NanoAODSchema\n",
    "\n",
    "NanoAODSchema.warn_missing_crossrefs = False\n",
    "\n",
    "fname = \"coffea/tests/samples/nano_dy.root\"\n",
    "access_log = []\n",
    "events = NanoEventsFactory.from_root(\n",
    "    {fname: \"Events\"},\n",
    "    schemaclass=NanoAODSchema,\n",
    "    metadata={\"dataset\": \"DYJets\"},\n",
    "    mode=\"eager\",\n",
    "    access_log=access_log,\n",
    ").events()"
   ]
  },
  {
   "cell_type": "markdown",
   "metadata": {},
   "source": [
    "In the factory constructor, we also pass the desired schema version (the latest version of NanoAOD can be built with `schemaclass=NanoAODSchema`) for this file and some extra metadata that we can later access with `events.metadata`. In a later example, we will show how to set up this metadata in coffea processors where the `events` object is pre-created for you. Consider looking at the [from_root](https://coffea-hep.readthedocs.io/en/latest/api/coffea.nanoevents.NanoEventsFactory.html#coffea.nanoevents.NanoEventsFactory.from_root) class method to see all optional arguments.\n",
    "\n",
    "The `events` object is an awkward array, which at its top level is a record array with one record for each \"collection\", where a collection is a grouping of fields (TBranches) based on the naming conventions of [NanoAODSchema](https://coffea-hep.readthedocs.io/en/latest/api/coffea.nanoevents.NanoAODSchema.html). For example, in the file we opened, the branches:\n",
    "```\n",
    "Generator_binvar\n",
    "Generator_scalePDF\n",
    "Generator_weight\n",
    "Generator_x1\n",
    "Generator_x2\n",
    "Generator_xpdf1\n",
    "Generator_xpdf2\n",
    "Generator_id1\n",
    "Generator_id2\n",
    "```\n",
    "are grouped into one sub-record named `Generator` which can be accessed using either getitem or getattr syntax, i.e. `events[\"Generator\"]` or `events.Generator`. e.g."
   ]
  },
  {
   "cell_type": "code",
   "execution_count": 2,
   "metadata": {
    "tags": []
   },
   "outputs": [
    {
     "data": {
      "text/html": [
       "<pre>[1,\n",
       " -1,\n",
       " -1,\n",
       " 21,\n",
       " 21,\n",
       " 4,\n",
       " 2,\n",
       " -2,\n",
       " 2,\n",
       " 1,\n",
       " ...,\n",
       " 1,\n",
       " -2,\n",
       " 2,\n",
       " 1,\n",
       " 2,\n",
       " -2,\n",
       " -1,\n",
       " 2,\n",
       " 1]\n",
       "-----\n",
       "backend: cpu\n",
       "nbytes: 160 B\n",
       "type: 40 * int32[parameters={&quot;__doc__&quot;: &quot;id of first parton&quot;, &quot;typename&quot;: &quot;int32_t&quot;}]</pre>"
      ],
      "text/plain": [
       "<Array [1, -1, -1, 21, 21, ..., -2, -1, 2, 1] type='40 * int32[parameters={...'>"
      ]
     },
     "execution_count": 2,
     "metadata": {},
     "output_type": "execute_result"
    }
   ],
   "source": [
    "events.Generator.id1"
   ]
  },
  {
   "cell_type": "code",
   "execution_count": 3,
   "metadata": {
    "tags": []
   },
   "outputs": [
    {
     "data": {
      "text/plain": [
       "['binvar', 'scalePDF', 'weight', 'x1', 'x2', 'xpdf1', 'xpdf2', 'id1', 'id2']"
      ]
     },
     "execution_count": 3,
     "metadata": {},
     "output_type": "execute_result"
    }
   ],
   "source": [
    "# all names can be listed with:\n",
    "events.Generator.fields"
   ]
  },
  {
   "cell_type": "markdown",
   "metadata": {},
   "source": [
    "In CMS NanoAOD, each TBranch has a self-documenting help string embedded in the title field, which is carried into the NanoEvents, e.g. executing the following cell should produce a help pop-up:\n",
    "```\n",
    "Type:            Array\n",
    "String form:     [1, -1, -1, 21, 21, 4, 2, -2, 2, 1, 3, 1, ... -1, -1, 1, -2, 2, 1, 2, -2, -1, 2, 1]\n",
    "Length:          40\n",
    "File:            ~/src/awkward-1.0/awkward1/highlevel.py\n",
    "Docstring:       id of first parton\n",
    "Class docstring: ...\n",
    "```\n",
    "where the `Docstring` shows information about the content of this array."
   ]
  },
  {
   "cell_type": "code",
   "execution_count": 4,
   "metadata": {
    "tags": []
   },
   "outputs": [
    {
     "data": {
      "text/plain": [
       "\u001b[31mType:\u001b[39m            Array\n",
       "\u001b[31mString form:\u001b[39m     [1, -1, -1, 21, 21, 4, 2, -2, 2, 1, 3, ..., -1, 1, -2, 2, 1, 2, -2, -1, 2, 1]\n",
       "\u001b[31mLength:\u001b[39m          40\n",
       "\u001b[31mFile:\u001b[39m            ~/Dropbox/work/pyhep_dev/awkward/src/awkward/highlevel.py\n",
       "\u001b[31mDocstring:\u001b[39m       id of first parton\n",
       "\u001b[31mClass docstring:\u001b[39m\n",
       "Args:\n",
       "    data (#ak.contents.Content, #ak.Array, `np.ndarray`, `cp.ndarray`, `pyarrow.*`, str, dict, or iterable):\n",
       "        Data to wrap or convert into an array.\n",
       "           - If a NumPy array, the regularity of its dimensions is preserved\n",
       "             and the data are viewed, not copied.\n",
       "           - CuPy arrays are treated the same way as NumPy arrays except that\n",
       "             they default to `backend=\"cuda\"`, rather than `backend=\"cpu\"`.\n",
       "           - If a pyarrow object, calls #ak.from_arrow, preserving as much\n",
       "             metadata as possible, usually zero-copy.\n",
       "           - If a dict of str → columns, combines the columns into an\n",
       "             array of records (like Pandas's DataFrame constructor).\n",
       "           - If a string, the data are assumed to be JSON.\n",
       "           - If an iterable, calls #ak.from_iter, which assumes all dimensions\n",
       "             have irregular lengths.\n",
       "    behavior (None or dict): Custom #ak.behavior for this Array only.\n",
       "    with_name (None or str): Gives tuples and records a name that can be\n",
       "        used to override their behavior (see below).\n",
       "    check_valid (bool): If True, verify that the #layout is valid.\n",
       "    backend (None, `\"cpu\"`, `\"jax\"`, `\"cuda\"`): If `\"cpu\"`, the Array will be placed in\n",
       "        main memory for use with other `\"cpu\"` Arrays and Records; if `\"cuda\"`,\n",
       "        the Array will be placed in GPU global memory using CUDA; if `\"jax\"`, the structure\n",
       "        is copied to the CPU for use with JAX. if None, the `data` are left untouched.\n",
       "\n",
       "High-level array that can contain data of any type.\n",
       "\n",
       "For most users, this is the only class in Awkward Array that matters: it\n",
       "is the entry point for data analysis with an emphasis on usability. It\n",
       "intentionally has a minimum of methods, preferring standalone functions\n",
       "like\n",
       "\n",
       "    ak.num(array1)\n",
       "    ak.combinations(array1)\n",
       "    ak.cartesian([array1, array2])\n",
       "    ak.zip({\"x\": array1, \"y\": array2, \"z\": array3})\n",
       "\n",
       "instead of bound methods like\n",
       "\n",
       "    array1.num()\n",
       "    array1.combinations()\n",
       "    array1.cartesian([array2, array3])\n",
       "    array1.zip(...)   # ?\n",
       "\n",
       "because its namespace is valuable for domain-specific parameters and\n",
       "functionality. For example, if records contain a field named `\"num\"`,\n",
       "they can be accessed as\n",
       "\n",
       "    array1.num\n",
       "\n",
       "instead of\n",
       "\n",
       "    array1[\"num\"]\n",
       "\n",
       "without any confusion or interference from #ak.num. The same is true\n",
       "for domain-specific methods that have been attached to the data. For\n",
       "instance, an analysis of mailing addresses might have a function that\n",
       "computes zip codes, which can be attached to the data with a method\n",
       "like\n",
       "\n",
       "    latlon.zip()\n",
       "\n",
       "without any confusion or interference from #ak.zip. Custom methods like\n",
       "this can be added with #ak.behavior, and so the namespace of Array\n",
       "attributes must be kept clear for such applications.\n",
       "\n",
       "See also #ak.Record.\n",
       "\n",
       "Interfaces to other libraries\n",
       "=============================\n",
       "\n",
       "NumPy\n",
       "*****\n",
       "\n",
       "When NumPy\n",
       "[universal functions](https://docs.scipy.org/doc/numpy/reference/ufuncs.html)\n",
       "(ufuncs) are applied to an ak.Array, they are passed through the Awkward\n",
       "data structure, applied to the numerical data at its leaves, and the output\n",
       "maintains the original structure.\n",
       "\n",
       "For example,\n",
       "\n",
       "    >>> array = ak.Array([[1, 4, 9], [], [16, 25]])\n",
       "    >>> np.sqrt(array)\n",
       "    <Array [[1, 2, 3], [], [4, 5]] type='3 * var * float64'>\n",
       "\n",
       "See also #ak.Array.__array_ufunc__.\n",
       "\n",
       "Some NumPy functions other than ufuncs are also handled properly in\n",
       "NumPy >= 1.17 (see\n",
       "[NEP 18](https://numpy.org/neps/nep-0018-array-function-protocol.html))\n",
       "and if an Awkward override exists. That is,\n",
       "\n",
       "    np.concatenate\n",
       "\n",
       "can be used on an Awkward Array because\n",
       "\n",
       "    ak.concatenate\n",
       "\n",
       "exists.\n",
       "\n",
       "Pandas\n",
       "******\n",
       "\n",
       "Ragged arrays (list type) can be converted into Pandas\n",
       "[MultiIndex](https://pandas.pydata.org/pandas-docs/stable/user_guide/advanced.html)\n",
       "rows and nested records can be converted into MultiIndex columns. If the\n",
       "Awkward Array has only one \"branch\" of nested lists (i.e. different record\n",
       "fields do not have different-length lists, but a single chain of lists-of-lists\n",
       "is okay), then it can be losslessly converted into a single DataFrame.\n",
       "Otherwise, multiple DataFrames are needed, though they can be merged (with a\n",
       "loss of information).\n",
       "\n",
       "The #ak.to_dataframe function performs this conversion; if `how=None`, it\n",
       "returns a list of DataFrames; otherwise, `how` is passed to `pd.merge` when\n",
       "merging the resultant DataFrames.\n",
       "\n",
       "Numba\n",
       "*****\n",
       "\n",
       "Arrays can be used in [Numba](http://numba.pydata.org/): they can be\n",
       "passed as arguments to a Numba-compiled function or returned as return\n",
       "values. The only limitation is that Awkward Arrays cannot be *created*\n",
       "inside the Numba-compiled function; to make outputs, consider\n",
       "#ak.ArrayBuilder.\n",
       "\n",
       "Arrow\n",
       "*****\n",
       "\n",
       "Arrays are convertible to and from [Apache Arrow](https://arrow.apache.org/),\n",
       "a standard for representing nested data structures in columnar arrays.\n",
       "See #ak.to_arrow and #ak.from_arrow.\n",
       "\n",
       "JAX\n",
       "********\n",
       "\n",
       "Derivatives of a calculation on an #ak.Array (s) can be calculated with\n",
       "[JAX](https://github.com/google/jax#readme), but only if the array\n",
       "functions in `ak` / `numpy` are used, not the functions in the `jax`\n",
       "library directly (apart from e.g. `jax.grad`).\n",
       "\n",
       "Like NumPy ufuncs, the function and its derivatives are evaluated on the\n",
       "numeric leaves of the data structure, maintaining structure in the output."
      ]
     },
     "metadata": {},
     "output_type": "display_data"
    }
   ],
   "source": [
    "events.Generator.id1?"
   ]
  },
  {
   "cell_type": "markdown",
   "metadata": {},
   "source": [
    "Based on a collection's name or contents, some collections acquire additional _methods_, which are extra features exposed by the code in the mixin classes of the `coffea.nanoevents.methods` modules. For example, although `events.GenJet` has the fields:"
   ]
  },
  {
   "cell_type": "code",
   "execution_count": 5,
   "metadata": {
    "tags": []
   },
   "outputs": [
    {
     "data": {
      "text/plain": [
       "['eta', 'mass', 'phi', 'pt', 'partonFlavour', 'hadronFlavour']"
      ]
     },
     "execution_count": 5,
     "metadata": {},
     "output_type": "execute_result"
    }
   ],
   "source": [
    "events.GenJet.fields"
   ]
  },
  {
   "cell_type": "markdown",
   "metadata": {},
   "source": [
    "we can access additional attributes associated to each generated jet by virtue of the fact that they can be interpreted as [Lorentz vectors](https://coffea-hep.readthedocs.io/en/latest/api/coffea.nanoevents.methods.vector.LorentzVector.html#coffea.nanoevents.methods.vector.LorentzVector):"
   ]
  },
  {
   "cell_type": "code",
   "execution_count": 6,
   "metadata": {
    "tags": []
   },
   "outputs": [
    {
     "data": {
      "text/html": [
       "<pre>[[217, 670, 258],\n",
       " [34.5, 98.3, 1.16e+03, 38.1, 20.4, 29.7],\n",
       " [306, 62.8, 74.1, 769, 11.2],\n",
       " [170, 117, 29.3, 45.9],\n",
       " [101, 117, 129, 15.6],\n",
       " [63.1, 37.2, 33.7, 36.2],\n",
       " [303, 50.5, 1.29e+03, 278],\n",
       " [615, 282, 2.11e+03],\n",
       " [195, 47.6],\n",
       " [95, 44.6, 223, 318, 30, 108, 62.9],\n",
       " ...,\n",
       " [41.6, 36.7, 78.9, 13],\n",
       " [1.51e+03, 1.23e+03],\n",
       " [152, 160, 777, 27.1, 346, 65.1, 37.9, 27.2, 16.3],\n",
       " [35.4, 20.4],\n",
       " [20.1, 16.2],\n",
       " [34],\n",
       " [553, 283],\n",
       " [771, 452, 16],\n",
       " [76.9]]\n",
       "----------------------------------------------------\n",
       "backend: cpu\n",
       "nbytes: 836 B\n",
       "type: 40 * var * float32[parameters={&quot;typename&quot;: &quot;float[]&quot;}]</pre>"
      ],
      "text/plain": [
       "<Array [[217, 670, 258], [...], ..., [76.9]] type='40 * var * float32[param...'>"
      ]
     },
     "execution_count": 6,
     "metadata": {},
     "output_type": "execute_result"
    }
   ],
   "source": [
    "events.GenJet.energy"
   ]
  },
  {
   "cell_type": "markdown",
   "metadata": {},
   "source": [
    "We can call more complex methods, like computing the distance $\\Delta R = \\sqrt{\\Delta \\eta^2 + \\Delta \\phi ^2}$ between two LorentzVector objects:"
   ]
  },
  {
   "cell_type": "code",
   "execution_count": 7,
   "metadata": {
    "tags": []
   },
   "outputs": [
    {
     "data": {
      "text/html": [
       "<pre>[[],\n",
       " [3.13],\n",
       " [3.45, 2.18],\n",
       " [1.58, 3.76],\n",
       " [],\n",
       " [0.053],\n",
       " [0.0748],\n",
       " [],\n",
       " [],\n",
       " [1.82],\n",
       " ...,\n",
       " [0.00115],\n",
       " [],\n",
       " [0.0149],\n",
       " [],\n",
       " [0.0308],\n",
       " [],\n",
       " [0.0858],\n",
       " [],\n",
       " []]\n",
       "--------------\n",
       "backend: cpu\n",
       "nbytes: 428 B\n",
       "type: 40 * var * float32[parameters={&quot;typename&quot;: &quot;float[]&quot;}]</pre>"
      ],
      "text/plain": [
       "<Array [[], [3.13], [3.45, ...], ..., [], []] type='40 * var * float32[para...'>"
      ]
     },
     "execution_count": 7,
     "metadata": {},
     "output_type": "execute_result"
    }
   ],
   "source": [
    "# find distance between leading jet and all electrons in each event\n",
    "dr = events.Jet[:, 0].delta_r(events.Electron)\n",
    "dr"
   ]
  },
  {
   "cell_type": "code",
   "execution_count": 8,
   "metadata": {
    "tags": []
   },
   "outputs": [
    {
     "data": {
      "text/html": [
       "<pre>[None,\n",
       " 3.13,\n",
       " 2.18,\n",
       " 1.58,\n",
       " None,\n",
       " 0.053,\n",
       " 0.0748,\n",
       " None,\n",
       " None,\n",
       " 1.82,\n",
       " ...,\n",
       " 0.00115,\n",
       " None,\n",
       " 0.0149,\n",
       " None,\n",
       " 0.0308,\n",
       " None,\n",
       " 0.0858,\n",
       " None,\n",
       " None]\n",
       "---------\n",
       "backend: cpu\n",
       "nbytes: 200 B\n",
       "type: 40 * ?float32</pre>"
      ],
      "text/plain": [
       "<Array [None, 3.13, 2.18, 1.58, ..., 0.0858, None, None] type='40 * ?float32'>"
      ]
     },
     "execution_count": 8,
     "metadata": {},
     "output_type": "execute_result"
    }
   ],
   "source": [
    "# find minimum distance\n",
    "drmin = ak.min(dr, axis=1)\n",
    "drmin"
   ]
  },
  {
   "cell_type": "code",
   "execution_count": 9,
   "metadata": {
    "tags": []
   },
   "outputs": [
    {
     "data": {
      "text/html": [
       "<pre>[[None, None, None, None, None],\n",
       " [Electron, Electron, ..., Electron, Electron],\n",
       " [Electron, Electron, ..., Electron],\n",
       " [Electron, Electron, Electron],\n",
       " [None, None, None, None, None],\n",
       " [Electron, Electron, ..., Electron, Electron],\n",
       " [Electron, Electron, Electron, Electron],\n",
       " [None, None, None, None],\n",
       " [None],\n",
       " [Electron, Electron, ..., Electron],\n",
       " ...,\n",
       " [Electron, Electron],\n",
       " [None, None, None, None],\n",
       " [Electron, Electron, ..., Electron],\n",
       " [None, None, None],\n",
       " [Electron, Electron],\n",
       " [None, None, None],\n",
       " [{deltaEtaSC: -0.00986, dr03EcalRecHitSumEt: 0, ...}],\n",
       " [None, None, None, None, None, None],\n",
       " [None, None]]\n",
       "-------------------------------------------------------\n",
       "backend: cpu\n",
       "nbytes: 7.1 kB\n",
       "type: 40 * var * ?Electron[\n",
       "    deltaEtaSC: float32[parameters={&quot;__doc__&quot;: &quot;delta eta (SC,ele) with sign&quot;, &quot;typename&quot;: &quot;float[]&quot;}],\n",
       "    dr03EcalRecHitSumEt: float32[parameters={&quot;__doc__&quot;: &quot;Non-PF Ecal isolation within a delta R cone of 0.3 with electron pt &gt; 35 GeV&quot;, &quot;typename&quot;: &quot;float[]&quot;}],\n",
       "    dr03HcalDepth1TowerSumEt: float32[parameters={&quot;__doc__&quot;: &quot;Non-PF Hcal isolation within a delta R cone of 0.3 with electron pt &gt; 35 GeV&quot;, &quot;typename&quot;: &quot;float[]&quot;}],\n",
       "    dr03TkSumPt: float32[parameters={&quot;__doc__&quot;: &quot;Non-PF track isolation within a delta R cone of 0.3 with electron pt &gt; 35 GeV&quot;, &quot;typename&quot;: &quot;float[]&quot;}],\n",
       "    dr03TkSumPtHEEP: float32[parameters={&quot;__doc__&quot;: &quot;Non-PF track isolation within a delta R cone of 0.3 with electron pt &gt; 35 GeV used in HEEP ID&quot;, &quot;typename&quot;: &quot;float[]&quot;}],\n",
       "    dxy: float32[parameters={&quot;__doc__&quot;: &quot;dxy (with sign) wrt first PV, in cm&quot;, &quot;typename&quot;: &quot;float[]&quot;}],\n",
       "    dxyErr: float32[parameters={&quot;__doc__&quot;: &quot;dxy uncertainty, in cm&quot;, &quot;typename&quot;: &quot;float[]&quot;}],\n",
       "    dz: float32[parameters={&quot;__doc__&quot;: &quot;dz (with sign) wrt first PV, in cm&quot;, &quot;typename&quot;: &quot;float[]&quot;}],\n",
       "    dzErr: float32[parameters={&quot;__doc__&quot;: &quot;dz uncertainty, in cm&quot;, &quot;typename&quot;: &quot;float[]&quot;}],\n",
       "    eCorr: float32[parameters={&quot;__doc__&quot;: &quot;ratio of the calibrated energy/miniaod energy&quot;, &quot;typename&quot;: &quot;float[]&quot;}],\n",
       "    ...\n",
       "parameters={&quot;__doc__&quot;: &quot;slimmedElectrons after basic selection (pt &gt; 5 )&quot;, &quot;collection_name&quot;: &quot;Electron&quot;}]</pre>"
      ],
      "text/plain": [
       "<ElectronArray [[None, None, ..., None, None], ...] type='40 * var * ?Elect...'>"
      ]
     },
     "execution_count": 9,
     "metadata": {},
     "output_type": "execute_result"
    }
   ],
   "source": [
    "# a convenience method for this operation on all jets is available\n",
    "events.Jet.nearest(events.Electron)"
   ]
  },
  {
   "cell_type": "markdown",
   "metadata": {},
   "source": [
    "The assignment of methods classes to collections is done inside the schema object during the initial creation of the array, governed by the awkward array's `__record__` parameter and the associated behavior. See [ak.behavior](https://awkward-array.readthedocs.io/en/latest/ak.behavior.html) for a more detailed explanation of array behaviors.\n",
    "\n",
    "Additional methods provide convenience functions for interpreting some branches, e.g. CMS NanoAOD packs several jet identification flag bits into a single integer, `jetId`. By implementing the bit-twiddling in the [Jet mixin](https://github.com/CoffeaTeam/coffea/blob/7045c06b9448d2be4315e65d432e6d8bd117d6d7/coffea/nanoevents/methods/nanoaod.py#L279-L282), the analsyis code becomes more clear:"
   ]
  },
  {
   "cell_type": "code",
   "execution_count": 10,
   "metadata": {
    "tags": []
   },
   "outputs": [
    {
     "name": "stdout",
     "output_type": "stream",
     "text": [
      "[[6, 6, 6, 6, 6], [6, 2, 6, 6, 6, 6, 6, 0], ..., [6, 6, 0, ..., 6, 6], [6, 6]]\n",
      "[[True, True, True, True, True], [True, True, ..., False], ..., [True, True]]\n"
     ]
    }
   ],
   "source": [
    "print(events.Jet.jetId)\n",
    "print(events.Jet.isTight)"
   ]
  },
  {
   "cell_type": "markdown",
   "metadata": {},
   "source": [
    "We can also define convenience functions to unpack and apply some mask to a set of flags, e.g. for generated particles:"
   ]
  },
  {
   "cell_type": "code",
   "execution_count": 11,
   "metadata": {
    "tags": []
   },
   "outputs": [
    {
     "name": "stdout",
     "output_type": "stream",
     "text": [
      "Raw status flags: [[10625, 27009, 4481, 22913, 257, ..., 13884, 13884, 13884, 12876, 12876], ...]\n"
     ]
    },
    {
     "data": {
      "text/html": [
       "<pre>[[True, True, False, False, False, ..., False, False, False, False, False],\n",
       " [True, True, False, False, False, False, ..., True, True, True, True, False],\n",
       " [False, True, False, False, False, ..., False, False, False, False, False],\n",
       " [True, False, False, False, False, ..., False, False, False, False, False],\n",
       " [True, False, False, False, False, False, ..., True, True, True, False, False],\n",
       " [True, True, False, False, False, ..., False, False, False, False, False],\n",
       " [False, False, False, False, False, ..., True, False, False, False, False],\n",
       " [True, True, False, False, False, True, ..., True, True, False, False, False],\n",
       " [True, True, False, False, False, ..., False, False, False, False, False],\n",
       " [True, True, False, False, False, ..., False, False, False, False, False],\n",
       " ...,\n",
       " [True, True, False, False, False, ..., False, False, False, False, False],\n",
       " [True, True, False, False, False, True, ..., True, False, True, True, True],\n",
       " [False, False, False, False, False, ..., False, False, False, False, False],\n",
       " [True, True, False, False, False, ..., False, False, False, False, False],\n",
       " [True, True, False, False, False, ..., False, False, False, False, False],\n",
       " [True, True, False, False, False, ..., False, False, False, False, False],\n",
       " [True, True, False, True, True, True],\n",
       " [True, True, False, False, True, False, False, True, True, True],\n",
       " [True, True, False, False, False, ..., False, False, False, False, False]]\n",
       "--------------------------------------------------------------------------------\n",
       "backend: cpu\n",
       "nbytes: 1.4 kB\n",
       "type: 40 * var * bool[parameters={&quot;__doc__&quot;: &quot;gen status flags stored bitwise, bits are: 0 : isPrompt, 1 : isDecayedLeptonHadron, 2 : isTauDecayProduct, 3 : isPromptTauDecayProduct, 4 : isDirectTauDecayProduct, 5 : isDirectPromptTauDecayProduct, 6 : isDirectHadronDecayProduct, 7 : isHardProcess, 8 : fromHardProcess, 9 : isHardProcessTauDecayProduct, 10 : isDirectHardProcessTauDecayProduct, 11 : fromHardProcessBeforeFSR, 12 : isFirstCopy, 13 : isLastCopy, 14 : isLastCopyBeforeFSR, &quot;, &quot;typename&quot;: &quot;int32_t[]&quot;}]</pre>"
      ],
      "text/plain": [
       "<Array [[True, True, ..., False, False], ...] type='40 * var * bool[paramet...'>"
      ]
     },
     "execution_count": 11,
     "metadata": {},
     "output_type": "execute_result"
    }
   ],
   "source": [
    "print(f\"Raw status flags: {events.GenPart.statusFlags}\")\n",
    "events.GenPart.hasFlags([\"isPrompt\", \"isLastCopy\"])"
   ]
  },
  {
   "cell_type": "markdown",
   "metadata": {},
   "source": [
    "CMS NanoAOD also contains pre-computed cross-references for some types of collections. For example, there is a TBranch `Electron_genPartIdx` which indexes the `GenPart` collection per event to give the matched generated particle, and `-1` if no match is found. NanoEvents transforms these indices into an awkward _indexed array_ pointing to the collection, so that one can directly access the matched particle using getattr syntax:"
   ]
  },
  {
   "cell_type": "code",
   "execution_count": 12,
   "metadata": {
    "tags": []
   },
   "outputs": [
    {
     "data": {
      "text/html": [
       "<pre>[[],\n",
       " [-11],\n",
       " [-11, 11],\n",
       " [22, None],\n",
       " [],\n",
       " [None],\n",
       " [None],\n",
       " [],\n",
       " [],\n",
       " [11],\n",
       " ...,\n",
       " [11],\n",
       " [],\n",
       " [11],\n",
       " [],\n",
       " [-11],\n",
       " [],\n",
       " [None],\n",
       " [],\n",
       " []]\n",
       "------------\n",
       "backend: cpu\n",
       "nbytes: 4.8 kB\n",
       "type: 40 * var * ?int32[parameters={&quot;__doc__&quot;: &quot;PDG id&quot;, &quot;typename&quot;: &quot;int32_t[]&quot;}]</pre>"
      ],
      "text/plain": [
       "<Array [[], [-11], [-11, 11], ..., [], []] type='40 * var * ?int32[paramete...'>"
      ]
     },
     "execution_count": 12,
     "metadata": {},
     "output_type": "execute_result"
    }
   ],
   "source": [
    "events.Electron.matched_gen.pdgId"
   ]
  },
  {
   "cell_type": "code",
   "execution_count": 13,
   "metadata": {
    "tags": []
   },
   "outputs": [
    {
     "data": {
      "text/html": [
       "<pre>[[84.4, 29.4],\n",
       " [31.1],\n",
       " [53.4, 81.9],\n",
       " [29.2],\n",
       " [17.5],\n",
       " [65.9, 47.8],\n",
       " [58.5, 44.7],\n",
       " [50.2, 45.2],\n",
       " [33.3, 25.9],\n",
       " [None],\n",
       " [26.1],\n",
       " [25.8]]\n",
       "--------------\n",
       "backend: cpu\n",
       "nbytes: 1,000 B\n",
       "type: 12 * var * ?float32[parameters={&quot;__doc__&quot;: &quot;pt&quot;, &quot;typename&quot;: &quot;float[]&quot;}]</pre>"
      ],
      "text/plain": [
       "<Array [[84.4, 29.4], [31.1], ..., [25.8]] type='12 * var * ?float32[parame...'>"
      ]
     },
     "execution_count": 13,
     "metadata": {},
     "output_type": "execute_result"
    }
   ],
   "source": [
    "events.Muon[ak.num(events.Muon) > 0].matched_jet.pt"
   ]
  },
  {
   "cell_type": "markdown",
   "metadata": {},
   "source": [
    "For generated particles, the parent index is similarly mapped:"
   ]
  },
  {
   "cell_type": "code",
   "execution_count": 14,
   "metadata": {
    "tags": []
   },
   "outputs": [
    {
     "data": {
      "text/html": [
       "<pre>[[None, None, 1, 1, 23, 23, 23, 23, ..., 15, -15, -15, -15, -15, -15, 111, 111],\n",
       " [None, None, -1, 23, 23, 23, 23, ..., -11, None, None, None, None, None, 433],\n",
       " [None, None, -1, -1, 23, 23, 23, 23, ..., -423, -1, -1, -421, -421, 111, 111],\n",
       " [None, None, 21, 21, 23, -1, 23, 23, ..., -15, -15, -15, -15, -15, 111, 111],\n",
       " [None, None, 21, 21, 23, 23, 23, 23, ..., 13, 13, -13, 1, None, None, 2, 2],\n",
       " [None, None, 4, 23, 23, 23, 23, 23, ..., -15, -15, -15, 15, 15, 15, 423, 311],\n",
       " [None, None, 2, 2, 2, 23, 23, 2, 23, ..., -13, 13, 2, 2, 2, 2, 111, 111, 111],\n",
       " [None, None, -2, -2, 23, 21, 21, 23, 23, ..., 21, 21, 21, 21, None, 423, 2, 2],\n",
       " [None, None, 2, 23, 23, 23, 23, 23, ..., -15, -15, -15, -15, 111, 111, 311],\n",
       " [None, None, 1, 1, 1, 23, 21, 23, 23, 23, ..., -411, 21, 21, 1, 1, 1, 1, 3, 3],\n",
       " ...,\n",
       " [None, None, 1, 23, 23, 23, 23, 23, ..., -15, -15, -15, -15, 1, 1, 111, 111],\n",
       " [None, None, -2, 23, 23, 23, 23, 23, 13, 13, -13, -13, -13, 13],\n",
       " [None, None, 2, 2, 2, 23, 2, 23, ..., None, -413, 413, 413, 2, 2, -421, -421],\n",
       " [None, None, 1, 23, 23, 23, 23, 23, ..., -15, 15, 15, 15, -15, -15, -15, -15],\n",
       " [None, None, 2, 2, 23, 23, 21, 23, ..., 15, 15, 15, -15, -15, -15, 111, 111],\n",
       " [None, None, -2, 23, 23, None, 23, 23, ..., -15, -15, -15, 423, 4, 4, 3, 3],\n",
       " [None, None, -1, 23, 23, 23],\n",
       " [None, None, 2, 23, 23, 23, 23, -11, -11, 11],\n",
       " [None, None, 1, 1, 23, 23, 23, 23, ..., -15, -15, -15, 111, 111, 111, 111]]\n",
       "--------------------------------------------------------------------------------\n",
       "backend: cpu\n",
       "nbytes: 13.1 kB\n",
       "type: 40 * var * ?int32[parameters={&quot;__doc__&quot;: &quot;PDG id&quot;, &quot;typename&quot;: &quot;int32_t[]&quot;}]</pre>"
      ],
      "text/plain": [
       "<Array [[None, None, 1, ..., 111, 111], ...] type='40 * var * ?int32[parame...'>"
      ]
     },
     "execution_count": 14,
     "metadata": {},
     "output_type": "execute_result"
    }
   ],
   "source": [
    "events.GenPart.parent.pdgId"
   ]
  },
  {
   "cell_type": "markdown",
   "metadata": {},
   "source": [
    "In addition, using the parent index, a helper method computes the inverse mapping, namely, `children`. As such, one can find particle siblings with:"
   ]
  },
  {
   "cell_type": "code",
   "execution_count": 15,
   "metadata": {
    "tags": []
   },
   "outputs": [
    {
     "data": {
      "text/html": [
       "<pre>[[None, None, [23, 21], ..., [-16, 111, ..., 211, -211], [22, 22], [22, 22]],\n",
       " [None, None, [23], [23], [23], [23], ..., None, None, None, None, None, [431]],\n",
       " [None, None, [23, -1], [23, -1], [23], ..., [13, -14], [13, -14], [22], [22]],\n",
       " [None, None, [23, -1], ..., [-16, 111, ..., 211, -211], [22, 22], [22, 22]],\n",
       " [None, None, [23, 1], [23, 1], [23], ..., None, None, [11, -11], [11, -11]],\n",
       " [None, None, [23], [23], ..., [16, 13, -14], [16, 13, -14], [421], [310]],\n",
       " [None, None, [23, 2, 2], [23, 2, 2], ..., [...], [22], [11, -11], [11, -11]],\n",
       " [None, None, [23, 21], [23, 21], [23], ..., None, [421], [11, -11], [11, -11]],\n",
       " [None, None, [23], [23], ..., [-16, 111, ..., 311], [22, 22], [22, 22], [310]],\n",
       " [None, None, [23, 21, 21], [23, ...], ..., [11, -11], [11, -11], [11, -11]],\n",
       " ...,\n",
       " [None, None, [23], [23], [23], ..., [11, -11], [11, -11], [22, 22], [22, 22]],\n",
       " [None, None, [23], [23], [23], ..., [...], [-13], [-13, 22], [-13, 22], [13]],\n",
       " [None, None, [23, 2, 21], ..., [2, 21, ..., 11, -11], [13, -14], [13, -14]],\n",
       " [None, None, [23], ..., [...], [-16, 211, 211, -211], [-16, 211, 211, -211]],\n",
       " [None, None, [23, 21], [23, 21], ..., [-16, -11, 12], [22, 22], [22, 22]],\n",
       " [None, None, [23], [23], ..., [423, -421, 11, -11], [11, -11], [11, -11]],\n",
       " [None, None, [23], [23], [-13, 13], [-13, 13]],\n",
       " [None, None, [23], [23], [23], ..., [-11, 11], [-11, 22], [-11, 22], [11]],\n",
       " [None, None, [23, 21], [23, 21], ..., [22, ...], [22, 22], [22, 22], [22, 22]]]\n",
       "--------------------------------------------------------------------------------\n",
       "backend: cpu\n",
       "nbytes: 39.9 kB\n",
       "type: 40 * var * option[var * ?int32[parameters={&quot;__doc__&quot;: &quot;PDG id&quot;, &quot;typename&quot;: &quot;int32_t[]&quot;}]]</pre>"
      ],
      "text/plain": [
       "<Array [[None, None, ..., [22, 22]], ...] type='40 * var * option[var * ?in...'>"
      ]
     },
     "execution_count": 15,
     "metadata": {},
     "output_type": "execute_result"
    }
   ],
   "source": [
    "events.GenPart.parent.children.pdgId\n",
    "# notice this is a doubly-jagged array"
   ]
  },
  {
   "cell_type": "markdown",
   "metadata": {},
   "source": [
    "Since often one wants to shortcut repeated particles in a decay sequence, a helper method `distinctParent` is also available. Here we use it to find the parent particle ID for all prompt electrons:"
   ]
  },
  {
   "cell_type": "code",
   "execution_count": 16,
   "metadata": {
    "tags": []
   },
   "outputs": [
    {
     "data": {
      "text/html": [
       "<pre>[[],\n",
       " [23, 23],\n",
       " [23, 23],\n",
       " [],\n",
       " [],\n",
       " [],\n",
       " [],\n",
       " [23, 23],\n",
       " [],\n",
       " [23, 23],\n",
       " ...,\n",
       " [],\n",
       " [],\n",
       " [23, 23],\n",
       " [],\n",
       " [],\n",
       " [],\n",
       " [],\n",
       " [23, 23],\n",
       " []]\n",
       "----------\n",
       "backend: cpu\n",
       "nbytes: 4.8 kB\n",
       "type: 40 * var * ?int32[parameters={&quot;__doc__&quot;: &quot;PDG id&quot;, &quot;typename&quot;: &quot;int32_t[]&quot;}]</pre>"
      ],
      "text/plain": [
       "<Array [[], [23, 23], [...], ..., [23, 23], []] type='40 * var * ?int32[par...'>"
      ]
     },
     "execution_count": 16,
     "metadata": {},
     "output_type": "execute_result"
    }
   ],
   "source": [
    "events.GenPart[(abs(events.GenPart.pdgId) == 11) & events.GenPart.hasFlags([\"isPrompt\", \"isLastCopy\"])].distinctParent.pdgId"
   ]
  },
  {
   "cell_type": "markdown",
   "metadata": {},
   "source": [
    "Events can be filtered like any other awkward array using boolean fancy-indexing"
   ]
  },
  {
   "cell_type": "code",
   "execution_count": 17,
   "metadata": {
    "tags": []
   },
   "outputs": [
    {
     "data": {
      "text/html": [
       "<pre>[94.6,\n",
       " 87.6,\n",
       " 88,\n",
       " 90.4,\n",
       " 89.1,\n",
       " 31.6]\n",
       "------\n",
       "backend: cpu\n",
       "nbytes: 24 B\n",
       "type: 6 * float32[parameters={&quot;typename&quot;: &quot;float[]&quot;}]</pre>"
      ],
      "text/plain": [
       "<Array [94.6, 87.6, 88, 90.4, 89.1, 31.6] type='6 * float32[parameters={\"ty...'>"
      ]
     },
     "execution_count": 17,
     "metadata": {},
     "output_type": "execute_result"
    }
   ],
   "source": [
    "mmevents = events[ak.num(events.Muon) == 2]\n",
    "zmm = mmevents.Muon[:, 0] + mmevents.Muon[:, 1]\n",
    "zmm.mass"
   ]
  },
  {
   "cell_type": "code",
   "execution_count": 18,
   "metadata": {
    "tags": []
   },
   "outputs": [
    {
     "data": {
      "text/html": [
       "<pre>[94.6,\n",
       " 87.6,\n",
       " 88,\n",
       " 90.4,\n",
       " 89.1,\n",
       " 31.6]\n",
       "------\n",
       "backend: cpu\n",
       "nbytes: 24 B\n",
       "type: 6 * float32</pre>"
      ],
      "text/plain": [
       "<Array [94.6, 87.6, 88, 90.4, 89.1, 31.6] type='6 * float32'>"
      ]
     },
     "execution_count": 18,
     "metadata": {},
     "output_type": "execute_result"
    }
   ],
   "source": [
    "# a convenience method is available to sum vectors along an axis:\n",
    "mmevents.Muon.sum(axis=1).mass"
   ]
  },
  {
   "cell_type": "markdown",
   "metadata": {
    "tags": []
   },
   "source": [
    "As expected for this sample, most of the dimuon events have a pair invariant mass close to that of a Z boson. But what about the last event? Let's take a look at the generator information:"
   ]
  },
  {
   "cell_type": "code",
   "execution_count": 19,
   "metadata": {
    "tags": []
   },
   "outputs": [
    {
     "name": "stdout",
     "output_type": "stream",
     "text": [
      "[-13, 13]\n",
      "[False, False]\n"
     ]
    }
   ],
   "source": [
    "print(mmevents[-1].Muon.matched_gen.pdgId)\n",
    "print(mmevents[-1].Muon.matched_gen.hasFlags([\"isPrompt\"]))"
   ]
  },
  {
   "cell_type": "markdown",
   "metadata": {},
   "source": [
    "So they are real generated muons, but they are not prompt (i.e. from the initial decay of a heavy resonance)\n",
    "\n",
    "Let's look at their parent particles:"
   ]
  },
  {
   "cell_type": "code",
   "execution_count": 20,
   "metadata": {
    "tags": []
   },
   "outputs": [
    {
     "data": {
      "text/html": [
       "<pre>[-15,\n",
       " 15]\n",
       "-----\n",
       "backend: cpu\n",
       "nbytes: 4.3 kB\n",
       "type: 2 * ?int32[parameters={&quot;__doc__&quot;: &quot;PDG id&quot;, &quot;typename&quot;: &quot;int32_t[]&quot;}]</pre>"
      ],
      "text/plain": [
       "<Array [-15, 15] type='2 * ?int32[parameters={\"__doc__\": \"PDG id\", \"typenam...'>"
      ]
     },
     "execution_count": 20,
     "metadata": {},
     "output_type": "execute_result"
    }
   ],
   "source": [
    "mmevents[-1].Muon.matched_gen.parent.pdgId"
   ]
  },
  {
   "cell_type": "markdown",
   "metadata": {},
   "source": [
    "aha! They are muons coming from tau lepton decays, and hence a fair amount of the Z mass is carried away by the neutrinos:"
   ]
  },
  {
   "cell_type": "code",
   "execution_count": 21,
   "metadata": {
    "tags": []
   },
   "outputs": [
    {
     "name": "stdout",
     "output_type": "stream",
     "text": [
      "31.265434\n",
      "91.683304\n"
     ]
    }
   ],
   "source": [
    "print(mmevents.Muon.matched_gen.sum().mass[-1])\n",
    "print(mmevents.Muon.matched_gen.parent.sum().mass[-1])"
   ]
  },
  {
   "cell_type": "markdown",
   "metadata": {},
   "source": [
    "One can assign new variables to the arrays, with some caveats:\n",
    "\n",
    " * Assignment must use setitem (`events[\"path\", \"to\", \"name\"] = value`)\n",
    " * Assignment to a sliced `events` won't be accessible from the original variable\n",
    " * New variables are not visible from cross-references"
   ]
  },
  {
   "cell_type": "code",
   "execution_count": 22,
   "metadata": {
    "tags": []
   },
   "outputs": [
    {
     "data": {
      "text/html": [
       "<pre>[[],\n",
       " [121],\n",
       " [],\n",
       " [],\n",
       " [],\n",
       " []]\n",
       "-------\n",
       "backend: cpu\n",
       "nbytes: 60 B\n",
       "type: 6 * var * float32[parameters={&quot;typename&quot;: &quot;float[]&quot;}]</pre>"
      ],
      "text/plain": [
       "<Array [[], [121], [], [], [], []] type='6 * var * float32[parameters={\"typ...'>"
      ]
     },
     "execution_count": 22,
     "metadata": {},
     "output_type": "execute_result"
    }
   ],
   "source": [
    "mmevents[\"Electron\", \"myvariable\"] = mmevents.Electron.pt + zmm.mass\n",
    "mmevents.Electron.myvariable"
   ]
  },
  {
   "cell_type": "markdown",
   "metadata": {},
   "source": [
    "## Virtual mode\n",
    "\n",
    "NanoEvents supports reading lazily in \"virtual\" mode. In that mode, branches will only be loaded from the root file when an explicit computation needs them. This is the default mode of operation of NanoEvents and we will be using this moving forward."
   ]
  },
  {
   "cell_type": "code",
   "execution_count": 23,
   "metadata": {},
   "outputs": [],
   "source": [
    "fname = \"coffea/tests/samples/nano_dy.root\"\n",
    "access_log = []\n",
    "events = NanoEventsFactory.from_root(\n",
    "    {fname: \"Events\"},\n",
    "    schemaclass=NanoAODSchema,\n",
    "    metadata={\"dataset\": \"DYJets\"},\n",
    "    mode=\"virtual\",\n",
    "    access_log=access_log,\n",
    ").events()"
   ]
  },
  {
   "cell_type": "code",
   "execution_count": 24,
   "metadata": {},
   "outputs": [
    {
     "name": "stdout",
     "output_type": "stream",
     "text": [
      "[[None, None, None, None, None], [Electron, Electron, ..., Electron], ..., [None, None]]\n",
      "['nJet', 'nElectron', 'Jet_pt', 'Jet_phi', 'Jet_eta', 'Electron_pt', 'Electron_phi', 'Electron_eta']\n"
     ]
    }
   ],
   "source": [
    "print(events.Jet.nearest(events.Electron))\n",
    "print(access_log)"
   ]
  },
  {
   "cell_type": "code",
   "execution_count": 25,
   "metadata": {},
   "outputs": [
    {
     "data": {
      "text/html": [
       "<pre>[??,\n",
       " ??,\n",
       " ??,\n",
       " ??,\n",
       " ??,\n",
       " ??,\n",
       " ??,\n",
       " ??,\n",
       " ??,\n",
       " ??,\n",
       " ...,\n",
       " ??,\n",
       " ??,\n",
       " ??,\n",
       " ??,\n",
       " ??,\n",
       " ??,\n",
       " ??,\n",
       " ??,\n",
       " ??]\n",
       "-----\n",
       "backend: cpu\n",
       "nbytes: 1.1 kB\n",
       "type: 40 * var * int32[parameters={&quot;__doc__&quot;: &quot;Jet ID flags bit1 is loose (always false in 2017 since it does not exist), bit2 is tight, bit3 is tightLepVeto&quot;, &quot;typename&quot;: &quot;int32_t[]&quot;}]</pre>"
      ],
      "text/plain": [
       "<Array [??, ??, ??, ??, ..., ??, ??, ??, ??] type='40 * var * int32[paramet...'>"
      ]
     },
     "execution_count": 25,
     "metadata": {},
     "output_type": "execute_result"
    }
   ],
   "source": [
    "events.Jet.jetId"
   ]
  },
  {
   "cell_type": "code",
   "execution_count": 26,
   "metadata": {},
   "outputs": [
    {
     "data": {
      "text/html": [
       "<pre>[[True, True, True, True, True],\n",
       " [True, True, True, True, True, True, True, False],\n",
       " [True, True, True, True, True],\n",
       " [False, True, True],\n",
       " [True, True, True, True, True],\n",
       " [True, False, True, True, True, True, True, True],\n",
       " [True, False, True, True],\n",
       " [True, True, True, True],\n",
       " [True],\n",
       " [False, True, True, True, True, True, True, True, True],\n",
       " ...,\n",
       " [True, True],\n",
       " [True, True, True, True],\n",
       " [True, True, True, True, True, True, True, True, True],\n",
       " [True, True, True],\n",
       " [True, True],\n",
       " [True, True, True],\n",
       " [True],\n",
       " [True, True, False, True, True, True],\n",
       " [True, True]]\n",
       "---------------------------------------------------------\n",
       "backend: cpu\n",
       "nbytes: 516 B\n",
       "type: 40 * var * bool[parameters={&quot;__doc__&quot;: &quot;Jet ID flags bit1 is loose (always false in 2017 since it does not exist), bit2 is tight, bit3 is tightLepVeto&quot;, &quot;typename&quot;: &quot;int32_t[]&quot;}]</pre>"
      ],
      "text/plain": [
       "<Array [[True, True, ..., True, True], ...] type='40 * var * bool[parameter...'>"
      ]
     },
     "execution_count": 26,
     "metadata": {},
     "output_type": "execute_result"
    }
   ],
   "source": [
    "events.Jet.isTight"
   ]
  },
  {
   "cell_type": "code",
   "execution_count": 27,
   "metadata": {},
   "outputs": [
    {
     "data": {
      "text/plain": [
       "['nJet',\n",
       " 'nElectron',\n",
       " 'Jet_pt',\n",
       " 'Jet_phi',\n",
       " 'Jet_eta',\n",
       " 'Electron_pt',\n",
       " 'Electron_phi',\n",
       " 'Electron_eta',\n",
       " 'Jet_jetId']"
      ]
     },
     "execution_count": 27,
     "metadata": {},
     "output_type": "execute_result"
    }
   ],
   "source": [
    "access_log"
   ]
  },
  {
   "cell_type": "code",
   "execution_count": 28,
   "metadata": {},
   "outputs": [
    {
     "data": {
      "text/html": [
       "<pre>[[6, 6, 6, 6, 6],\n",
       " [6, 2, 6, 6, 6, 6, 6, 0],\n",
       " [6, 2, 2, 6, 6],\n",
       " [0, 6, 6],\n",
       " [6, 2, 6, 6, 6],\n",
       " [6, 0, 2, 6, 6, 6, 6, 6],\n",
       " [6, 0, 6, 6],\n",
       " [6, 6, 6, 6],\n",
       " [6],\n",
       " [0, 2, 6, 6, 6, 6, 6, 6, 6],\n",
       " ...,\n",
       " [2, 6],\n",
       " [6, 6, 6, 6],\n",
       " [2, 6, 6, 6, 6, 6, 6, 6, 6],\n",
       " [6, 6, 6],\n",
       " [6, 6],\n",
       " [6, 6, 6],\n",
       " [6],\n",
       " [6, 6, 0, 6, 6, 6],\n",
       " [6, 6]]\n",
       "-----------------------------\n",
       "backend: cpu\n",
       "nbytes: 1.1 kB\n",
       "type: 40 * var * int32[parameters={&quot;__doc__&quot;: &quot;Jet ID flags bit1 is loose (always false in 2017 since it does not exist), bit2 is tight, bit3 is tightLepVeto&quot;, &quot;typename&quot;: &quot;int32_t[]&quot;}]</pre>"
      ],
      "text/plain": [
       "<Array [[6, 6, 6, 6, 6], [6, ...], ..., [6, 6]] type='40 * var * int32[para...'>"
      ]
     },
     "execution_count": 28,
     "metadata": {},
     "output_type": "execute_result"
    }
   ],
   "source": [
    "events.Jet.jetId"
   ]
  },
  {
   "cell_type": "code",
   "execution_count": 29,
   "metadata": {},
   "outputs": [
    {
     "data": {
      "text/html": [
       "<pre>[94.6,\n",
       " 87.6,\n",
       " 88,\n",
       " 90.4,\n",
       " 89.1,\n",
       " 31.6]\n",
       "------\n",
       "backend: cpu\n",
       "nbytes: 24 B\n",
       "type: 6 * float32[parameters={&quot;typename&quot;: &quot;float[]&quot;}]</pre>"
      ],
      "text/plain": [
       "<Array [94.6, 87.6, 88, 90.4, 89.1, 31.6] type='6 * float32[parameters={\"ty...'>"
      ]
     },
     "execution_count": 29,
     "metadata": {},
     "output_type": "execute_result"
    }
   ],
   "source": [
    "mmevents = events[ak.num(events.Muon) == 2]\n",
    "zmm = mmevents.Muon[:, 0] + mmevents.Muon[:, 1]\n",
    "zmm.mass"
   ]
  },
  {
   "cell_type": "code",
   "execution_count": 30,
   "metadata": {},
   "outputs": [
    {
     "data": {
      "text/plain": [
       "['nJet',\n",
       " 'nElectron',\n",
       " 'Jet_pt',\n",
       " 'Jet_phi',\n",
       " 'Jet_eta',\n",
       " 'Electron_pt',\n",
       " 'Electron_phi',\n",
       " 'Electron_eta',\n",
       " 'Jet_jetId',\n",
       " 'nMuon',\n",
       " 'Muon_pt',\n",
       " 'Muon_phi',\n",
       " 'Muon_eta',\n",
       " 'Muon_mass',\n",
       " 'Muon_charge']"
      ]
     },
     "execution_count": 30,
     "metadata": {},
     "output_type": "execute_result"
    }
   ],
   "source": [
    "access_log"
   ]
  },
  {
   "cell_type": "markdown",
   "metadata": {},
   "source": [
    "The `access_log` keeps track of the branch we load in a time-ordered manner. Notice how after every cell above, only the branches that are actually required to evaluate that cell are loaded."
   ]
  },
  {
   "cell_type": "markdown",
   "metadata": {},
   "source": [
    "## Dask mode\n",
    "\n",
    "Finally, NanoEvents supports \"dask\" mode. In that mode, the whole `events` object is a lazy `dask-awkward` (https://dask-awkward.readthedocs.io/en/stable/#) array. All the operations create a computational graph of \"to be evaluated\" steps that actually only run when `compute` gets called. Feel free to read about `dask` and `dask.array` too to understand general concepts of how it works."
   ]
  },
  {
   "cell_type": "code",
   "execution_count": 31,
   "metadata": {},
   "outputs": [],
   "source": [
    "import dask\n",
    "\n",
    "fname = \"coffea/tests/samples/nano_dy.root\"\n",
    "events = NanoEventsFactory.from_root(\n",
    "    {fname: \"Events\"},\n",
    "    schemaclass=NanoAODSchema,\n",
    "    metadata={\"dataset\": \"DYJets\"},\n",
    "    mode=\"dask\",\n",
    ").events()"
   ]
  },
  {
   "cell_type": "code",
   "execution_count": 32,
   "metadata": {},
   "outputs": [
    {
     "data": {
      "text/plain": [
       "dask.awkward<firsts, type='## * var * ?Electron', npartitions=1>"
      ]
     },
     "execution_count": 32,
     "metadata": {},
     "output_type": "execute_result"
    }
   ],
   "source": [
    "events.Jet.nearest(events.Electron)"
   ]
  },
  {
   "cell_type": "code",
   "execution_count": 33,
   "metadata": {},
   "outputs": [
    {
     "name": "stdout",
     "output_type": "stream",
     "text": [
      "[[6, 6, 6, 6, 6], [6, 2, 6, 6, 6, 6, 6, 0], ..., [6, 6, 0, ..., 6, 6], [6, 6]]\n",
      "[[True, True, True, True, True], [True, True, ..., False], ..., [True, True]]\n"
     ]
    }
   ],
   "source": [
    "a, b = dask.compute(events.Jet.jetId, events.Jet.isTight)\n",
    "print(a)\n",
    "print(b)"
   ]
  },
  {
   "cell_type": "code",
   "execution_count": 34,
   "metadata": {},
   "outputs": [],
   "source": [
    "mmevents = events[ak.num(events.Muon) == 2]\n",
    "zmm = mmevents.Muon[:, 0] + mmevents.Muon[:, 1]\n",
    "zmm_mass = zmm.mass"
   ]
  },
  {
   "cell_type": "code",
   "execution_count": 35,
   "metadata": {},
   "outputs": [
    {
     "data": {
      "image/png": "[encoded data removed]",
      "text/plain": [
       "<IPython.core.display.Image object>"
      ]
     },
     "execution_count": 35,
     "metadata": {},
     "output_type": "execute_result"
    }
   ],
   "source": [
    "zmm_mass.visualize(rankdir=\"LR\", optimize_graph=False)"
   ]
  },
  {
   "cell_type": "code",
   "execution_count": 36,
   "metadata": {},
   "outputs": [
    {
     "data": {
      "image/png": "[encoded data removed]",
      "text/plain": [
       "<IPython.core.display.Image object>"
      ]
     },
     "execution_count": 36,
     "metadata": {},
     "output_type": "execute_result"
    }
   ],
   "source": [
    "from hist.dask import Hist\n",
    "\n",
    "h = Hist.new.Reg(4, 80, 100).Double().fill(zmm_mass)\n",
    "h.visualize(rankdir=\"LR\", optimize_graph=False)"
   ]
  },
  {
   "cell_type": "code",
   "execution_count": 37,
   "metadata": {},
   "outputs": [
    {
     "data": {
      "text/plain": [
       "[StairsArtists(stairs=<matplotlib.patches.StepPatch object at 0x148cad160>, errorbar=<ErrorbarContainer object of 3 artists>, legend_artist=<ErrorbarContainer object of 3 artists>)]"
      ]
     },
     "execution_count": 37,
     "metadata": {},
     "output_type": "execute_result"
    },
    {
     "data": {
      "image/png": "[encoded data removed]",
      "text/plain": [
       "<Figure size 640x480 with 1 Axes>"
      ]
     },
     "metadata": {},
     "output_type": "display_data"
    }
   ],
   "source": [
    "h.compute().plot()"
   ]
  }
 ],
 "metadata": {
  "kernelspec": {
   "display_name": "awkward-coffea",
   "language": "python",
   "name": "awkward-coffea"
  },
  "language_info": {
   "codemirror_mode": {
    "name": "ipython",
    "version": 3
   },
   "file_extension": ".py",
   "mimetype": "text/x-python",
   "name": "python",
   "nbconvert_exporter": "python",
   "pygments_lexer": "ipython3",
   "version": "3.13.9"
  }
 },
 "nbformat": 4,
 "nbformat_minor": 4
}
