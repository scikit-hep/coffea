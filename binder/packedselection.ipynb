{
 "cells": [
  {
   "cell_type": "markdown",
   "id": "0ef5ce86-6598-46ad-8fd4-c074b13c06d2",
   "metadata": {},
   "source": [
    "# Packed Selection\n",
    "\n",
    "This is a rendered copy of [packedselection.ipynb](https://github.com/scikit-hep/coffea/blob/master/binder/packedselection.ipynb). You can optionally run it interactively on [binder at this link](https://mybinder.org/v2/gh/coffeateam/coffea/master?filepath=binder%2Fpackedselection.ipynb)\n",
    "\n",
    "In `coffea`, `PackedSelection` is a class that can store several boolean arrays in a memory-efficient manner and evaluate arbitrary combinations of boolean requirements in an CPU-efficient way. Supported inputs include 1D numpy or awkward arrays and it has built-in functionalities to form analysis in signal and control regions, and to implement cutflow or \"N-1\" plots.\n",
    "\n",
    "`coffea` 2025 supports multiple modes, including `eager` (which loads all data from the file, typically best for testing only small input files), `virtual` (which functions the most like `coffea 0.7` and only loads data as-needed), and `dask` (the original variation introduced in CalVer `coffea` to utilize fully DAG-building via `dask` / `dask-awkward`). Let's first read a sample file of 40 Drell-Yan events to demonstrate the utilities using our `NanoAODSchema` as our schema; feel free to swap between `eager` and `virtual` modes for the `events` array."
   ]
  },
  {
   "cell_type": "code",
   "execution_count": 1,
   "id": "d144affc-9918-4642-940e-148335eed6b7",
   "metadata": {},
   "outputs": [
    {
     "data": {
      "text/html": [
       "<pre>[{Electron: [], PuppiMET: {phi: 1.64, ...}, FsrPhoton: [], ChsMET: {...}, ...},\n",
       " {Electron: [{deltaEtaSC: -0.0145, ...}], PuppiMET: {...}, FsrPhoton: [], ...},\n",
       " {Electron: [Electron, ...], PuppiMET: {...}, ...},\n",
       " {Electron: [Electron, ...], PuppiMET: {...}, ...},\n",
       " {Electron: [], PuppiMET: {phi: 0.538, ...}, FsrPhoton: [], ChsMET: {...}, ...},\n",
       " {Electron: [{deltaEtaSC: -0.0232, ...}], PuppiMET: {...}, FsrPhoton: [], ...},\n",
       " {Electron: [{deltaEtaSC: 0.00415, ...}], PuppiMET: {...}, FsrPhoton: [], ...},\n",
       " {Electron: [], PuppiMET: {phi: 0.105, ...}, FsrPhoton: [], ChsMET: {...}, ...},\n",
       " {Electron: [], PuppiMET: {phi: -0.513, ...}, FsrPhoton: [], ChsMET: ..., ...},\n",
       " {Electron: [{deltaEtaSC: 0.00813, ...}], PuppiMET: {...}, FsrPhoton: [], ...},\n",
       " ...,\n",
       " {Electron: [{deltaEtaSC: -0.00836, ...}], PuppiMET: {...}, ...},\n",
       " {Electron: [], PuppiMET: {phi: 0.612, ...}, FsrPhoton: [], ChsMET: {...}, ...},\n",
       " {Electron: [{deltaEtaSC: -0.00405, ...}], PuppiMET: {...}, ...},\n",
       " {Electron: [], PuppiMET: {phi: 2.83, ...}, FsrPhoton: [], ChsMET: {...}, ...},\n",
       " {Electron: [{deltaEtaSC: 0.053, ...}], PuppiMET: {...}, FsrPhoton: [], ...},\n",
       " {Electron: [], PuppiMET: {phi: 1.44, ...}, FsrPhoton: [], ChsMET: {...}, ...},\n",
       " {Electron: [{deltaEtaSC: -0.00986, ...}], PuppiMET: {...}, ...},\n",
       " {Electron: [], PuppiMET: {phi: -2.92, ...}, FsrPhoton: [], ChsMET: {...}, ...},\n",
       " {Electron: [], PuppiMET: {phi: -0.415, ...}, FsrPhoton: [], ChsMET: ..., ...}]\n",
       "--------------------------------------------------------------------------------\n",
       "backend: cpu\n",
       "nbytes: 243.3 kB\n",
       "type: 40 * event</pre>"
      ],
      "text/plain": [
       "<NanoEventsArray [<NanoAOD event>, ...] type='40 * event'>"
      ]
     },
     "execution_count": 1,
     "metadata": {},
     "output_type": "execute_result"
    }
   ],
   "source": [
    "import awkward as ak\n",
    "import numpy as np\n",
    "from coffea.nanoevents import NanoEventsFactory, NanoAODSchema\n",
    "from matplotlib import pyplot as plt\n",
    "\n",
    "NanoAODSchema.warn_missing_crossrefs = False\n",
    "\n",
    "fname = \"coffea/tests/samples/nano_dy.root\"\n",
    "events = NanoEventsFactory.from_root(\n",
    "    {fname: \"Events\"},\n",
    "    metadata={\"dataset\": \"nano_dy\"},\n",
    "    schemaclass=NanoAODSchema,\n",
    "    mode=\"eager\",\n",
    ").events()\n",
    "\n",
    "events"
   ]
  },
  {
   "cell_type": "markdown",
   "id": "919582c0-9dc0-40d0-8e25-076dc4a848cd",
   "metadata": {},
   "source": [
    "Now let's import `PackedSelection`, and create an instance of it."
   ]
  },
  {
   "cell_type": "code",
   "execution_count": 2,
   "id": "e4c80e4f-f4bd-4a92-b5fe-4c9faaf22bf7",
   "metadata": {},
   "outputs": [],
   "source": [
    "from coffea.analysis_tools import PackedSelection\n",
    "\n",
    "selection = PackedSelection()"
   ]
  },
  {
   "cell_type": "markdown",
   "id": "18124df0-d370-4c3e-9e25-a9500eb1daf1",
   "metadata": {},
   "source": [
    "We can create a boolean mask and add this to our selection by using the `add` method. This adds the following \"cut\" to our selection and names it \"twoElectron\"."
   ]
  },
  {
   "cell_type": "code",
   "execution_count": 3,
   "id": "b3d0e60b-48b6-4c8b-bb1a-7d8e295cd23b",
   "metadata": {},
   "outputs": [],
   "source": [
    "selection.add(\"twoElectron\", ak.num(events.Electron) == 2)"
   ]
  },
  {
   "cell_type": "markdown",
   "id": "324c3acb-eb43-440a-a23e-3e31dded970a",
   "metadata": {},
   "source": [
    "We've added one \"cut\" to our selection. Now let's add a couple more."
   ]
  },
  {
   "cell_type": "code",
   "execution_count": 4,
   "id": "0e45733b-36dc-43b5-94d2-6cc9f974e830",
   "metadata": {},
   "outputs": [],
   "source": [
    "selection.add(\"eleOppSign\", ak.sum(events.Electron.charge, axis=1) == 0)\n",
    "selection.add(\"noElectron\", ak.num(events.Electron) == 0)"
   ]
  },
  {
   "cell_type": "markdown",
   "id": "71edfec0-537d-42a7-86df-f96423f69371",
   "metadata": {},
   "source": [
    "To avoid repeating calling `add` multiple times, we can just use the `add_multiple` method which does just that."
   ]
  },
  {
   "cell_type": "code",
   "execution_count": 5,
   "id": "f16c75b5-71bf-4957-835e-efabda6978cf",
   "metadata": {},
   "outputs": [],
   "source": [
    "selection.add_multiple(\n",
    "    {\n",
    "        \"twoMuon\": ak.num(events.Muon) == 2,\n",
    "        \"muOppSign\": ak.sum(events.Muon.charge, axis=1) == 0,\n",
    "        \"noMuon\": ak.num(events.Muon) == 0,\n",
    "        \"leadPt20\": ak.any(events.Electron.pt >= 20.0, axis=1) | ak.any(events.Muon.pt >= 20.0, axis=1),\n",
    "    }\n",
    ")"
   ]
  },
  {
   "cell_type": "markdown",
   "id": "d0e968df-afdd-413b-a7ab-29f05f1e25c4",
   "metadata": {},
   "source": [
    "By viewing the `PackedSelection` instance, one can see the names of the added selections, whether it is operating in delayed mode or not, the number of added selections and the maximum supported number of selections."
   ]
  },
  {
   "cell_type": "code",
   "execution_count": 6,
   "id": "927d8de4-53b7-4250-b24c-17fa16c16526",
   "metadata": {},
   "outputs": [
    {
     "name": "stdout",
     "output_type": "stream",
     "text": [
      "PackedSelection(selections=('twoElectron', 'eleOppSign', 'noElectron', 'twoMuon', 'muOppSign', 'noMuon', 'leadPt20'), delayed_mode=False, items=7, maxitems=32)\n"
     ]
    }
   ],
   "source": [
    "print(selection)"
   ]
  },
  {
   "cell_type": "markdown",
   "id": "434fa647-9e54-4678-adf5-c75e25cc032e",
   "metadata": {},
   "source": [
    "To evaluate a boolean mask (e.g. to filter events) we can use the `selection.all(*names)` function, which will compute the logical AND of all listed boolean selections."
   ]
  },
  {
   "cell_type": "code",
   "execution_count": 7,
   "id": "0055353a-735b-4ac7-a2f1-698d2d42008b",
   "metadata": {},
   "outputs": [
    {
     "data": {
      "text/plain": [
       "array([False, False,  True, False, False, False, False, False, False,\n",
       "       False, False, False, False, False, False, False, False, False,\n",
       "       False, False,  True,  True, False, False, False, False, False,\n",
       "       False, False, False, False, False, False, False, False, False,\n",
       "       False, False, False, False])"
      ]
     },
     "execution_count": 7,
     "metadata": {},
     "output_type": "execute_result"
    }
   ],
   "source": [
    "selection.all(\"twoElectron\", \"noMuon\", \"leadPt20\")"
   ]
  },
  {
   "cell_type": "markdown",
   "id": "b81d7b70-29cd-46b1-8d23-8f538b109c54",
   "metadata": {},
   "source": [
    "We can also be more specific and require that a specific set of selections have a given value (with the unspecified ones allowed to be either true or false) using `selection.require`."
   ]
  },
  {
   "cell_type": "code",
   "execution_count": 8,
   "id": "5e6a478e-e69b-4181-8f8a-398bd6810375",
   "metadata": {
    "tags": []
   },
   "outputs": [
    {
     "data": {
      "text/plain": [
       "array([False, False, False,  True, False, False, False, False, False,\n",
       "       False, False, False, False, False, False, False, False, False,\n",
       "       False, False, False, False, False, False, False, False, False,\n",
       "       False, False, False, False, False, False, False, False, False,\n",
       "       False, False, False, False])"
      ]
     },
     "execution_count": 8,
     "metadata": {},
     "output_type": "execute_result"
    }
   ],
   "source": [
    "selection.require(twoElectron=True, noMuon=True, eleOppSign=False)"
   ]
  },
  {
   "cell_type": "markdown",
   "id": "52a11d5f-3d39-4146-b38d-f783039ccac9",
   "metadata": {},
   "source": [
    "There exist also the `allfalse` and `any` methods where the first one is the opposite of `all` and the second one is a logical OR between all listed boolean selections."
   ]
  },
  {
   "cell_type": "markdown",
   "id": "9e36a33b-2fcc-4380-8a0c-9c3402315e61",
   "metadata": {},
   "source": [
    "Using `PackedSelection`, we are now able to perform an N-1 style selection using the `nminusone(*names)` method. This will perform an N-1 style selection by using as \"N\" the provided names and will exclude each named cut one at a time in order. In the end it will also peform a selection using all N cuts."
   ]
  },
  {
   "cell_type": "code",
   "execution_count": 9,
   "id": "77bc1bdc-3449-425a-8853-e2622fc4ed94",
   "metadata": {},
   "outputs": [
    {
     "data": {
      "text/plain": [
       "NminusOne(selections=('twoElectron', 'noMuon', 'leadPt20'), commonmasked=False, weighted=False, weightsmodifier=None)"
      ]
     },
     "execution_count": 9,
     "metadata": {},
     "output_type": "execute_result"
    }
   ],
   "source": [
    "nminusone = selection.nminusone(\"twoElectron\", \"noMuon\", \"leadPt20\")\n",
    "nminusone"
   ]
  },
  {
   "cell_type": "markdown",
   "id": "164c7fb8-f582-4892-8e78-a54e47820721",
   "metadata": {
    "slideshow": {
     "slide_type": "-"
    }
   },
   "source": [
    "This returns an `NminusOne` object which has the following methods: `result()`, `print()`, `yieldhist()`, `to_npz()` and `plot_vars()`"
   ]
  },
  {
   "cell_type": "markdown",
   "id": "7945c67d-5488-426c-b81c-56e2d09cee96",
   "metadata": {},
   "source": [
    "Let's look at the results of the N-1 selection."
   ]
  },
  {
   "cell_type": "code",
   "execution_count": 10,
   "id": "eef67293-1f22-4ea0-ad7a-ac95a424a14c",
   "metadata": {},
   "outputs": [
    {
     "name": "stdout",
     "output_type": "stream",
     "text": [
      "<class 'coffea.analysis_tools.NminusOneResult'> ('labels', 'nev', 'masks')\n"
     ]
    }
   ],
   "source": [
    "res = nminusone.result()\n",
    "print(type(res), res._fields)"
   ]
  },
  {
   "cell_type": "markdown",
   "id": "7cdcfac7-ec59-447d-a285-609332042306",
   "metadata": {
    "slideshow": {
     "slide_type": "-"
    }
   },
   "source": [
    "This is just a `namedtuple` with the attributes `labels`, `nev` and `masks`. So we can say:"
   ]
  },
  {
   "cell_type": "code",
   "execution_count": 11,
   "id": "5ee9d9e6-b496-4cc3-9d36-578ce096ff57",
   "metadata": {},
   "outputs": [
    {
     "data": {
      "text/plain": [
       "(['initial', 'N - twoElectron', 'N - noMuon', 'N - leadPt20', 'N'],\n",
       " [40, np.int64(10), np.int64(3), np.int64(5), np.int64(3)],\n",
       " [array([False,  True,  True, False, False, False, False, False, False,\n",
       "          True, False, False, False, False, False,  True,  True, False,\n",
       "         False, False,  True,  True, False, False, False, False, False,\n",
       "          True, False,  True, False, False, False,  True, False, False,\n",
       "         False, False, False, False]),\n",
       "  array([False, False,  True, False, False, False, False, False, False,\n",
       "         False, False, False, False, False, False, False, False, False,\n",
       "         False, False,  True,  True, False, False, False, False, False,\n",
       "         False, False, False, False, False, False, False, False, False,\n",
       "         False, False, False, False]),\n",
       "  array([False, False,  True,  True, False, False, False, False, False,\n",
       "         False, False, False, False, False, False, False, False, False,\n",
       "          True, False,  True,  True, False, False, False, False, False,\n",
       "         False, False, False, False, False, False, False, False, False,\n",
       "         False, False, False, False]),\n",
       "  array([False, False,  True, False, False, False, False, False, False,\n",
       "         False, False, False, False, False, False, False, False, False,\n",
       "         False, False,  True,  True, False, False, False, False, False,\n",
       "         False, False, False, False, False, False, False, False, False,\n",
       "         False, False, False, False])])"
      ]
     },
     "execution_count": 11,
     "metadata": {},
     "output_type": "execute_result"
    }
   ],
   "source": [
    "labels, nev, masks = res\n",
    "labels, nev, masks"
   ]
  },
  {
   "cell_type": "markdown",
   "id": "e321f2b4-3e35-423c-a0a2-7b878ae7a260",
   "metadata": {
    "slideshow": {
     "slide_type": "slide"
    }
   },
   "source": [
    "`labels` is a list of labels of each mask that is applied, `nev` is a list of the number of events that survive each mask, and `masks` is a list of boolean masks (arrays) of which events survive each selection.\n",
    "You can also choose to print the statistics of your N-1 selection in a similar fashion to `RDataFrame`."
   ]
  },
  {
   "cell_type": "code",
   "execution_count": 12,
   "id": "abe984e8-a4f1-4769-8d7c-60ce565b2d56",
   "metadata": {},
   "outputs": [
    {
     "data": {
      "text/html": [
       "<pre style=\"white-space:pre;overflow-x:auto;line-height:normal;font-family:Menlo,'DejaVu Sans Mono',consolas,'Courier New',monospace\">\n",
       "<span style=\"color: #e69f00; text-decoration-color: #e69f00\">N-</span><span style=\"color: #e69f00; text-decoration-color: #e69f00; font-weight: bold\">1</span><span style=\"color: #e69f00; text-decoration-color: #e69f00\"> selection stats:</span>\n",
       "</pre>\n"
      ],
      "text/plain": [
       "\n",
       "\u001b[38;2;230;159;0mN-\u001b[0m\u001b[1;38;2;230;159;0m1\u001b[0m\u001b[38;2;230;159;0m selection stats:\u001b[0m\n"
      ]
     },
     "metadata": {},
     "output_type": "display_data"
    },
    {
     "data": {
      "text/html": [
       "<pre style=\"white-space:pre;overflow-x:auto;line-height:normal;font-family:Menlo,'DejaVu Sans Mono',consolas,'Courier New',monospace\">Ignoring <span style=\"color: #d55e00; text-decoration-color: #d55e00\">twoElectron         </span>pass = <span style=\"color: #008080; text-decoration-color: #008080; font-weight: bold\">10</span>                  all = <span style=\"color: #008080; text-decoration-color: #008080; font-weight: bold\">40</span>                  -- eff = <span style=\"color: #008080; text-decoration-color: #008080; font-weight: bold\">25.0</span> %\n",
       "</pre>\n"
      ],
      "text/plain": [
       "Ignoring \u001b[38;2;213;94;0mtwoElectron         \u001b[0mpass = \u001b[1;36m10\u001b[0m                  all = \u001b[1;36m40\u001b[0m                  -- eff = \u001b[1;36m25.0\u001b[0m %\n"
      ]
     },
     "metadata": {},
     "output_type": "display_data"
    },
    {
     "data": {
      "text/html": [
       "<pre style=\"white-space:pre;overflow-x:auto;line-height:normal;font-family:Menlo,'DejaVu Sans Mono',consolas,'Courier New',monospace\">Ignoring <span style=\"color: #d55e00; text-decoration-color: #d55e00\">noMuon              </span>pass = <span style=\"color: #008080; text-decoration-color: #008080; font-weight: bold\">3</span>                   all = <span style=\"color: #008080; text-decoration-color: #008080; font-weight: bold\">40</span>                  -- eff = <span style=\"color: #008080; text-decoration-color: #008080; font-weight: bold\">7.5</span> %\n",
       "</pre>\n"
      ],
      "text/plain": [
       "Ignoring \u001b[38;2;213;94;0mnoMuon              \u001b[0mpass = \u001b[1;36m3\u001b[0m                   all = \u001b[1;36m40\u001b[0m                  -- eff = \u001b[1;36m7.5\u001b[0m %\n"
      ]
     },
     "metadata": {},
     "output_type": "display_data"
    },
    {
     "data": {
      "text/html": [
       "<pre style=\"white-space:pre;overflow-x:auto;line-height:normal;font-family:Menlo,'DejaVu Sans Mono',consolas,'Courier New',monospace\">Ignoring <span style=\"color: #d55e00; text-decoration-color: #d55e00\">leadPt20            </span>pass = <span style=\"color: #008080; text-decoration-color: #008080; font-weight: bold\">5</span>                   all = <span style=\"color: #008080; text-decoration-color: #008080; font-weight: bold\">40</span>                  -- eff = <span style=\"color: #008080; text-decoration-color: #008080; font-weight: bold\">12.5</span> %\n",
       "</pre>\n"
      ],
      "text/plain": [
       "Ignoring \u001b[38;2;213;94;0mleadPt20            \u001b[0mpass = \u001b[1;36m5\u001b[0m                   all = \u001b[1;36m40\u001b[0m                  -- eff = \u001b[1;36m12.5\u001b[0m %\n"
      ]
     },
     "metadata": {},
     "output_type": "display_data"
    },
    {
     "data": {
      "text/html": [
       "<pre style=\"white-space:pre;overflow-x:auto;line-height:normal;font-family:Menlo,'DejaVu Sans Mono',consolas,'Courier New',monospace\"><span style=\"color: #e69f00; text-decoration-color: #e69f00\">All cuts</span>                     pass = <span style=\"color: #008080; text-decoration-color: #008080; font-weight: bold\">3</span>                   all = <span style=\"color: #008080; text-decoration-color: #008080; font-weight: bold\">40</span>                  -- eff = <span style=\"color: #008080; text-decoration-color: #008080; font-weight: bold\">7.5</span> %\n",
       "</pre>\n"
      ],
      "text/plain": [
       "\u001b[38;2;230;159;0mAll cuts\u001b[0m                     pass = \u001b[1;36m3\u001b[0m                   all = \u001b[1;36m40\u001b[0m                  -- eff = \u001b[1;36m7.5\u001b[0m %\n"
      ]
     },
     "metadata": {},
     "output_type": "display_data"
    }
   ],
   "source": [
    "nminusone.print()"
   ]
  },
  {
   "cell_type": "markdown",
   "id": "282ebb23-70f8-43e1-bb60-99770fcf3543",
   "metadata": {
    "slideshow": {
     "slide_type": "slide"
    }
   },
   "source": [
    "Or get a histogram of your total event yields. This just returns a `hist.Hist` object and we can plot it with its backends to `mplhep`."
   ]
  },
  {
   "cell_type": "code",
   "execution_count": 13,
   "id": "ef6b795a-3205-4850-a366-791bf625f094",
   "metadata": {},
   "outputs": [
    {
     "data": {
      "image/png": "[encoded data removed]",
      "text/plain": [
       "<Figure size 640x480 with 1 Axes>"
      ]
     },
     "metadata": {},
     "output_type": "display_data"
    }
   ],
   "source": [
    "h, labels = nminusone.yieldhist()\n",
    "h.plot1d()\n",
    "plt.xticks(plt.gca().get_xticks(), labels, rotation=45)\n",
    "plt.show()"
   ]
  },
  {
   "cell_type": "markdown",
   "id": "0080510c-aa7c-4492-b1a1-28601d4e7a27",
   "metadata": {},
   "source": [
    "You can also save the results of the N-1 selection to a `.npz` file for later use."
   ]
  },
  {
   "cell_type": "code",
   "execution_count": 14,
   "id": "d6bb3514-403c-441a-bf85-d88304e556c4",
   "metadata": {},
   "outputs": [
    {
     "name": "stdout",
     "output_type": "stream",
     "text": [
      "labels: ['initial' 'N - twoElectron' 'N - noMuon' 'N - leadPt20' 'N']\n",
      "nev: [40 10  3  5  3]\n",
      "masks: [[False  True  True False False False False False False  True False False\n",
      "  False False False  True  True False False False  True  True False False\n",
      "  False False False  True False  True False False False  True False False\n",
      "  False False False False]\n",
      " [False False  True False False False False False False False False False\n",
      "  False False False False False False False False  True  True False False\n",
      "  False False False False False False False False False False False False\n",
      "  False False False False]\n",
      " [False False  True  True False False False False False False False False\n",
      "  False False False False False False  True False  True  True False False\n",
      "  False False False False False False False False False False False False\n",
      "  False False False False]\n",
      " [False False  True False False False False False False False False False\n",
      "  False False False False False False False False  True  True False False\n",
      "  False False False False False False False False False False False False\n",
      "  False False False False]]\n"
     ]
    }
   ],
   "source": [
    "nminusone.to_npz(\"nminusone_results.npz\").compute()\n",
    "with np.load(\"nminusone_results.npz\") as f:\n",
    "    for i in f.files:\n",
    "        print(f\"{i}: {f[i]}\")"
   ]
  },
  {
   "cell_type": "markdown",
   "id": "abfab631-e4bd-40b7-a3e8-faff7c87ed76",
   "metadata": {
    "slideshow": {
     "slide_type": "slide"
    }
   },
   "source": [
    "Finally, we can ask from this object to create histograms of different variables, masking them with our N-1 selection.\n",
    "What it will output is a list of histograms, one for each requested variable, where the x-axis is the distribution of the variable, and the y-axis is the mask that was applied.\n",
    "It is essentially slices of how the variable distribution evolves as each N-1 or N selection is applied. It does also return a list of labels of the masks to keep track.\n",
    "\n",
    "Note that the variables are parsed using a dictonary of `name: array` pairs and that the arrays will of course be flattened to be histogrammed."
   ]
  },
  {
   "cell_type": "code",
   "execution_count": 15,
   "id": "b21100ec-06e8-4e94-9966-925a512212b7",
   "metadata": {},
   "outputs": [
    {
     "data": {
      "text/plain": [
       "([Hist(\n",
       "    Regular(20, 5.81891, 60.0685, name='Ept'),\n",
       "    Integer(0, 5, name='nminusone'),\n",
       "    storage=Double()) # Sum: 55.0 (60.0 with flow),\n",
       "  Hist(\n",
       "    Regular(20, -2.93115, 3.11865, name='Ephi'),\n",
       "    Integer(0, 5, name='nminusone'),\n",
       "    storage=Double()) # Sum: 60.0],\n",
       " ['initial', 'N - twoElectron', 'N - noMuon', 'N - leadPt20', 'N'])"
      ]
     },
     "execution_count": 15,
     "metadata": {},
     "output_type": "execute_result"
    }
   ],
   "source": [
    "hs, labels = nminusone.plot_vars({\"Ept\": events.Electron.pt, \"Ephi\": events.Electron.phi})\n",
    "hs, labels"
   ]
  },
  {
   "cell_type": "markdown",
   "id": "ef70ef89-f1d8-4692-a2fd-044d20ffd706",
   "metadata": {},
   "source": [
    "And we can actually plot those histograms using again the `mplhep` backend."
   ]
  },
  {
   "cell_type": "code",
   "execution_count": 16,
   "id": "d7ba7d28-b862-4f59-97df-27a1df3361f5",
   "metadata": {
    "tags": []
   },
   "outputs": [
    {
     "data": {
      "image/png": "[encoded data removed]",
      "text/plain": [
       "<Figure size 684.8x480 with 2 Axes>"
      ]
     },
     "metadata": {},
     "output_type": "display_data"
    },
    {
     "data": {
      "image/png": "[encoded data removed]",
      "text/plain": [
       "<Figure size 684.8x480 with 2 Axes>"
      ]
     },
     "metadata": {},
     "output_type": "display_data"
    }
   ],
   "source": [
    "for h in hs:\n",
    "    h.plot2d()\n",
    "    plt.yticks(plt.gca().get_yticks(), labels, rotation=0)\n",
    "    plt.show()"
   ]
  },
  {
   "cell_type": "markdown",
   "id": "f78249e8-8ebe-43b3-8dd5-b996db6cfa2d",
   "metadata": {},
   "source": [
    "You can slice these histograms to view and plot the 1D histogram at each step of the selection. For example, if we want the $P_T$ of the electrons at the final step (index 4) of the selection, we can do the following."
   ]
  },
  {
   "cell_type": "code",
   "execution_count": 17,
   "id": "2cda4d43-4933-4fe1-a19b-1db74a5b62d0",
   "metadata": {
    "tags": []
   },
   "outputs": [
    {
     "data": {
      "image/png": "[encoded data removed]",
      "text/plain": [
       "<Figure size 640x480 with 1 Axes>"
      ]
     },
     "metadata": {},
     "output_type": "display_data"
    }
   ],
   "source": [
    "hs[0][:, 4].plot1d(yerr=0)\n",
    "plt.yscale(\"log\")\n",
    "plt.show()"
   ]
  },
  {
   "cell_type": "markdown",
   "id": "328c05ef-6ddf-478d-93f2-c260436b4b0e",
   "metadata": {},
   "source": [
    "Because this automatic bining doesn't look great, for $P_T$ at least, the user has the ability to customize the axes or pass in their own axes objects."
   ]
  },
  {
   "cell_type": "code",
   "execution_count": 18,
   "id": "10c5faad-e4a0-458c-9097-26acee2bba12",
   "metadata": {
    "tags": []
   },
   "outputs": [
    {
     "name": "stdout",
     "output_type": "stream",
     "text": [
      "Help on method plot_vars in module coffea.analysis_tools:\n",
      "\n",
      "plot_vars(\n",
      "    vars,\n",
      "    axes=None,\n",
      "    bins=None,\n",
      "    start=None,\n",
      "    stop=None,\n",
      "    edges=None,\n",
      "    transform=None,\n",
      "    weighted=None,\n",
      "    scale=None,\n",
      "    categorical=None\n",
      ") method of coffea.analysis_tools.NminusOne instance\n",
      "    Plot the histograms of variables for each step of the N-1 selection\n",
      "\n",
      "    Parameters\n",
      "    ----------\n",
      "        vars : dict\n",
      "            A dictionary in the form ``{name: array}`` where ``name`` is the name of the variable,\n",
      "            and ``array`` is the corresponding array of values.\n",
      "            The arrays must be the same length as each mask of the N-1 selection.\n",
      "        axes : list of hist.axis objects, optional\n",
      "            The axes objects to histogram the variables on. This will override all the following arguments that define axes.\n",
      "            Must be the same length as ``vars``.\n",
      "        bins : iterable of integers or Nones, optional\n",
      "            The number of bins for each variable histogram. If not specified, it defaults to 20.\n",
      "            Must be the same length as ``vars``.\n",
      "        start : iterable of floats or integers or Nones, optional\n",
      "            The lower edge of the first bin for each variable histogram. If not specified, it defaults to the minimum value of the variable array.\n",
      "            Must be the same length as ``vars``.\n",
      "        stop : iterable of floats or integers or Nones, optional\n",
      "            The upper edge of the last bin for each variable histogram. If not specified, it defaults to the maximum value of the variable array.\n",
      "            Must be the same length as ``vars``.\n",
      "        edges : list of iterables of floats or integers, optional\n",
      "            The bin edges for each variable histogram. This overrides ``bins``, ``start``, and ``stop`` if specified.\n",
      "            Must be the same length as ``vars``.\n",
      "        transform : iterable of hist.axis.transform objects or Nones, optional\n",
      "            The transforms to apply to each variable histogram axis. If not specified, it defaults to None.\n",
      "            Must be the same length as ``vars``.\n",
      "        weighted : bool, optional\n",
      "            Whether to fill the histograms with weights. Default is None, which applies the weights\n",
      "            if the nminusone was instantiated with weights and unweighted distributions otherwise.\n",
      "        scale: float, optional\n",
      "            A scalar value by which all weights will be scaled, works with both weighted and unweighted methods.\n",
      "        categorical : dict, optional\n",
      "            A dictionary with the following keys:\n",
      "                axis : hist.axis object\n",
      "                    The axis to be used as a categorical axis\n",
      "                values : list\n",
      "                    The array to be filled in the categorical axis, must be the same length as the masks\n",
      "                labels : list\n",
      "                    The labels corresponding to the values in the categorical axis\n",
      "            Default is None, which does not apply any categorical axis.\n",
      "\n",
      "    Returns\n",
      "    -------\n",
      "        hists : list of hist.Hist or hist.dask.Hist objects\n",
      "            A list of 2D histograms of the variables for each step of the N-1 selection.\n",
      "            The first axis is the variable, the second axis is the N-1 selection step.\n",
      "        labels : list of strings\n",
      "            The bin labels of y axis of the histogram.\n",
      "        catlabels : list of strings, optional\n",
      "            The labels of the categorical axis\n",
      "\n"
     ]
    }
   ],
   "source": [
    "help(nminusone.plot_vars)"
   ]
  },
  {
   "cell_type": "markdown",
   "id": "5c3cd75f-858b-41a3-8b0b-060361a51eba",
   "metadata": {
    "slideshow": {
     "slide_type": "slide"
    }
   },
   "source": [
    "Cutflow is implemented in a similar manner to the N-1 selection. We just have to use the `cutflow(*names)` function which will return a `Cutflow` object"
   ]
  },
  {
   "cell_type": "code",
   "execution_count": 19,
   "id": "a856a24d-487d-4308-8236-4f89bb5917ca",
   "metadata": {
    "tags": []
   },
   "outputs": [
    {
     "data": {
      "text/plain": [
       "Cutflow(selections=('noMuon', 'twoElectron', 'leadPt20'), commonmasked=False, weighted=False, weightsmodifier=None)"
      ]
     },
     "execution_count": 19,
     "metadata": {},
     "output_type": "execute_result"
    }
   ],
   "source": [
    "cutflow = selection.cutflow(\"noMuon\", \"twoElectron\", \"leadPt20\")\n",
    "cutflow"
   ]
  },
  {
   "cell_type": "markdown",
   "id": "ec84e2a3-b2ab-4352-b716-d568814f3300",
   "metadata": {},
   "source": [
    "The methods of this object are similar to the `NminusOne` object. The only difference is that now we seperate things in either \"onecut\" or \"cutflow\". \"onecut\" represents results where each cut is applied alone, while \"cutflow\" represents results where the cuts are applied cumulatively in order."
   ]
  },
  {
   "cell_type": "code",
   "execution_count": 20,
   "id": "96692df8-d25b-4e57-9eea-59acdc1a7f78",
   "metadata": {
    "slideshow": {
     "slide_type": "slide"
    },
    "tags": []
   },
   "outputs": [
    {
     "name": "stdout",
     "output_type": "stream",
     "text": [
      "<class 'coffea.analysis_tools.CutflowResult'> ('labels', 'nevonecut', 'nevcutflow', 'masksonecut', 'maskscutflow')\n"
     ]
    },
    {
     "data": {
      "text/plain": [
       "(['initial', 'noMuon', 'twoElectron', 'leadPt20'],\n",
       " [40, np.int64(28), np.int64(5), np.int64(17)],\n",
       " [40, np.int64(28), np.int64(5), np.int64(3)],\n",
       " [array([ True,  True,  True,  True, False, False, False,  True,  True,\n",
       "          True, False,  True,  True,  True, False,  True,  True,  True,\n",
       "          True,  True,  True,  True,  True, False, False,  True, False,\n",
       "          True, False,  True, False, False,  True,  True, False,  True,\n",
       "          True,  True,  True,  True]),\n",
       "  array([False, False,  True,  True, False, False, False, False, False,\n",
       "         False, False, False, False, False, False, False, False, False,\n",
       "          True, False,  True,  True, False, False, False, False, False,\n",
       "         False, False, False, False, False, False, False, False, False,\n",
       "         False, False, False, False]),\n",
       "  array([False,  True,  True, False,  True,  True,  True, False, False,\n",
       "          True, False, False, False, False, False,  True,  True, False,\n",
       "         False, False,  True,  True, False,  True,  True, False,  True,\n",
       "          True, False,  True, False,  True, False,  True, False, False,\n",
       "         False, False, False, False])],\n",
       " [array([ True,  True,  True,  True, False, False, False,  True,  True,\n",
       "          True, False,  True,  True,  True, False,  True,  True,  True,\n",
       "          True,  True,  True,  True,  True, False, False,  True, False,\n",
       "          True, False,  True, False, False,  True,  True, False,  True,\n",
       "          True,  True,  True,  True]),\n",
       "  array([False, False,  True,  True, False, False, False, False, False,\n",
       "         False, False, False, False, False, False, False, False, False,\n",
       "          True, False,  True,  True, False, False, False, False, False,\n",
       "         False, False, False, False, False, False, False, False, False,\n",
       "         False, False, False, False]),\n",
       "  array([False, False,  True, False, False, False, False, False, False,\n",
       "         False, False, False, False, False, False, False, False, False,\n",
       "         False, False,  True,  True, False, False, False, False, False,\n",
       "         False, False, False, False, False, False, False, False, False,\n",
       "         False, False, False, False])])"
      ]
     },
     "execution_count": 20,
     "metadata": {},
     "output_type": "execute_result"
    }
   ],
   "source": [
    "res = cutflow.result()\n",
    "print(type(res), res._fields)\n",
    "labels, nevonecut, nevcutflow, masksonecut, maskscutflow = res\n",
    "labels, nevonecut, nevcutflow, masksonecut, maskscutflow"
   ]
  },
  {
   "cell_type": "markdown",
   "id": "e2a06c5f-23d0-4ad0-ab36-dfec7796b8d4",
   "metadata": {},
   "source": [
    "As you can see, again we have the same `labels`, `nev` and `masks` only now we have two \"versions\" of them since they've been split into \"onecut\" and \"cutflow\".\n",
    "You can again print the statistics of the cutflow exactly like `RDataFrame`."
   ]
  },
  {
   "cell_type": "code",
   "execution_count": 21,
   "id": "4db657a5-f16f-4fef-9956-649269e4ae2c",
   "metadata": {
    "slideshow": {
     "slide_type": "slide"
    },
    "tags": []
   },
   "outputs": [
    {
     "data": {
      "text/html": [
       "<pre style=\"white-space:pre;overflow-x:auto;line-height:normal;font-family:Menlo,'DejaVu Sans Mono',consolas,'Courier New',monospace\">\n",
       "<span style=\"color: #e69f00; text-decoration-color: #e69f00\">Cutflow selection stats:</span>\n",
       "</pre>\n"
      ],
      "text/plain": [
       "\n",
       "\u001b[38;2;230;159;0mCutflow selection stats:\u001b[0m\n"
      ]
     },
     "metadata": {},
     "output_type": "display_data"
    },
    {
     "data": {
      "text/html": [
       "<pre style=\"white-space:pre;overflow-x:auto;line-height:normal;font-family:Menlo,'DejaVu Sans Mono',consolas,'Courier New',monospace\">Cut <span style=\"color: #d55e00; text-decoration-color: #d55e00\">noMuon              </span>:pass = <span style=\"color: #008080; text-decoration-color: #008080; font-weight: bold\">28</span>                  cumulative pass = <span style=\"color: #008080; text-decoration-color: #008080; font-weight: bold\">28</span>                  all = <span style=\"color: #008080; text-decoration-color: #008080; font-weight: bold\">40</span>                 \n",
       "-- eff = <span style=\"color: #008080; text-decoration-color: #008080; font-weight: bold\">70.0</span> %                    -- cumulative eff = <span style=\"color: #008080; text-decoration-color: #008080; font-weight: bold\">70.0</span> %\n",
       "</pre>\n"
      ],
      "text/plain": [
       "Cut \u001b[38;2;213;94;0mnoMuon              \u001b[0m:pass = \u001b[1;36m28\u001b[0m                  cumulative pass = \u001b[1;36m28\u001b[0m                  all = \u001b[1;36m40\u001b[0m                 \n",
       "-- eff = \u001b[1;36m70.0\u001b[0m %                    -- cumulative eff = \u001b[1;36m70.0\u001b[0m %\n"
      ]
     },
     "metadata": {},
     "output_type": "display_data"
    },
    {
     "data": {
      "text/html": [
       "<pre style=\"white-space:pre;overflow-x:auto;line-height:normal;font-family:Menlo,'DejaVu Sans Mono',consolas,'Courier New',monospace\">Cut <span style=\"color: #d55e00; text-decoration-color: #d55e00\">twoElectron         </span>:pass = <span style=\"color: #008080; text-decoration-color: #008080; font-weight: bold\">5</span>                   cumulative pass = <span style=\"color: #008080; text-decoration-color: #008080; font-weight: bold\">5</span>                   all = <span style=\"color: #008080; text-decoration-color: #008080; font-weight: bold\">40</span>                 \n",
       "-- eff = <span style=\"color: #008080; text-decoration-color: #008080; font-weight: bold\">12.5</span> %                    -- cumulative eff = <span style=\"color: #008080; text-decoration-color: #008080; font-weight: bold\">12.5</span> %\n",
       "</pre>\n"
      ],
      "text/plain": [
       "Cut \u001b[38;2;213;94;0mtwoElectron         \u001b[0m:pass = \u001b[1;36m5\u001b[0m                   cumulative pass = \u001b[1;36m5\u001b[0m                   all = \u001b[1;36m40\u001b[0m                 \n",
       "-- eff = \u001b[1;36m12.5\u001b[0m %                    -- cumulative eff = \u001b[1;36m12.5\u001b[0m %\n"
      ]
     },
     "metadata": {},
     "output_type": "display_data"
    },
    {
     "data": {
      "text/html": [
       "<pre style=\"white-space:pre;overflow-x:auto;line-height:normal;font-family:Menlo,'DejaVu Sans Mono',consolas,'Courier New',monospace\">Cut <span style=\"color: #d55e00; text-decoration-color: #d55e00\">leadPt20            </span>:pass = <span style=\"color: #008080; text-decoration-color: #008080; font-weight: bold\">17</span>                  cumulative pass = <span style=\"color: #008080; text-decoration-color: #008080; font-weight: bold\">3</span>                   all = <span style=\"color: #008080; text-decoration-color: #008080; font-weight: bold\">40</span>                 \n",
       "-- eff = <span style=\"color: #008080; text-decoration-color: #008080; font-weight: bold\">42.5</span> %                    -- cumulative eff = <span style=\"color: #008080; text-decoration-color: #008080; font-weight: bold\">7.5</span> %\n",
       "</pre>\n"
      ],
      "text/plain": [
       "Cut \u001b[38;2;213;94;0mleadPt20            \u001b[0m:pass = \u001b[1;36m17\u001b[0m                  cumulative pass = \u001b[1;36m3\u001b[0m                   all = \u001b[1;36m40\u001b[0m                 \n",
       "-- eff = \u001b[1;36m42.5\u001b[0m %                    -- cumulative eff = \u001b[1;36m7.5\u001b[0m %\n"
      ]
     },
     "metadata": {},
     "output_type": "display_data"
    }
   ],
   "source": [
    "cutflow.print()"
   ]
  },
  {
   "cell_type": "markdown",
   "id": "e6aa8edf-3953-410d-b46f-f7d54adda821",
   "metadata": {},
   "source": [
    "Again, you can extract yield hists, only now there are two of them."
   ]
  },
  {
   "cell_type": "code",
   "execution_count": 22,
   "id": "e9e3db1b-8836-4a85-8e56-5819134b7343",
   "metadata": {
    "slideshow": {
     "slide_type": "slide"
    }
   },
   "outputs": [
    {
     "data": {
      "image/png": "[encoded data removed]",
      "text/plain": [
       "<Figure size 640x480 with 1 Axes>"
      ]
     },
     "metadata": {},
     "output_type": "display_data"
    },
    {
     "data": {
      "image/png": "[encoded data removed]",
      "text/plain": [
       "<Figure size 640x480 with 1 Axes>"
      ]
     },
     "metadata": {},
     "output_type": "display_data"
    }
   ],
   "source": [
    "honecut, hcutflow, labels = cutflow.yieldhist()\n",
    "\n",
    "honecut.plot1d(yerr=0)\n",
    "plt.xticks(plt.gca().get_xticks(), labels, rotation=45)\n",
    "plt.show()\n",
    "\n",
    "hcutflow.plot1d(yerr=0)\n",
    "plt.xticks(plt.gca().get_xticks(), labels, rotation=45)\n",
    "plt.show()"
   ]
  },
  {
   "cell_type": "markdown",
   "id": "b7faec21-57c7-477d-9f7b-1a22c06c0754",
   "metadata": {},
   "source": [
    "Saving to `.npz` files is again there."
   ]
  },
  {
   "cell_type": "code",
   "execution_count": 23,
   "id": "ecc3be33-da27-4845-bba2-f163729670ce",
   "metadata": {
    "tags": []
   },
   "outputs": [
    {
     "name": "stdout",
     "output_type": "stream",
     "text": [
      "labels: ['initial' 'noMuon' 'twoElectron' 'leadPt20']\n",
      "nevonecut: [40 28  5 17]\n",
      "nevcutflow: [40 28  5  3]\n",
      "masksonecut: [[ True  True  True  True False False False  True  True  True False  True\n",
      "   True  True False  True  True  True  True  True  True  True  True False\n",
      "  False  True False  True False  True False False  True  True False  True\n",
      "   True  True  True  True]\n",
      " [False False  True  True False False False False False False False False\n",
      "  False False False False False False  True False  True  True False False\n",
      "  False False False False False False False False False False False False\n",
      "  False False False False]\n",
      " [False  True  True False  True  True  True False False  True False False\n",
      "  False False False  True  True False False False  True  True False  True\n",
      "   True False  True  True False  True False  True False  True False False\n",
      "  False False False False]]\n",
      "maskscutflow: [[ True  True  True  True False False False  True  True  True False  True\n",
      "   True  True False  True  True  True  True  True  True  True  True False\n",
      "  False  True False  True False  True False False  True  True False  True\n",
      "   True  True  True  True]\n",
      " [False False  True  True False False False False False False False False\n",
      "  False False False False False False  True False  True  True False False\n",
      "  False False False False False False False False False False False False\n",
      "  False False False False]\n",
      " [False False  True False False False False False False False False False\n",
      "  False False False False False False False False  True  True False False\n",
      "  False False False False False False False False False False False False\n",
      "  False False False False]]\n"
     ]
    }
   ],
   "source": [
    "cutflow.to_npz(\"cutflow_results.npz\").compute()\n",
    "\n",
    "with np.load(\"cutflow_results.npz\") as f:\n",
    "    for i in f.files:\n",
    "        print(f\"{i}: {f[i]}\")"
   ]
  },
  {
   "cell_type": "markdown",
   "id": "423a72e7-79f6-4e6c-ab59-b2d709e3f9a0",
   "metadata": {},
   "source": [
    "And finally, `plot_vars` is also there with the same axes customizability while now it returns two lists of histograms, one for \"onecut\" and one for \"cutflow\". Those can of course be plotted in a similar fashion."
   ]
  },
  {
   "cell_type": "code",
   "execution_count": 24,
   "id": "22454105-13f9-4f22-9450-9915cab46759",
   "metadata": {
    "slideshow": {
     "slide_type": "slide"
    },
    "tags": []
   },
   "outputs": [
    {
     "data": {
      "text/plain": [
       "([Hist(\n",
       "    Regular(20, 5.81891, 60.0685, name='ept'),\n",
       "    Integer(0, 4, name='onecut'),\n",
       "    storage=Double()) # Sum: 69.0 (73.0 with flow),\n",
       "  Hist(\n",
       "    Regular(20, -2.93115, 3.11865, name='ephi'),\n",
       "    Integer(0, 4, name='onecut'),\n",
       "    storage=Double()) # Sum: 73.0],\n",
       " [Hist(\n",
       "    Regular(20, 5.81891, 60.0685, name='ept'),\n",
       "    Integer(0, 4, name='cutflow'),\n",
       "    storage=Double()) # Sum: 59.0 (63.0 with flow),\n",
       "  Hist(\n",
       "    Regular(20, -2.93115, 3.11865, name='ephi'),\n",
       "    Integer(0, 4, name='cutflow'),\n",
       "    storage=Double()) # Sum: 63.0],\n",
       " ['initial', 'noMuon', 'twoElectron', 'leadPt20'])"
      ]
     },
     "execution_count": 24,
     "metadata": {},
     "output_type": "execute_result"
    }
   ],
   "source": [
    "h1, h2, labels = cutflow.plot_vars({\"ept\": events.Electron.pt, \"ephi\": events.Electron.phi})\n",
    "h1, h2, labels"
   ]
  },
  {
   "cell_type": "markdown",
   "id": "153f43de",
   "metadata": {},
   "source": [
    "## Weighted Cutflows and NMinusOnes\n",
    "It's also possible to apply per-event weights to a cutflow/nminusone by passing in a Weights instance, along with the `weightsmodifier` (None or the string name of the variation you want applied)"
   ]
  },
  {
   "cell_type": "code",
   "execution_count": 25,
   "id": "a92ff201",
   "metadata": {},
   "outputs": [
    {
     "data": {
      "text/plain": [
       "Cutflow(selections=('noMuon', 'twoElectron', 'leadPt20'), commonmasked=False, weighted=True, weightsmodifier=None)"
      ]
     },
     "execution_count": 25,
     "metadata": {},
     "output_type": "execute_result"
    }
   ],
   "source": [
    "from coffea.analysis_tools import Weights\n",
    "\n",
    "weights = Weights(len(events))\n",
    "weights.add(\"genweight\", events.genWeight)\n",
    "\n",
    "wgtcutflow = selection.cutflow(\"noMuon\", \"twoElectron\", \"leadPt20\", weights=weights, weightsmodifier=None)\n",
    "wgtcutflow"
   ]
  },
  {
   "cell_type": "code",
   "execution_count": 26,
   "id": "7dee4181",
   "metadata": {},
   "outputs": [
    {
     "name": "stdout",
     "output_type": "stream",
     "text": [
      "<class 'coffea.analysis_tools.ExtendedCutflowResult'> ('labels', 'nevonecut', 'nevcutflow', 'masksonecut', 'maskscutflow', 'commonmask', 'wgtevonecut', 'wgtevcutflow', 'weights', 'weightsmodifier')\n"
     ]
    },
    {
     "data": {
      "text/plain": [
       "(['initial', 'noMuon', 'twoElectron', 'leadPt20'],\n",
       " [40, np.int64(28), np.int64(5), np.int64(17)],\n",
       " [40, np.int64(28), np.int64(5), np.int64(3)],\n",
       " [array([ True,  True,  True,  True, False, False, False,  True,  True,\n",
       "          True, False,  True,  True,  True, False,  True,  True,  True,\n",
       "          True,  True,  True,  True,  True, False, False,  True, False,\n",
       "          True, False,  True, False, False,  True,  True, False,  True,\n",
       "          True,  True,  True,  True]),\n",
       "  array([False, False,  True,  True, False, False, False, False, False,\n",
       "         False, False, False, False, False, False, False, False, False,\n",
       "          True, False,  True,  True, False, False, False, False, False,\n",
       "         False, False, False, False, False, False, False, False, False,\n",
       "         False, False, False, False]),\n",
       "  array([False,  True,  True, False,  True,  True,  True, False, False,\n",
       "          True, False, False, False, False, False,  True,  True, False,\n",
       "         False, False,  True,  True, False,  True,  True, False,  True,\n",
       "          True, False,  True, False,  True, False,  True, False, False,\n",
       "         False, False, False, False])],\n",
       " [array([ True,  True,  True,  True, False, False, False,  True,  True,\n",
       "          True, False,  True,  True,  True, False,  True,  True,  True,\n",
       "          True,  True,  True,  True,  True, False, False,  True, False,\n",
       "          True, False,  True, False, False,  True,  True, False,  True,\n",
       "          True,  True,  True,  True]),\n",
       "  array([False, False,  True,  True, False, False, False, False, False,\n",
       "         False, False, False, False, False, False, False, False, False,\n",
       "          True, False,  True,  True, False, False, False, False, False,\n",
       "         False, False, False, False, False, False, False, False, False,\n",
       "         False, False, False, False]),\n",
       "  array([False, False,  True, False, False, False, False, False, False,\n",
       "         False, False, False, False, False, False, False, False, False,\n",
       "         False, False,  True,  True, False, False, False, False, False,\n",
       "         False, False, False, False, False, False, False, False, False,\n",
       "         False, False, False, False])],\n",
       " None,\n",
       " [np.float64(578762.435546875),\n",
       "  np.float64(315450.423828125),\n",
       "  np.float64(25807.2109375),\n",
       "  np.float64(237244.12109375)],\n",
       " [np.float64(578762.435546875),\n",
       "  np.float64(315450.423828125),\n",
       "  np.float64(25807.2109375),\n",
       "  np.float64(26331.201171875)],\n",
       " <coffea.analysis_tools.Weights at 0x1425f2cf0>,\n",
       " None)"
      ]
     },
     "execution_count": 26,
     "metadata": {},
     "output_type": "execute_result"
    }
   ],
   "source": [
    "res = wgtcutflow.result()\n",
    "print(type(res), res._fields)\n",
    "(labels, nevonecut, nevcutflow, masksonecut, maskscutflow, commonmask, wgtevonecut, wgtevcutflow, rweights, rmod) = res\n",
    "labels, nevonecut, nevcutflow, masksonecut, maskscutflow, commonmask, wgtevonecut, wgtevcutflow, rweights, rmod"
   ]
  },
  {
   "cell_type": "markdown",
   "id": "b6c92745",
   "metadata": {},
   "source": [
    "The weighted cutflow by default prints with weights if included, but passing `weighted=False` or `weighted=True` allows one to explicitly toggle between the two. Additionally, the keyword `scale` permits one to scale all value uniformly, such as with a cross-section, luminosity, sum of weights, etc."
   ]
  },
  {
   "cell_type": "code",
   "execution_count": 27,
   "id": "952a5662",
   "metadata": {},
   "outputs": [
    {
     "data": {
      "text/html": [
       "<pre style=\"white-space:pre;overflow-x:auto;line-height:normal;font-family:Menlo,'DejaVu Sans Mono',consolas,'Courier New',monospace\">\n",
       "<span style=\"color: #e69f00; text-decoration-color: #e69f00\">Cutflow selection stats:</span> <span style=\"color: #f748a5; text-decoration-color: #f748a5; font-weight: bold; text-decoration: underline\">(weighted)</span>\n",
       "</pre>\n"
      ],
      "text/plain": [
       "\n",
       "\u001b[38;2;230;159;0mCutflow selection stats:\u001b[0m \u001b[1;4;38;2;247;72;165m(\u001b[0m\u001b[1;4;38;2;247;72;165mweighted\u001b[0m\u001b[1;4;38;2;247;72;165m)\u001b[0m\n"
      ]
     },
     "metadata": {},
     "output_type": "display_data"
    },
    {
     "data": {
      "text/html": [
       "<pre style=\"white-space:pre;overflow-x:auto;line-height:normal;font-family:Menlo,'DejaVu Sans Mono',consolas,'Courier New',monospace\">Cut <span style=\"color: #d55e00; text-decoration-color: #d55e00\">noMuon              </span>:pass = <span style=\"color: #008080; text-decoration-color: #008080; font-weight: bold\">315450.423828125</span>    cumulative pass = <span style=\"color: #008080; text-decoration-color: #008080; font-weight: bold\">315450.423828125</span>    all = <span style=\"color: #008080; text-decoration-color: #008080; font-weight: bold\">578762.435546875</span>   \n",
       "-- eff = <span style=\"color: #008080; text-decoration-color: #008080; font-weight: bold\">54.5</span> %                    -- cumulative eff = <span style=\"color: #008080; text-decoration-color: #008080; font-weight: bold\">54.5</span> %\n",
       "</pre>\n"
      ],
      "text/plain": [
       "Cut \u001b[38;2;213;94;0mnoMuon              \u001b[0m:pass = \u001b[1;36m315450.423828125\u001b[0m    cumulative pass = \u001b[1;36m315450.423828125\u001b[0m    all = \u001b[1;36m578762.435546875\u001b[0m   \n",
       "-- eff = \u001b[1;36m54.5\u001b[0m %                    -- cumulative eff = \u001b[1;36m54.5\u001b[0m %\n"
      ]
     },
     "metadata": {},
     "output_type": "display_data"
    },
    {
     "data": {
      "text/html": [
       "<pre style=\"white-space:pre;overflow-x:auto;line-height:normal;font-family:Menlo,'DejaVu Sans Mono',consolas,'Courier New',monospace\">Cut <span style=\"color: #d55e00; text-decoration-color: #d55e00\">twoElectron         </span>:pass = <span style=\"color: #008080; text-decoration-color: #008080; font-weight: bold\">25807.2109375</span>       cumulative pass = <span style=\"color: #008080; text-decoration-color: #008080; font-weight: bold\">25807.2109375</span>       all = <span style=\"color: #008080; text-decoration-color: #008080; font-weight: bold\">578762.435546875</span>   \n",
       "-- eff = <span style=\"color: #008080; text-decoration-color: #008080; font-weight: bold\">4.5</span> %                    -- cumulative eff = <span style=\"color: #008080; text-decoration-color: #008080; font-weight: bold\">4.5</span> %\n",
       "</pre>\n"
      ],
      "text/plain": [
       "Cut \u001b[38;2;213;94;0mtwoElectron         \u001b[0m:pass = \u001b[1;36m25807.2109375\u001b[0m       cumulative pass = \u001b[1;36m25807.2109375\u001b[0m       all = \u001b[1;36m578762.435546875\u001b[0m   \n",
       "-- eff = \u001b[1;36m4.5\u001b[0m %                    -- cumulative eff = \u001b[1;36m4.5\u001b[0m %\n"
      ]
     },
     "metadata": {},
     "output_type": "display_data"
    },
    {
     "data": {
      "text/html": [
       "<pre style=\"white-space:pre;overflow-x:auto;line-height:normal;font-family:Menlo,'DejaVu Sans Mono',consolas,'Courier New',monospace\">Cut <span style=\"color: #d55e00; text-decoration-color: #d55e00\">leadPt20            </span>:pass = <span style=\"color: #008080; text-decoration-color: #008080; font-weight: bold\">237244.12109375</span>     cumulative pass = <span style=\"color: #008080; text-decoration-color: #008080; font-weight: bold\">26331.201171875</span>     all = <span style=\"color: #008080; text-decoration-color: #008080; font-weight: bold\">578762.435546875</span>   \n",
       "-- eff = <span style=\"color: #008080; text-decoration-color: #008080; font-weight: bold\">41.0</span> %                    -- cumulative eff = <span style=\"color: #008080; text-decoration-color: #008080; font-weight: bold\">4.5</span> %\n",
       "</pre>\n"
      ],
      "text/plain": [
       "Cut \u001b[38;2;213;94;0mleadPt20            \u001b[0m:pass = \u001b[1;36m237244.12109375\u001b[0m     cumulative pass = \u001b[1;36m26331.201171875\u001b[0m     all = \u001b[1;36m578762.435546875\u001b[0m   \n",
       "-- eff = \u001b[1;36m41.0\u001b[0m %                    -- cumulative eff = \u001b[1;36m4.5\u001b[0m %\n"
      ]
     },
     "metadata": {},
     "output_type": "display_data"
    }
   ],
   "source": [
    "wgtcutflow.print()"
   ]
  },
  {
   "cell_type": "code",
   "execution_count": 28,
   "id": "552df1d2",
   "metadata": {},
   "outputs": [
    {
     "data": {
      "text/html": [
       "<pre style=\"white-space:pre;overflow-x:auto;line-height:normal;font-family:Menlo,'DejaVu Sans Mono',consolas,'Courier New',monospace\">\n",
       "<span style=\"color: #e69f00; text-decoration-color: #e69f00\">Cutflow selection stats:</span>\n",
       "</pre>\n"
      ],
      "text/plain": [
       "\n",
       "\u001b[38;2;230;159;0mCutflow selection stats:\u001b[0m\n"
      ]
     },
     "metadata": {},
     "output_type": "display_data"
    },
    {
     "data": {
      "text/html": [
       "<pre style=\"white-space:pre;overflow-x:auto;line-height:normal;font-family:Menlo,'DejaVu Sans Mono',consolas,'Courier New',monospace\">Cut <span style=\"color: #d55e00; text-decoration-color: #d55e00\">noMuon              </span>:pass = <span style=\"color: #008080; text-decoration-color: #008080; font-weight: bold\">28</span>                  cumulative pass = <span style=\"color: #008080; text-decoration-color: #008080; font-weight: bold\">28</span>                  all = <span style=\"color: #008080; text-decoration-color: #008080; font-weight: bold\">40</span>                 \n",
       "-- eff = <span style=\"color: #008080; text-decoration-color: #008080; font-weight: bold\">70.0</span> %                    -- cumulative eff = <span style=\"color: #008080; text-decoration-color: #008080; font-weight: bold\">70.0</span> %\n",
       "</pre>\n"
      ],
      "text/plain": [
       "Cut \u001b[38;2;213;94;0mnoMuon              \u001b[0m:pass = \u001b[1;36m28\u001b[0m                  cumulative pass = \u001b[1;36m28\u001b[0m                  all = \u001b[1;36m40\u001b[0m                 \n",
       "-- eff = \u001b[1;36m70.0\u001b[0m %                    -- cumulative eff = \u001b[1;36m70.0\u001b[0m %\n"
      ]
     },
     "metadata": {},
     "output_type": "display_data"
    },
    {
     "data": {
      "text/html": [
       "<pre style=\"white-space:pre;overflow-x:auto;line-height:normal;font-family:Menlo,'DejaVu Sans Mono',consolas,'Courier New',monospace\">Cut <span style=\"color: #d55e00; text-decoration-color: #d55e00\">twoElectron         </span>:pass = <span style=\"color: #008080; text-decoration-color: #008080; font-weight: bold\">5</span>                   cumulative pass = <span style=\"color: #008080; text-decoration-color: #008080; font-weight: bold\">5</span>                   all = <span style=\"color: #008080; text-decoration-color: #008080; font-weight: bold\">40</span>                 \n",
       "-- eff = <span style=\"color: #008080; text-decoration-color: #008080; font-weight: bold\">12.5</span> %                    -- cumulative eff = <span style=\"color: #008080; text-decoration-color: #008080; font-weight: bold\">12.5</span> %\n",
       "</pre>\n"
      ],
      "text/plain": [
       "Cut \u001b[38;2;213;94;0mtwoElectron         \u001b[0m:pass = \u001b[1;36m5\u001b[0m                   cumulative pass = \u001b[1;36m5\u001b[0m                   all = \u001b[1;36m40\u001b[0m                 \n",
       "-- eff = \u001b[1;36m12.5\u001b[0m %                    -- cumulative eff = \u001b[1;36m12.5\u001b[0m %\n"
      ]
     },
     "metadata": {},
     "output_type": "display_data"
    },
    {
     "data": {
      "text/html": [
       "<pre style=\"white-space:pre;overflow-x:auto;line-height:normal;font-family:Menlo,'DejaVu Sans Mono',consolas,'Courier New',monospace\">Cut <span style=\"color: #d55e00; text-decoration-color: #d55e00\">leadPt20            </span>:pass = <span style=\"color: #008080; text-decoration-color: #008080; font-weight: bold\">17</span>                  cumulative pass = <span style=\"color: #008080; text-decoration-color: #008080; font-weight: bold\">3</span>                   all = <span style=\"color: #008080; text-decoration-color: #008080; font-weight: bold\">40</span>                 \n",
       "-- eff = <span style=\"color: #008080; text-decoration-color: #008080; font-weight: bold\">42.5</span> %                    -- cumulative eff = <span style=\"color: #008080; text-decoration-color: #008080; font-weight: bold\">7.5</span> %\n",
       "</pre>\n"
      ],
      "text/plain": [
       "Cut \u001b[38;2;213;94;0mleadPt20            \u001b[0m:pass = \u001b[1;36m17\u001b[0m                  cumulative pass = \u001b[1;36m3\u001b[0m                   all = \u001b[1;36m40\u001b[0m                 \n",
       "-- eff = \u001b[1;36m42.5\u001b[0m %                    -- cumulative eff = \u001b[1;36m7.5\u001b[0m %\n"
      ]
     },
     "metadata": {},
     "output_type": "display_data"
    }
   ],
   "source": [
    "wgtcutflow.print(weighted=False)"
   ]
  },
  {
   "cell_type": "code",
   "execution_count": 29,
   "id": "2b4b06b3",
   "metadata": {},
   "outputs": [
    {
     "data": {
      "text/html": [
       "<pre style=\"white-space:pre;overflow-x:auto;line-height:normal;font-family:Menlo,'DejaVu Sans Mono',consolas,'Courier New',monospace\">\n",
       "<span style=\"color: #e69f00; text-decoration-color: #e69f00\">Cutflow selection stats:</span> <span style=\"color: #f748a5; text-decoration-color: #f748a5; font-weight: bold; text-decoration: underline\">(weighted)</span> <span style=\"font-weight: bold\">(</span><span style=\"color: #359b73; text-decoration-color: #359b73; font-weight: bold; text-decoration: underline\">scaled</span> by <span style=\"color: #008080; text-decoration-color: #008080; font-weight: bold\">0.0008639129728627657</span><span style=\"font-weight: bold\">)</span>\n",
       "</pre>\n"
      ],
      "text/plain": [
       "\n",
       "\u001b[38;2;230;159;0mCutflow selection stats:\u001b[0m \u001b[1;4;38;2;247;72;165m(\u001b[0m\u001b[1;4;38;2;247;72;165mweighted\u001b[0m\u001b[1;4;38;2;247;72;165m)\u001b[0m \u001b[1m(\u001b[0m\u001b[1;4;38;2;53;155;115mscaled\u001b[0m by \u001b[1;36m0.0008639129728627657\u001b[0m\u001b[1m)\u001b[0m\n"
      ]
     },
     "metadata": {},
     "output_type": "display_data"
    },
    {
     "data": {
      "text/html": [
       "<pre style=\"white-space:pre;overflow-x:auto;line-height:normal;font-family:Menlo,'DejaVu Sans Mono',consolas,'Courier New',monospace\">Cut <span style=\"color: #d55e00; text-decoration-color: #d55e00\">noMuon              </span>:pass = <span style=\"color: #008080; text-decoration-color: #008080; font-weight: bold\">272.5217134401749</span>   cumulative pass = <span style=\"color: #008080; text-decoration-color: #008080; font-weight: bold\">272.5217134401749</span>   all = <span style=\"color: #008080; text-decoration-color: #008080; font-weight: bold\">500.0003762745956</span>  \n",
       "-- eff = <span style=\"color: #008080; text-decoration-color: #008080; font-weight: bold\">54.5</span> %                    -- cumulative eff = <span style=\"color: #008080; text-decoration-color: #008080; font-weight: bold\">54.5</span> %\n",
       "</pre>\n"
      ],
      "text/plain": [
       "Cut \u001b[38;2;213;94;0mnoMuon              \u001b[0m:pass = \u001b[1;36m272.5217134401749\u001b[0m   cumulative pass = \u001b[1;36m272.5217134401749\u001b[0m   all = \u001b[1;36m500.0003762745956\u001b[0m  \n",
       "-- eff = \u001b[1;36m54.5\u001b[0m %                    -- cumulative eff = \u001b[1;36m54.5\u001b[0m %\n"
      ]
     },
     "metadata": {},
     "output_type": "display_data"
    },
    {
     "data": {
      "text/html": [
       "<pre style=\"white-space:pre;overflow-x:auto;line-height:normal;font-family:Menlo,'DejaVu Sans Mono',consolas,'Courier New',monospace\">Cut <span style=\"color: #d55e00; text-decoration-color: #d55e00\">twoElectron         </span>:pass = <span style=\"color: #008080; text-decoration-color: #008080; font-weight: bold\">22.295184322312107</span>  cumulative pass = <span style=\"color: #008080; text-decoration-color: #008080; font-weight: bold\">22.295184322312107</span>  all = <span style=\"color: #008080; text-decoration-color: #008080; font-weight: bold\">500.0003762745956</span>  \n",
       "-- eff = <span style=\"color: #008080; text-decoration-color: #008080; font-weight: bold\">4.5</span> %                    -- cumulative eff = <span style=\"color: #008080; text-decoration-color: #008080; font-weight: bold\">4.5</span> %\n",
       "</pre>\n"
      ],
      "text/plain": [
       "Cut \u001b[38;2;213;94;0mtwoElectron         \u001b[0m:pass = \u001b[1;36m22.295184322312107\u001b[0m  cumulative pass = \u001b[1;36m22.295184322312107\u001b[0m  all = \u001b[1;36m500.0003762745956\u001b[0m  \n",
       "-- eff = \u001b[1;36m4.5\u001b[0m %                    -- cumulative eff = \u001b[1;36m4.5\u001b[0m %\n"
      ]
     },
     "metadata": {},
     "output_type": "display_data"
    },
    {
     "data": {
      "text/html": [
       "<pre style=\"white-space:pre;overflow-x:auto;line-height:normal;font-family:Menlo,'DejaVu Sans Mono',consolas,'Courier New',monospace\">Cut <span style=\"color: #d55e00; text-decoration-color: #d55e00\">leadPt20            </span>:pass = <span style=\"color: #008080; text-decoration-color: #008080; font-weight: bold\">204.95827394831554</span>  cumulative pass = <span style=\"color: #008080; text-decoration-color: #008080; font-weight: bold\">22.74786628344207</span>   all = <span style=\"color: #008080; text-decoration-color: #008080; font-weight: bold\">500.0003762745956</span>  \n",
       "-- eff = <span style=\"color: #008080; text-decoration-color: #008080; font-weight: bold\">41.0</span> %                    -- cumulative eff = <span style=\"color: #008080; text-decoration-color: #008080; font-weight: bold\">4.5</span> %\n",
       "</pre>\n"
      ],
      "text/plain": [
       "Cut \u001b[38;2;213;94;0mleadPt20            \u001b[0m:pass = \u001b[1;36m204.95827394831554\u001b[0m  cumulative pass = \u001b[1;36m22.74786628344207\u001b[0m   all = \u001b[1;36m500.0003762745956\u001b[0m  \n",
       "-- eff = \u001b[1;36m41.0\u001b[0m %                    -- cumulative eff = \u001b[1;36m4.5\u001b[0m %\n"
      ]
     },
     "metadata": {},
     "output_type": "display_data"
    }
   ],
   "source": [
    "wgtcutflow.print(weighted=True, scale=500 / 578762)"
   ]
  },
  {
   "cell_type": "markdown",
   "id": "e89c75df",
   "metadata": {},
   "source": [
    "The histograms are now by default weighted, but like the print function this can be explicitly toggled between using `weighted=True|False.`There's no option to scale the histograms by a scalar, this is left to a user to do so afterwards."
   ]
  },
  {
   "cell_type": "code",
   "execution_count": 30,
   "id": "cc9c15b1",
   "metadata": {},
   "outputs": [
    {
     "data": {
      "image/png": "[encoded data removed]",
      "text/plain": [
       "<Figure size 640x480 with 1 Axes>"
      ]
     },
     "metadata": {},
     "output_type": "display_data"
    },
    {
     "data": {
      "image/png": "[encoded data removed]",
      "text/plain": [
       "<Figure size 640x480 with 1 Axes>"
      ]
     },
     "metadata": {},
     "output_type": "display_data"
    }
   ],
   "source": [
    "whonecut, whcutflow, wlabels = wgtcutflow.yieldhist()\n",
    "\n",
    "whonecut.plot1d(yerr=0)\n",
    "plt.xticks(plt.gca().get_xticks(), wlabels, rotation=45)\n",
    "plt.show()\n",
    "\n",
    "whcutflow.plot1d(yerr=0)\n",
    "plt.xticks(plt.gca().get_xticks(), wlabels, rotation=45)\n",
    "plt.show()"
   ]
  },
  {
   "cell_type": "markdown",
   "id": "9847580d",
   "metadata": {},
   "source": [
    "Saving to npz will include the weighted summary statistics by default, as well as a `commonmask`, but the actual weights (with the appropriate `weightsmodifier`) can also be saved directly, for later inspection."
   ]
  },
  {
   "cell_type": "code",
   "execution_count": 31,
   "id": "5dd9f140",
   "metadata": {},
   "outputs": [
    {
     "name": "stdout",
     "output_type": "stream",
     "text": [
      "CutflowToNpz(file=cutflow_results_weighted.npz), labels=['initial', 'noMuon', 'twoElectron', 'leadPt20'], commonmasked=False, weighted=True, weightsmodifier=None)\n"
     ]
    }
   ],
   "source": [
    "npz = wgtcutflow.to_npz(\"cutflow_results_weighted.npz\", includeweights=True)\n",
    "print(npz)\n",
    "npz.compute()"
   ]
  },
  {
   "cell_type": "code",
   "execution_count": 32,
   "id": "13c8a29a",
   "metadata": {},
   "outputs": [
    {
     "name": "stdout",
     "output_type": "stream",
     "text": [
      "labels: ['initial' 'noMuon' 'twoElectron' 'leadPt20']\n",
      "nevonecut: [40 28  5 17]\n",
      "nevcutflow: [40 28  5  3]\n",
      "masksonecut: [[ True  True  True  True False False False  True  True  True False  True\n",
      "   True  True False  True  True  True  True  True  True  True  True False\n",
      "  False  True False  True False  True False False  True  True False  True\n",
      "   True  True  True  True]\n",
      " [False False  True  True False False False False False False False False\n",
      "  False False False False False False  True False  True  True False False\n",
      "  False False False False False False False False False False False False\n",
      "  False False False False]\n",
      " [False  True  True False  True  True  True False False  True False False\n",
      "  False False False  True  True False False False  True  True False  True\n",
      "   True False  True  True False  True False  True False  True False False\n",
      "  False False False False]]\n",
      "maskscutflow: [[ True  True  True  True False False False  True  True  True False  True\n",
      "   True  True False  True  True  True  True  True  True  True  True False\n",
      "  False  True False  True False  True False False  True  True False  True\n",
      "   True  True  True  True]\n",
      " [False False  True  True False False False False False False False False\n",
      "  False False False False False False  True False  True  True False False\n",
      "  False False False False False False False False False False False False\n",
      "  False False False False]\n",
      " [False False  True False False False False False False False False False\n",
      "  False False False False False False False False  True  True False False\n",
      "  False False False False False False False False False False False False\n",
      "  False False False False]]\n",
      "wgtevonecut: [578762.43554688 315450.42382812  25807.2109375  237244.12109375]\n",
      "wgtevcutflow: [578762.43554688 315450.42382812  25807.2109375   26331.20117188]\n",
      "weights: [ 26331.20117188  26331.20117188  26331.20117188  25807.2109375\n",
      "  26331.20117188  26331.20117188 -26331.20117188  26067.890625\n",
      "  26331.20117188  26331.20117188  26331.20117188  26331.20117188\n",
      "  26331.20117188 -26331.20117188  26331.20117188  26331.20117188\n",
      " -26067.890625    26331.20117188 -26331.20117188  26331.20117188\n",
      "  26331.20117188 -26331.20117188  26331.20117188  26331.20117188\n",
      "  26331.20117188  26331.20117188  26331.20117188  26331.20117188\n",
      "  26331.20117188  26331.20117188  26331.20117188  26331.20117188\n",
      "  26331.20117188 -26331.20117188  26331.20117188 -26331.20117188\n",
      "  26331.20117188 -26331.20117188  26331.20117188 -26331.20117188]\n"
     ]
    }
   ],
   "source": [
    "with np.load(\"cutflow_results_weighted.npz\") as f2:\n",
    "    for i in f2.files:\n",
    "        print(f\"{i}: {f2[i]}\")"
   ]
  },
  {
   "cell_type": "markdown",
   "id": "4f9e3dfc",
   "metadata": {},
   "source": [
    "## Commonmask support in cutflows / nminusones\n",
    "The `commonmask` feature allows one to specify a boolean array that is applied to every individual and combination of cuts, as well as the initial counts. Orthogonal selections like a cut for channels or gen-level requirements can be specified independant of cuts applied to all channels, e.g. cuts on jet multiplicity or invariant masses, while allowing studies in individual 'channels.' This serves two purposes, one permitting the same studies with fewer masks in the PackedSelection (which in a very complex analysis might not fit into the widest storage backend) or even injecting 'external' boolean arrays, and two, allowing the single cuts and cutflows to be interpreted from more complex initial states than all events in a sample."
   ]
  },
  {
   "cell_type": "code",
   "execution_count": 33,
   "id": "e7029385",
   "metadata": {},
   "outputs": [],
   "source": [
    "selection.add_multiple(\n",
    "    {\n",
    "        \"lheTaus\": ak.sum(np.abs(events.LHEPart.pdgId) == 15, axis=1) >= 2,\n",
    "        \"lheMuons\": ak.sum(np.abs(events.LHEPart.pdgId) == 13, axis=1) >= 2,\n",
    "        \"lheElectrons\": ak.sum(np.abs(events.LHEPart.pdgId) == 11, axis=1) >= 2,\n",
    "    }\n",
    ")"
   ]
  },
  {
   "cell_type": "code",
   "execution_count": 34,
   "id": "a56a4a90",
   "metadata": {},
   "outputs": [],
   "source": [
    "taucutflow = selection.cutflow(\"noMuon\", \"twoElectron\", \"leadPt20\", commonmask=selection.require(lheTaus=True))\n",
    "elecutflow = selection.cutflow(\"noMuon\", \"twoElectron\", \"leadPt20\", commonmask=selection.require(lheElectrons=True))"
   ]
  },
  {
   "cell_type": "code",
   "execution_count": 35,
   "id": "abd4fd01",
   "metadata": {},
   "outputs": [
    {
     "name": "stdout",
     "output_type": "stream",
     "text": [
      "TAUS\n"
     ]
    },
    {
     "data": {
      "text/html": [
       "<pre style=\"white-space:pre;overflow-x:auto;line-height:normal;font-family:Menlo,'DejaVu Sans Mono',consolas,'Courier New',monospace\">\n",
       "<span style=\"color: #e69f00; text-decoration-color: #e69f00\">Cutflow selection stats:</span>\n",
       "</pre>\n"
      ],
      "text/plain": [
       "\n",
       "\u001b[38;2;230;159;0mCutflow selection stats:\u001b[0m\n"
      ]
     },
     "metadata": {},
     "output_type": "display_data"
    },
    {
     "data": {
      "text/html": [
       "<pre style=\"white-space:pre;overflow-x:auto;line-height:normal;font-family:Menlo,'DejaVu Sans Mono',consolas,'Courier New',monospace\">Cut <span style=\"color: #d55e00; text-decoration-color: #d55e00\">noMuon              </span>:pass = <span style=\"color: #008080; text-decoration-color: #008080; font-weight: bold\">12</span>                  cumulative pass = <span style=\"color: #008080; text-decoration-color: #008080; font-weight: bold\">12</span>                  all = <span style=\"color: #008080; text-decoration-color: #008080; font-weight: bold\">18</span>                 \n",
       "-- eff = <span style=\"color: #008080; text-decoration-color: #008080; font-weight: bold\">66.7</span> %                    -- cumulative eff = <span style=\"color: #008080; text-decoration-color: #008080; font-weight: bold\">66.7</span> %\n",
       "</pre>\n"
      ],
      "text/plain": [
       "Cut \u001b[38;2;213;94;0mnoMuon              \u001b[0m:pass = \u001b[1;36m12\u001b[0m                  cumulative pass = \u001b[1;36m12\u001b[0m                  all = \u001b[1;36m18\u001b[0m                 \n",
       "-- eff = \u001b[1;36m66.7\u001b[0m %                    -- cumulative eff = \u001b[1;36m66.7\u001b[0m %\n"
      ]
     },
     "metadata": {},
     "output_type": "display_data"
    },
    {
     "data": {
      "text/html": [
       "<pre style=\"white-space:pre;overflow-x:auto;line-height:normal;font-family:Menlo,'DejaVu Sans Mono',consolas,'Courier New',monospace\">Cut <span style=\"color: #d55e00; text-decoration-color: #d55e00\">twoElectron         </span>:pass = <span style=\"color: #008080; text-decoration-color: #008080; font-weight: bold\">2</span>                   cumulative pass = <span style=\"color: #008080; text-decoration-color: #008080; font-weight: bold\">2</span>                   all = <span style=\"color: #008080; text-decoration-color: #008080; font-weight: bold\">18</span>                 \n",
       "-- eff = <span style=\"color: #008080; text-decoration-color: #008080; font-weight: bold\">11.1</span> %                    -- cumulative eff = <span style=\"color: #008080; text-decoration-color: #008080; font-weight: bold\">11.1</span> %\n",
       "</pre>\n"
      ],
      "text/plain": [
       "Cut \u001b[38;2;213;94;0mtwoElectron         \u001b[0m:pass = \u001b[1;36m2\u001b[0m                   cumulative pass = \u001b[1;36m2\u001b[0m                   all = \u001b[1;36m18\u001b[0m                 \n",
       "-- eff = \u001b[1;36m11.1\u001b[0m %                    -- cumulative eff = \u001b[1;36m11.1\u001b[0m %\n"
      ]
     },
     "metadata": {},
     "output_type": "display_data"
    },
    {
     "data": {
      "text/html": [
       "<pre style=\"white-space:pre;overflow-x:auto;line-height:normal;font-family:Menlo,'DejaVu Sans Mono',consolas,'Courier New',monospace\">Cut <span style=\"color: #d55e00; text-decoration-color: #d55e00\">leadPt20            </span>:pass = <span style=\"color: #008080; text-decoration-color: #008080; font-weight: bold\">3</span>                   cumulative pass = <span style=\"color: #008080; text-decoration-color: #008080; font-weight: bold\">0</span>                   all = <span style=\"color: #008080; text-decoration-color: #008080; font-weight: bold\">18</span>                 \n",
       "-- eff = <span style=\"color: #008080; text-decoration-color: #008080; font-weight: bold\">16.7</span> %                    -- cumulative eff = <span style=\"color: #008080; text-decoration-color: #008080; font-weight: bold\">0.0</span> %\n",
       "</pre>\n"
      ],
      "text/plain": [
       "Cut \u001b[38;2;213;94;0mleadPt20            \u001b[0m:pass = \u001b[1;36m3\u001b[0m                   cumulative pass = \u001b[1;36m0\u001b[0m                   all = \u001b[1;36m18\u001b[0m                 \n",
       "-- eff = \u001b[1;36m16.7\u001b[0m %                    -- cumulative eff = \u001b[1;36m0.0\u001b[0m %\n"
      ]
     },
     "metadata": {},
     "output_type": "display_data"
    },
    {
     "name": "stdout",
     "output_type": "stream",
     "text": [
      "ELECTRONS\n"
     ]
    },
    {
     "data": {
      "text/html": [
       "<pre style=\"white-space:pre;overflow-x:auto;line-height:normal;font-family:Menlo,'DejaVu Sans Mono',consolas,'Courier New',monospace\">\n",
       "<span style=\"color: #e69f00; text-decoration-color: #e69f00\">Cutflow selection stats:</span>\n",
       "</pre>\n"
      ],
      "text/plain": [
       "\n",
       "\u001b[38;2;230;159;0mCutflow selection stats:\u001b[0m\n"
      ]
     },
     "metadata": {},
     "output_type": "display_data"
    },
    {
     "data": {
      "text/html": [
       "<pre style=\"white-space:pre;overflow-x:auto;line-height:normal;font-family:Menlo,'DejaVu Sans Mono',consolas,'Courier New',monospace\">Cut <span style=\"color: #d55e00; text-decoration-color: #d55e00\">noMuon              </span>:pass = <span style=\"color: #008080; text-decoration-color: #008080; font-weight: bold\">13</span>                  cumulative pass = <span style=\"color: #008080; text-decoration-color: #008080; font-weight: bold\">13</span>                  all = <span style=\"color: #008080; text-decoration-color: #008080; font-weight: bold\">13</span>                 \n",
       "-- eff = <span style=\"color: #008080; text-decoration-color: #008080; font-weight: bold\">100.0</span> %                    -- cumulative eff = <span style=\"color: #008080; text-decoration-color: #008080; font-weight: bold\">100.0</span> %\n",
       "</pre>\n"
      ],
      "text/plain": [
       "Cut \u001b[38;2;213;94;0mnoMuon              \u001b[0m:pass = \u001b[1;36m13\u001b[0m                  cumulative pass = \u001b[1;36m13\u001b[0m                  all = \u001b[1;36m13\u001b[0m                 \n",
       "-- eff = \u001b[1;36m100.0\u001b[0m %                    -- cumulative eff = \u001b[1;36m100.0\u001b[0m %\n"
      ]
     },
     "metadata": {},
     "output_type": "display_data"
    },
    {
     "data": {
      "text/html": [
       "<pre style=\"white-space:pre;overflow-x:auto;line-height:normal;font-family:Menlo,'DejaVu Sans Mono',consolas,'Courier New',monospace\">Cut <span style=\"color: #d55e00; text-decoration-color: #d55e00\">twoElectron         </span>:pass = <span style=\"color: #008080; text-decoration-color: #008080; font-weight: bold\">3</span>                   cumulative pass = <span style=\"color: #008080; text-decoration-color: #008080; font-weight: bold\">3</span>                   all = <span style=\"color: #008080; text-decoration-color: #008080; font-weight: bold\">13</span>                 \n",
       "-- eff = <span style=\"color: #008080; text-decoration-color: #008080; font-weight: bold\">23.1</span> %                    -- cumulative eff = <span style=\"color: #008080; text-decoration-color: #008080; font-weight: bold\">23.1</span> %\n",
       "</pre>\n"
      ],
      "text/plain": [
       "Cut \u001b[38;2;213;94;0mtwoElectron         \u001b[0m:pass = \u001b[1;36m3\u001b[0m                   cumulative pass = \u001b[1;36m3\u001b[0m                   all = \u001b[1;36m13\u001b[0m                 \n",
       "-- eff = \u001b[1;36m23.1\u001b[0m %                    -- cumulative eff = \u001b[1;36m23.1\u001b[0m %\n"
      ]
     },
     "metadata": {},
     "output_type": "display_data"
    },
    {
     "data": {
      "text/html": [
       "<pre style=\"white-space:pre;overflow-x:auto;line-height:normal;font-family:Menlo,'DejaVu Sans Mono',consolas,'Courier New',monospace\">Cut <span style=\"color: #d55e00; text-decoration-color: #d55e00\">leadPt20            </span>:pass = <span style=\"color: #008080; text-decoration-color: #008080; font-weight: bold\">9</span>                   cumulative pass = <span style=\"color: #008080; text-decoration-color: #008080; font-weight: bold\">3</span>                   all = <span style=\"color: #008080; text-decoration-color: #008080; font-weight: bold\">13</span>                 \n",
       "-- eff = <span style=\"color: #008080; text-decoration-color: #008080; font-weight: bold\">69.2</span> %                    -- cumulative eff = <span style=\"color: #008080; text-decoration-color: #008080; font-weight: bold\">23.1</span> %\n",
       "</pre>\n"
      ],
      "text/plain": [
       "Cut \u001b[38;2;213;94;0mleadPt20            \u001b[0m:pass = \u001b[1;36m9\u001b[0m                   cumulative pass = \u001b[1;36m3\u001b[0m                   all = \u001b[1;36m13\u001b[0m                 \n",
       "-- eff = \u001b[1;36m69.2\u001b[0m %                    -- cumulative eff = \u001b[1;36m23.1\u001b[0m %\n"
      ]
     },
     "metadata": {},
     "output_type": "display_data"
    }
   ],
   "source": [
    "print(\"TAUS\")\n",
    "taucutflow.print()\n",
    "print(\"ELECTRONS\")\n",
    "elecutflow.print()"
   ]
  },
  {
   "cell_type": "markdown",
   "id": "851963d2",
   "metadata": {},
   "source": [
    "## Categorical Axis fill for `yieldhist` and `plot_vars`\n",
    "In order to support subdividing a sample into subsamples or different channels in an efficient manner, a complex input `categorical` is available. This is expected to be a dictionary with several key-value pairs: `axis`: a `hist.axis` type including the axis features desired; `values`: an event-by-event array of fill values that should be passed into the histogram fill, and `labels`: the human-readable bin labels matching the axis passed in."
   ]
  },
  {
   "cell_type": "code",
   "execution_count": 36,
   "id": "e9072a2d",
   "metadata": {},
   "outputs": [
    {
     "data": {
      "image/png": "[encoded data removed]",
      "text/plain": [
       "<Figure size 640x480 with 1 Axes>"
      ]
     },
     "metadata": {},
     "output_type": "display_data"
    }
   ],
   "source": [
    "import hist\n",
    "\n",
    "cwhonecut, cwhcutflow, cutlabels, catlabels = wgtcutflow.yieldhist(\n",
    "    categorical={\"axis\": hist.axis.IntCategory([0, 41, 43], name=\"ttbarID\"), \"values\": events.genTtbarId, \"labels\": [\"X+jj\", \"X+c\", \"X+cc\"]}\n",
    ")\n",
    "\n",
    "cwhcutflow.plot1d(yerr=0, overlay=\"ttbarID\")\n",
    "plt.xticks(plt.gca().get_xticks(), wlabels, rotation=45)\n",
    "plt.legend()\n",
    "plt.show()"
   ]
  },
  {
   "cell_type": "code",
   "execution_count": 37,
   "id": "89ee2204",
   "metadata": {},
   "outputs": [
    {
     "data": {
      "text/plain": [
       "[StairsArtists(stairs=<matplotlib.patches.StepPatch object at 0x1450af750>, errorbar=None, legend_artist=None),\n",
       " StairsArtists(stairs=<matplotlib.patches.StepPatch object at 0x1450afed0>, errorbar=None, legend_artist=None),\n",
       " StairsArtists(stairs=<matplotlib.patches.StepPatch object at 0x145218050>, errorbar=None, legend_artist=None),\n",
       " StairsArtists(stairs=<matplotlib.patches.StepPatch object at 0x145218190>, errorbar=None, legend_artist=None)]"
      ]
     },
     "execution_count": 37,
     "metadata": {},
     "output_type": "execute_result"
    },
    {
     "data": {
      "image/png": "[encoded data removed]",
      "text/plain": [
       "<Figure size 640x480 with 1 Axes>"
      ]
     },
     "metadata": {},
     "output_type": "display_data"
    }
   ],
   "source": [
    "wch1, wch2, wclabels, catlabels = wgtcutflow.plot_vars(\n",
    "    {\"ept\": events.Electron.pt, \"ephi\": events.Electron.phi},\n",
    "    axes=[hist.axis.Regular(3, 0, 60, name=\"ept\", label=r\"$p_{T}$ [GeV]\"), hist.axis.Regular(10, -3.14, 3.14, name=\"ephi\", label=r\"$\\phi\", circular=True)],\n",
    "    categorical={\"axis\": hist.axis.IntCategory([0, 41, 43], name=\"ttbarID\"), \"values\": events.genTtbarId, \"labels\": [\"X+jj\", \"X+c\", \"X+cc\"]},\n",
    ")\n",
    "wch2[0][:, :, 0].project(\"ept\", \"cutflow\").plot1d(overlay=\"cutflow\", yerr=False)"
   ]
  },
  {
   "cell_type": "markdown",
   "id": "a96edc79-1b3b-4ff9-8459-6ef28a99d629",
   "metadata": {
    "slideshow": {
     "slide_type": "slide"
    }
   },
   "source": [
    "In `CalVer coffea` with `mode=\"dask\"`, everything happens in a delayed fashion. Therefore, `PackedSelection` can also operate in \"dask\" and fully support `dask_awkward` arrays. Use is still the same, but everything now is\n",
    "a delayed `dask` type object which can be computed whenever the user wants to. This can be done by either calling `.compute()` on the object or `dask.compute(*things)`.\n",
    "\n",
    "PackedSelection can be initialized to operate in \"dask\" mode by instantiating with `None` and adding a `dask_awkward` array for the first time instead of an \"eager\" or \"virtual\" `numpy` or `awkward` array.\n",
    "It should be noted that we only support `dask_awkward` arrays and not `dask.array` arrays. Please convert your `dask` arrays to `dask_awkward` via `dask_awkward.from_dask_array(array)`. It is also not possible to mix materialized and delayed arrays in the same `PackedSelection`. Let's now read the same events using dask and perform the exact same things."
   ]
  },
  {
   "cell_type": "code",
   "execution_count": 38,
   "id": "1adf0374-eee9-471b-9582-9cbbf06d2dda",
   "metadata": {
    "tags": []
   },
   "outputs": [
    {
     "data": {
      "text/plain": [
       "dask.awkward<from-uproot, type='## * NanoEvents', npartitions=1>"
      ]
     },
     "execution_count": 38,
     "metadata": {},
     "output_type": "execute_result"
    }
   ],
   "source": [
    "import dask\n",
    "import dask_awkward as dak\n",
    "\n",
    "fname = \"coffea/tests/samples/nano_dy.root\"\n",
    "dakevents = NanoEventsFactory.from_root(\n",
    "    {fname: \"Events\"},\n",
    "    metadata={\"dataset\": \"nano_dy\"},\n",
    "    schemaclass=NanoAODSchema,\n",
    "    mode=\"dask\",\n",
    ").events()\n",
    "\n",
    "dakevents"
   ]
  },
  {
   "cell_type": "markdown",
   "id": "8cb3c5fc-8897-4860-8fb0-924655e81ef7",
   "metadata": {},
   "source": [
    "Now `dakevents` is a delayed `dask_awkward` version of our events and if we compute it we get our normal events."
   ]
  },
  {
   "cell_type": "code",
   "execution_count": 39,
   "id": "a54d1fcc-13c6-4919-bbac-3d6c299f65ab",
   "metadata": {},
   "outputs": [
    {
     "data": {
      "text/html": [
       "<pre>[{Electron: [], PuppiMET: {phi: 1.64, ...}, FsrPhoton: [], ChsMET: {...}, ...},\n",
       " {Electron: [{deltaEtaSC: -0.0145, ...}], PuppiMET: {...}, FsrPhoton: [], ...},\n",
       " {Electron: [Electron, ...], PuppiMET: {...}, ...},\n",
       " {Electron: [Electron, ...], PuppiMET: {...}, ...},\n",
       " {Electron: [], PuppiMET: {phi: 0.538, ...}, FsrPhoton: [], ChsMET: {...}, ...},\n",
       " {Electron: [{deltaEtaSC: -0.0232, ...}], PuppiMET: {...}, FsrPhoton: [], ...},\n",
       " {Electron: [{deltaEtaSC: 0.00415, ...}], PuppiMET: {...}, FsrPhoton: [], ...},\n",
       " {Electron: [], PuppiMET: {phi: 0.105, ...}, FsrPhoton: [], ChsMET: {...}, ...},\n",
       " {Electron: [], PuppiMET: {phi: -0.513, ...}, FsrPhoton: [], ChsMET: ..., ...},\n",
       " {Electron: [{deltaEtaSC: 0.00813, ...}], PuppiMET: {...}, FsrPhoton: [], ...},\n",
       " ...,\n",
       " {Electron: [{deltaEtaSC: -0.00836, ...}], PuppiMET: {...}, ...},\n",
       " {Electron: [], PuppiMET: {phi: 0.612, ...}, FsrPhoton: [], ChsMET: {...}, ...},\n",
       " {Electron: [{deltaEtaSC: -0.00405, ...}], PuppiMET: {...}, ...},\n",
       " {Electron: [], PuppiMET: {phi: 2.83, ...}, FsrPhoton: [], ChsMET: {...}, ...},\n",
       " {Electron: [{deltaEtaSC: 0.053, ...}], PuppiMET: {...}, FsrPhoton: [], ...},\n",
       " {Electron: [], PuppiMET: {phi: 1.44, ...}, FsrPhoton: [], ChsMET: {...}, ...},\n",
       " {Electron: [{deltaEtaSC: -0.00986, ...}], PuppiMET: {...}, ...},\n",
       " {Electron: [], PuppiMET: {phi: -2.92, ...}, FsrPhoton: [], ChsMET: {...}, ...},\n",
       " {Electron: [], PuppiMET: {phi: -0.415, ...}, FsrPhoton: [], ChsMET: ..., ...}]\n",
       "--------------------------------------------------------------------------------\n",
       "backend: cpu\n",
       "nbytes: 243.3 kB\n",
       "type: 40 * event</pre>"
      ],
      "text/plain": [
       "<NanoEventsArray [<NanoAOD event>, ...] type='40 * event'>"
      ]
     },
     "execution_count": 39,
     "metadata": {},
     "output_type": "execute_result"
    }
   ],
   "source": [
    "dakevents.compute()"
   ]
  },
  {
   "cell_type": "markdown",
   "id": "bd16d282-ace9-4d86-9079-dd66a635e508",
   "metadata": {},
   "source": [
    "Now we have to use `dask_awkward` instead of `awkward` and `dakevents` instead of `events` to do the same things. Let's add the same (now delayed) arrays to PackedSelection."
   ]
  },
  {
   "cell_type": "code",
   "execution_count": 40,
   "id": "dc25b728-7504-44fb-b920-051dab6c99d1",
   "metadata": {
    "tags": []
   },
   "outputs": [
    {
     "name": "stdout",
     "output_type": "stream",
     "text": [
      "PackedSelection(selections=('twoElectron', 'eleOppSign', 'noElectron', 'twoMuon', 'muOppSign', 'noMuon', 'leadPt20'), delayed_mode=True, items=7, maxitems=32)\n"
     ]
    }
   ],
   "source": [
    "selection = PackedSelection()\n",
    "\n",
    "selection.add_multiple(\n",
    "    {\n",
    "        \"twoElectron\": dak.num(dakevents.Electron) == 2,\n",
    "        \"eleOppSign\": dak.sum(dakevents.Electron.charge, axis=1) == 0,\n",
    "        \"noElectron\": dak.num(dakevents.Electron) == 0,\n",
    "        \"twoMuon\": dak.num(dakevents.Muon) == 2,\n",
    "        \"muOppSign\": dak.sum(dakevents.Muon.charge, axis=1) == 0,\n",
    "        \"noMuon\": dak.num(dakevents.Muon) == 0,\n",
    "        \"leadPt20\": dak.any(dakevents.Electron.pt >= 20.0, axis=1) | dak.any(dakevents.Muon.pt >= 20.0, axis=1),\n",
    "    }\n",
    ")\n",
    "\n",
    "print(selection)"
   ]
  },
  {
   "cell_type": "markdown",
   "id": "49520c74-3bac-4355-b4b8-482ac38b4ae2",
   "metadata": {},
   "source": [
    "Now, the same functions will return `dask_awkward` objects that have to be computed."
   ]
  },
  {
   "cell_type": "code",
   "execution_count": 41,
   "id": "74c43d65-824b-49e6-a6aa-aa7bef97e7d9",
   "metadata": {
    "tags": []
   },
   "outputs": [
    {
     "data": {
      "text/plain": [
       "dask.awkward<equal, type='## * bool', npartitions=1>"
      ]
     },
     "execution_count": 41,
     "metadata": {},
     "output_type": "execute_result"
    }
   ],
   "source": [
    "selection.all(\"twoElectron\", \"noMuon\", \"leadPt20\")"
   ]
  },
  {
   "cell_type": "markdown",
   "id": "87ce9147-a37d-46ba-802c-f1531cd1cf3d",
   "metadata": {},
   "source": [
    "When computing those arrays we should get the same arrays that we got when operating in eager mode."
   ]
  },
  {
   "cell_type": "code",
   "execution_count": 42,
   "id": "be4b8e7a-5ea1-45f4-b1d9-827e90331366",
   "metadata": {
    "tags": []
   },
   "outputs": [
    {
     "name": "stdout",
     "output_type": "stream",
     "text": [
      "[False, False, True, False, False, ..., False, False, False, False, False]\n",
      "[False, False, False, True, False, ..., False, False, False, False, False]\n"
     ]
    }
   ],
   "source": [
    "print(selection.all(\"twoElectron\", \"noMuon\", \"leadPt20\").compute())\n",
    "print(selection.require(twoElectron=True, noMuon=True, eleOppSign=False).compute())"
   ]
  },
  {
   "cell_type": "markdown",
   "id": "b32ece8e-90af-4808-8248-8dfe63c16a6c",
   "metadata": {},
   "source": [
    "Now, N-1 and cutflow will just return only delayed objects that must be computed."
   ]
  },
  {
   "cell_type": "code",
   "execution_count": 43,
   "id": "4e79a6b3-55cc-4248-a1db-a076f4667278",
   "metadata": {
    "slideshow": {
     "slide_type": "-"
    },
    "tags": []
   },
   "outputs": [
    {
     "data": {
      "text/plain": [
       "NminusOne(selections=('twoElectron', 'noMuon', 'leadPt20'), commonmasked=False, weighted=True, weightsmodifier=None)"
      ]
     },
     "execution_count": 43,
     "metadata": {},
     "output_type": "execute_result"
    }
   ],
   "source": [
    "dask_weights = Weights(None)\n",
    "dask_weights.add(\"genweight\", dakevents.genWeight)\n",
    "nminusone = selection.nminusone(\"twoElectron\", \"noMuon\", \"leadPt20\", weights=dask_weights, weightsmodifier=None)\n",
    "nminusone"
   ]
  },
  {
   "cell_type": "markdown",
   "id": "e661f0d1-f792-423c-b698-f031209a721f",
   "metadata": {
    "slideshow": {
     "slide_type": "-"
    }
   },
   "source": [
    "It is again an `NminusOne` object which has the same methods."
   ]
  },
  {
   "cell_type": "markdown",
   "id": "8442cbf2-6c41-4174-a011-a0c451c2feb6",
   "metadata": {
    "slideshow": {
     "slide_type": "slide"
    }
   },
   "source": [
    "Let's look at the results of the N-1 selection in the same way"
   ]
  },
  {
   "cell_type": "code",
   "execution_count": 44,
   "id": "dee4c70f-d6fa-4b0a-9d04-f5555ec1856f",
   "metadata": {
    "slideshow": {
     "slide_type": "-"
    },
    "tags": []
   },
   "outputs": [
    {
     "data": {
      "text/plain": [
       "(['initial', 'N - twoElectron', 'N - noMuon', 'N - leadPt20', 'N'],\n",
       " [dask.awkward<count, type=Scalar, dtype=int64>,\n",
       "  dask.awkward<sum, type=Scalar, dtype=int64>,\n",
       "  dask.awkward<sum, type=Scalar, dtype=int64>,\n",
       "  dask.awkward<sum, type=Scalar, dtype=int64>,\n",
       "  dask.awkward<sum, type=Scalar, dtype=int64>],\n",
       " [dask.awkward<equal, type='## * bool', npartitions=1>,\n",
       "  dask.awkward<equal, type='## * bool', npartitions=1>,\n",
       "  dask.awkward<equal, type='## * bool', npartitions=1>,\n",
       "  dask.awkward<equal, type='## * bool', npartitions=1>],\n",
       " [dask.awkward<sum, type=Scalar, dtype=float32>,\n",
       "  dask.awkward<sum, type=Scalar, dtype=float32>,\n",
       "  dask.awkward<sum, type=Scalar, dtype=float32>,\n",
       "  dask.awkward<sum, type=Scalar, dtype=float32>,\n",
       "  dask.awkward<sum, type=Scalar, dtype=float32>])"
      ]
     },
     "execution_count": 44,
     "metadata": {},
     "output_type": "execute_result"
    }
   ],
   "source": [
    "labels, nev, masks, _, wgtev, _, _ = nminusone.result()\n",
    "labels, nev, masks, wgtev"
   ]
  },
  {
   "cell_type": "markdown",
   "id": "fbd64ce9-fa7d-4ff6-847a-856dae236565",
   "metadata": {},
   "source": [
    "Now however, you can see that everything is a dask awkward object (apart from the labels of course). If we compute them we should get the same things as before and indeed we do:"
   ]
  },
  {
   "cell_type": "code",
   "execution_count": 45,
   "id": "f8fc01f5-3f07-441d-b7de-44aeeaa042ca",
   "metadata": {
    "tags": []
   },
   "outputs": [
    {
     "data": {
      "text/plain": [
       "((np.int64(40), np.int64(10), np.int64(3), np.int64(5), np.int64(3)),\n",
       " (<Array [False, True, True, False, ..., False, False, False] type='40 * bool'>,\n",
       "  <Array [False, False, True, False, ..., False, False, False] type='40 * bool'>,\n",
       "  <Array [False, False, True, True, ..., False, False, False] type='40 * bool'>,\n",
       "  <Array [False, False, True, False, ..., False, False, False] type='40 * bool'>),\n",
       " (np.float32(578762.44),\n",
       "  np.float32(105588.11),\n",
       "  np.float32(26331.201),\n",
       "  np.float32(25807.213),\n",
       "  np.float32(26331.201)))"
      ]
     },
     "execution_count": 45,
     "metadata": {},
     "output_type": "execute_result"
    }
   ],
   "source": [
    "dask.compute(*nev), dask.compute(*masks), dask.compute(*wgtev)"
   ]
  },
  {
   "cell_type": "markdown",
   "id": "1df3b553-70b9-4785-b5f3-f44cd25889a6",
   "metadata": {},
   "source": [
    "We can again print the statistics, however for this to happen, the object must of course compute the delayed `nev` list."
   ]
  },
  {
   "cell_type": "code",
   "execution_count": 46,
   "id": "118ee230-eb4f-44da-9dba-05ce15e7951e",
   "metadata": {
    "slideshow": {
     "slide_type": "-"
    },
    "tags": []
   },
   "outputs": [
    {
     "name": "stderr",
     "output_type": "stream",
     "text": [
      "/Users/iason/Dropbox/work/pyhep_dev/coffea/src/coffea/analysis_tools.py:1062: UserWarning: Printing the N-1 selection statistics is going to compute dask_awkward objects.\n",
      "  warnings.warn(\n"
     ]
    },
    {
     "data": {
      "text/html": [
       "<pre style=\"white-space:pre;overflow-x:auto;line-height:normal;font-family:Menlo,'DejaVu Sans Mono',consolas,'Courier New',monospace\">\n",
       "<span style=\"color: #e69f00; text-decoration-color: #e69f00\">N-</span><span style=\"color: #e69f00; text-decoration-color: #e69f00; font-weight: bold\">1</span><span style=\"color: #e69f00; text-decoration-color: #e69f00\"> selection stats:</span> <span style=\"color: #f748a5; text-decoration-color: #f748a5; font-weight: bold; text-decoration: underline\">(weighted)</span>\n",
       "</pre>\n"
      ],
      "text/plain": [
       "\n",
       "\u001b[38;2;230;159;0mN-\u001b[0m\u001b[1;38;2;230;159;0m1\u001b[0m\u001b[38;2;230;159;0m selection stats:\u001b[0m \u001b[1;4;38;2;247;72;165m(\u001b[0m\u001b[1;4;38;2;247;72;165mweighted\u001b[0m\u001b[1;4;38;2;247;72;165m)\u001b[0m\n"
      ]
     },
     "metadata": {},
     "output_type": "display_data"
    },
    {
     "data": {
      "text/html": [
       "<pre style=\"white-space:pre;overflow-x:auto;line-height:normal;font-family:Menlo,'DejaVu Sans Mono',consolas,'Courier New',monospace\">Ignoring <span style=\"color: #d55e00; text-decoration-color: #d55e00\">twoElectron         </span>pass = <span style=\"color: #008080; text-decoration-color: #008080; font-weight: bold\">105588.109375</span>       all = <span style=\"color: #008080; text-decoration-color: #008080; font-weight: bold\">578762.4375</span>         -- eff = <span style=\"color: #008080; text-decoration-color: #008080; font-weight: bold\">18.2</span> %\n",
       "</pre>\n"
      ],
      "text/plain": [
       "Ignoring \u001b[38;2;213;94;0mtwoElectron         \u001b[0mpass = \u001b[1;36m105588.109375\u001b[0m       all = \u001b[1;36m578762.4375\u001b[0m         -- eff = \u001b[1;36m18.2\u001b[0m %\n"
      ]
     },
     "metadata": {},
     "output_type": "display_data"
    },
    {
     "data": {
      "text/html": [
       "<pre style=\"white-space:pre;overflow-x:auto;line-height:normal;font-family:Menlo,'DejaVu Sans Mono',consolas,'Courier New',monospace\">Ignoring <span style=\"color: #d55e00; text-decoration-color: #d55e00\">noMuon              </span>pass = <span style=\"color: #008080; text-decoration-color: #008080; font-weight: bold\">26331.201171875</span>     all = <span style=\"color: #008080; text-decoration-color: #008080; font-weight: bold\">578762.4375</span>         -- eff = <span style=\"color: #008080; text-decoration-color: #008080; font-weight: bold\">4.5</span> %\n",
       "</pre>\n"
      ],
      "text/plain": [
       "Ignoring \u001b[38;2;213;94;0mnoMuon              \u001b[0mpass = \u001b[1;36m26331.201171875\u001b[0m     all = \u001b[1;36m578762.4375\u001b[0m         -- eff = \u001b[1;36m4.5\u001b[0m %\n"
      ]
     },
     "metadata": {},
     "output_type": "display_data"
    },
    {
     "data": {
      "text/html": [
       "<pre style=\"white-space:pre;overflow-x:auto;line-height:normal;font-family:Menlo,'DejaVu Sans Mono',consolas,'Courier New',monospace\">Ignoring <span style=\"color: #d55e00; text-decoration-color: #d55e00\">leadPt20            </span>pass = <span style=\"color: #008080; text-decoration-color: #008080; font-weight: bold\">25807.212890625</span>     all = <span style=\"color: #008080; text-decoration-color: #008080; font-weight: bold\">578762.4375</span>         -- eff = <span style=\"color: #008080; text-decoration-color: #008080; font-weight: bold\">4.5</span> %\n",
       "</pre>\n"
      ],
      "text/plain": [
       "Ignoring \u001b[38;2;213;94;0mleadPt20            \u001b[0mpass = \u001b[1;36m25807.212890625\u001b[0m     all = \u001b[1;36m578762.4375\u001b[0m         -- eff = \u001b[1;36m4.5\u001b[0m %\n"
      ]
     },
     "metadata": {},
     "output_type": "display_data"
    },
    {
     "data": {
      "text/html": [
       "<pre style=\"white-space:pre;overflow-x:auto;line-height:normal;font-family:Menlo,'DejaVu Sans Mono',consolas,'Courier New',monospace\"><span style=\"color: #e69f00; text-decoration-color: #e69f00\">All cuts</span>                     pass = <span style=\"color: #008080; text-decoration-color: #008080; font-weight: bold\">26331.201171875</span>     all = <span style=\"color: #008080; text-decoration-color: #008080; font-weight: bold\">578762.4375</span>         -- eff = <span style=\"color: #008080; text-decoration-color: #008080; font-weight: bold\">4.5</span> %\n",
       "</pre>\n"
      ],
      "text/plain": [
       "\u001b[38;2;230;159;0mAll cuts\u001b[0m                     pass = \u001b[1;36m26331.201171875\u001b[0m     all = \u001b[1;36m578762.4375\u001b[0m         -- eff = \u001b[1;36m4.5\u001b[0m %\n"
      ]
     },
     "metadata": {},
     "output_type": "display_data"
    }
   ],
   "source": [
    "nminusone.print(weighted=True)"
   ]
  },
  {
   "cell_type": "markdown",
   "id": "e1146ee8-5fe8-4e05-8ebe-658014f613a3",
   "metadata": {},
   "source": [
    "And now if we call `result()` again, the `nev` list is materialized."
   ]
  },
  {
   "cell_type": "code",
   "execution_count": 47,
   "id": "700e7669-0459-4e3d-b020-805562106cab",
   "metadata": {
    "tags": []
   },
   "outputs": [
    {
     "data": {
      "text/plain": [
       "[np.int64(40), np.int64(10), np.int64(3), np.int64(5), np.int64(3)]"
      ]
     },
     "execution_count": 47,
     "metadata": {},
     "output_type": "execute_result"
    }
   ],
   "source": [
    "nminusone.result().nev"
   ]
  },
  {
   "cell_type": "markdown",
   "id": "b77aa859-7ae1-4c54-9fc4-2ab516e3a483",
   "metadata": {
    "slideshow": {
     "slide_type": "slide"
    },
    "tags": []
   },
   "source": [
    "Again the histogram of your total event yields works. This time it is returns a `hist.dask.Hist` object."
   ]
  },
  {
   "cell_type": "code",
   "execution_count": 48,
   "id": "a2c4fb20-b241-4eeb-8312-ee5a645f30b6",
   "metadata": {
    "slideshow": {
     "slide_type": "-"
    },
    "tags": []
   },
   "outputs": [
    {
     "data": {
      "text/html": [
       "<html>\n",
       "<div style=\"display:flex; align-items:center;\">\n",
       "<div style=\"width:290px;\">\n",
       "<svg xmlns=\"http://www.w3.org/2000/svg\" viewBox=\"-10 -105 270 120\">\n",
       "<line x1=\"-5\" y1=\"0\" x2=\"255\" y2=\"0\" style=\"fill:none;stroke-width:2;stroke:currentColor\"/>\n",
       "<text text-anchor=\"middle\" x=\"0\" y=\"15\" style=\"fill:currentColor;\">\n",
       "0\n",
       "</text>\n",
       "<text text-anchor=\"middle\" x=\"250\" y=\"15\" style=\"fill:currentColor;\">\n",
       "5\n",
       "</text>\n",
       "<text text-anchor=\"middle\" x=\"125.0\" y=\"15\" style=\"fill:currentColor;\">\n",
       "N-1\n",
       "</text>\n",
       "<polyline points=\"  0,0   0,-0  50,-0  50,-0 100,-0 100,-0 150,-0 150,-0 200,-0 200,-0 250,-0 250,0\" style=\"fill:none; stroke:currentColor;\"/>\n",
       "</svg>\n",
       "</div>\n",
       "<div style=\"flex=grow:1;\">\n",
       "Integer(0, 5, name='nminusone', label='N-1')<br/>\n",
       "<hr style=\"margin-top:.2em; margin-bottom:.2em;\"/>\n",
       "Weight() Σ=WeightedSum(value=0, variance=0)\n",
       "\n",
       "</div>\n",
       "</div>\n",
       "</html>"
      ],
      "text/plain": [
       "Hist(Integer(0, 5, name='nminusone', label='N-1'), storage=Weight()) # Sum: WeightedSum(value=0, variance=0) (has staged fills)"
      ]
     },
     "execution_count": 48,
     "metadata": {},
     "output_type": "execute_result"
    }
   ],
   "source": [
    "h, labels = nminusone.yieldhist()\n",
    "h"
   ]
  },
  {
   "cell_type": "markdown",
   "id": "bc992bfd-cce3-4004-9e16-275d69044745",
   "metadata": {},
   "source": [
    "It appears empty because it hasn't been computed yet. Let's do that."
   ]
  },
  {
   "cell_type": "code",
   "execution_count": 49,
   "id": "38a6d003-fc3c-46e5-ad3b-5d343e997dc5",
   "metadata": {
    "tags": []
   },
   "outputs": [
    {
     "data": {
      "text/html": [
       "<html>\n",
       "<div style=\"display:flex; align-items:center;\">\n",
       "<div style=\"width:290px;\">\n",
       "<svg xmlns=\"http://www.w3.org/2000/svg\" viewBox=\"-10 -105 270 120\">\n",
       "<line x1=\"-5\" y1=\"0\" x2=\"255\" y2=\"0\" style=\"fill:none;stroke-width:2;stroke:currentColor\"/>\n",
       "<text text-anchor=\"middle\" x=\"0\" y=\"15\" style=\"fill:currentColor;\">\n",
       "0\n",
       "</text>\n",
       "<text text-anchor=\"middle\" x=\"250\" y=\"15\" style=\"fill:currentColor;\">\n",
       "5\n",
       "</text>\n",
       "<text text-anchor=\"middle\" x=\"125.0\" y=\"15\" style=\"fill:currentColor;\">\n",
       "N-1\n",
       "</text>\n",
       "<polyline points=\"  0,0   0,-100  50,-100  50,-18.2 100,-18.2 100,-4.55 150,-4.55 150,-4.46 200,-4.46 200,-4.55 250,-4.55 250,0\" style=\"fill:none; stroke:currentColor;\"/>\n",
       "</svg>\n",
       "</div>\n",
       "<div style=\"flex=grow:1;\">\n",
       "Integer(0, 5, name='nminusone', label='N-1')<br/>\n",
       "<hr style=\"margin-top:.2em; margin-bottom:.2em;\"/>\n",
       "Weight() Σ=WeightedSum(value=762820, variance=4.21972e+10)\n",
       "\n",
       "</div>\n",
       "</div>\n",
       "</html>"
      ],
      "text/plain": [
       "Hist(Integer(0, 5, name='nminusone', label='N-1'), storage=Weight()) # Sum: WeightedSum(value=762820, variance=4.21972e+10)"
      ]
     },
     "execution_count": 49,
     "metadata": {},
     "output_type": "execute_result"
    }
   ],
   "source": [
    "h.compute()"
   ]
  },
  {
   "cell_type": "markdown",
   "id": "c36f391a-d2a6-4364-afcc-8da81d72ec90",
   "metadata": {},
   "source": [
    "Notice that this doesn't happen in place as `h` is still not computed."
   ]
  },
  {
   "cell_type": "code",
   "execution_count": 50,
   "id": "226cd7fa-ac79-460d-aee5-856eb3362099",
   "metadata": {
    "tags": []
   },
   "outputs": [
    {
     "data": {
      "text/html": [
       "<html>\n",
       "<div style=\"display:flex; align-items:center;\">\n",
       "<div style=\"width:290px;\">\n",
       "<svg xmlns=\"http://www.w3.org/2000/svg\" viewBox=\"-10 -105 270 120\">\n",
       "<line x1=\"-5\" y1=\"0\" x2=\"255\" y2=\"0\" style=\"fill:none;stroke-width:2;stroke:currentColor\"/>\n",
       "<text text-anchor=\"middle\" x=\"0\" y=\"15\" style=\"fill:currentColor;\">\n",
       "0\n",
       "</text>\n",
       "<text text-anchor=\"middle\" x=\"250\" y=\"15\" style=\"fill:currentColor;\">\n",
       "5\n",
       "</text>\n",
       "<text text-anchor=\"middle\" x=\"125.0\" y=\"15\" style=\"fill:currentColor;\">\n",
       "N-1\n",
       "</text>\n",
       "<polyline points=\"  0,0   0,-0  50,-0  50,-0 100,-0 100,-0 150,-0 150,-0 200,-0 200,-0 250,-0 250,0\" style=\"fill:none; stroke:currentColor;\"/>\n",
       "</svg>\n",
       "</div>\n",
       "<div style=\"flex=grow:1;\">\n",
       "Integer(0, 5, name='nminusone', label='N-1')<br/>\n",
       "<hr style=\"margin-top:.2em; margin-bottom:.2em;\"/>\n",
       "Weight() Σ=WeightedSum(value=0, variance=0)\n",
       "\n",
       "</div>\n",
       "</div>\n",
       "</html>"
      ],
      "text/plain": [
       "Hist(Integer(0, 5, name='nminusone', label='N-1'), storage=Weight()) # Sum: WeightedSum(value=0, variance=0)"
      ]
     },
     "execution_count": 50,
     "metadata": {},
     "output_type": "execute_result"
    }
   ],
   "source": [
    "h"
   ]
  },
  {
   "cell_type": "markdown",
   "id": "6e496df3-8846-4678-a92a-deaf0f2cafbb",
   "metadata": {},
   "source": [
    "We can again plot this histogram but we have to call plot on the computed one, otherwise it will just be empty."
   ]
  },
  {
   "cell_type": "code",
   "execution_count": 51,
   "id": "c96c48b2-53b3-460b-8019-e9f91473aef5",
   "metadata": {
    "tags": []
   },
   "outputs": [
    {
     "data": {
      "image/png": "[encoded data removed]",
      "text/plain": [
       "<Figure size 640x480 with 1 Axes>"
      ]
     },
     "metadata": {},
     "output_type": "display_data"
    }
   ],
   "source": [
    "h.compute().plot1d()\n",
    "plt.xticks(plt.gca().get_xticks(), labels, rotation=45)\n",
    "plt.show()"
   ]
  },
  {
   "cell_type": "markdown",
   "id": "8ca4e1f0-f5a3-46b3-9bcb-848aa3e04a99",
   "metadata": {},
   "source": [
    "And we got exactly the same thing. Saving to `.npz` files is still possible but the delayed arrays will be naturally materalized while saving."
   ]
  },
  {
   "cell_type": "code",
   "execution_count": 52,
   "id": "d0d57fbb-633b-4140-95b6-7ac551a4c271",
   "metadata": {
    "tags": []
   },
   "outputs": [
    {
     "name": "stdout",
     "output_type": "stream",
     "text": [
      "labels: ['initial' 'N - twoElectron' 'N - noMuon' 'N - leadPt20' 'N']\n",
      "nev: [40 10  3  5  3]\n",
      "masks: [[False  True  True False False False False False False  True False False\n",
      "  False False False  True  True False False False  True  True False False\n",
      "  False False False  True False  True False False False  True False False\n",
      "  False False False False]\n",
      " [False False  True False False False False False False False False False\n",
      "  False False False False False False False False  True  True False False\n",
      "  False False False False False False False False False False False False\n",
      "  False False False False]\n",
      " [False False  True  True False False False False False False False False\n",
      "  False False False False False False  True False  True  True False False\n",
      "  False False False False False False False False False False False False\n",
      "  False False False False]\n",
      " [False False  True False False False False False False False False False\n",
      "  False False False False False False False False  True  True False False\n",
      "  False False False False False False False False False False False False\n",
      "  False False False False]]\n"
     ]
    }
   ],
   "source": [
    "nminusone.to_npz(\"nminusone_results.npz\")\n",
    "\n",
    "with np.load(\"nminusone_results.npz\") as f:\n",
    "    for i in f.files:\n",
    "        print(f\"{i}: {f[i]}\")"
   ]
  },
  {
   "cell_type": "markdown",
   "id": "7dd71131-d0df-4930-b853-d126d7c0c2db",
   "metadata": {},
   "source": [
    "Same logic applies to the `plot_vars` function. Remember to use `dakevents` now and not `events`."
   ]
  },
  {
   "cell_type": "code",
   "execution_count": 53,
   "id": "621cc56b-7bf1-4be8-b24c-04c89125e6b0",
   "metadata": {
    "slideshow": {
     "slide_type": "slide"
    },
    "tags": []
   },
   "outputs": [
    {
     "data": {
      "text/plain": [
       "(ColormeshArtists(pcolormesh=<matplotlib.collections.QuadMesh object at 0x1483f0a50>, cbar=None, text=[]),\n",
       " [StairsArtists(stairs=<matplotlib.patches.StepPatch object at 0x1483f2ad0>, errorbar=<ErrorbarContainer object of 3 artists>, legend_artist=<ErrorbarContainer object of 3 artists>)],\n",
       " [StairsArtists(stairs=<matplotlib.patches.StepPatch object at 0x1483f3250>, errorbar=<ErrorbarContainer object of 3 artists>, legend_artist=<ErrorbarContainer object of 3 artists>)])"
      ]
     },
     "execution_count": 53,
     "metadata": {},
     "output_type": "execute_result"
    },
    {
     "data": {
      "image/png": "[encoded data removed]",
      "text/plain": [
       "<Figure size 640x480 with 3 Axes>"
      ]
     },
     "metadata": {},
     "output_type": "display_data"
    }
   ],
   "source": [
    "dask_categorical = {\"axis\": hist.axis.IntCategory([0, 41, 43], name=\"ttbarID\"), \"values\": dakevents.genTtbarId, \"labels\": [\"X+jj\", \"X+c\", \"X+cc\"]}\n",
    "hs, labels, catlabels = nminusone.plot_vars({\"Ept\": dakevents.Electron.pt, \"Ephi\": dakevents.Electron.phi}, categorical=dask_categorical)\n",
    "hs[0].compute()[{\"ttbarID\": 0}].plot2d_full()"
   ]
  },
  {
   "cell_type": "markdown",
   "id": "8e94ed9c-dfd7-47d3-997a-4c7561f51147",
   "metadata": {},
   "source": [
    "Those histograms are also delayed and have to be computed before plotting them."
   ]
  },
  {
   "cell_type": "markdown",
   "id": "0877deac-0e27-480d-b471-bafba2441328",
   "metadata": {},
   "source": [
    "Exactly the same things apply to the cutflow in delayed mode."
   ]
  }
 ],
 "metadata": {
  "kernelspec": {
   "display_name": "awkward-coffea",
   "language": "python",
   "name": "awkward-coffea"
  },
  "language_info": {
   "codemirror_mode": {
    "name": "ipython",
    "version": 3
   },
   "file_extension": ".py",
   "mimetype": "text/x-python",
   "name": "python",
   "nbconvert_exporter": "python",
   "pygments_lexer": "ipython3",
   "version": "3.13.9"
  }
 },
 "nbformat": 4,
 "nbformat_minor": 5
}
