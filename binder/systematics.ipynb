{
 "cells": [
  {
   "cell_type": "code",
   "execution_count": null,
   "id": "839ca214",
   "metadata": {},
   "outputs": [],
   "source": [
    "import awkward\n",
    "import numpy as np\n",
    "from coffea import nanoevents\n",
    "\n",
    "def get_array(array):\n",
    "    return array.compute() if nanoevents_mode == \"dask\" else array\n",
    "\n",
    "nanoevents_mode = \"virtual\"\n",
    "\n",
    "access_log = []\n",
    "events = nanoevents\\\n",
    "         .NanoEventsFactory\\\n",
    "         .from_root({\"coffea/tests/samples/nano_dy.root\": \"Events\"}, mode=nanoevents_mode, access_log=access_log)\\\n",
    "         .events()\n",
    "\n",
    "muons = events.Muon\n",
    "jets = events.Jet\n",
    "met = events.MET"
   ]
  },
  {
   "cell_type": "code",
   "execution_count": null,
   "id": "b803b91b",
   "metadata": {},
   "outputs": [],
   "source": [
    "def some_event_weight(ones):\n",
    "    return (1.0 + np.array([0.05, -0.05], dtype=np.float32)) * ones[:, None]\n",
    "\n",
    "events.add_systematic(\"RenFactScale\", \"UpDownSystematic\", \"weight\", some_event_weight)\n",
    "events.add_systematic(\"XSectionUncertainty\", \"UpDownSystematic\", \"weight\", some_event_weight)\n",
    "\n",
    "def muon_pt_scale(pt):   \n",
    "    return (1.0 + np.array([0.05, -0.05], dtype=np.float32)) * pt[:, None]\n",
    "\n",
    "def muon_pt_resolution(pt):   \n",
    "    return np.random.normal(pt[:,None], np.array([0.02, 0.01], dtype=np.float32))\n",
    "\n",
    "def muon_eff_weight(ones):\n",
    "    return (1.0 + np.array([0.05, -0.05], dtype=np.float32)) * ones[:, None]\n",
    "\n",
    "def muon_pt_phi_systematic(ptphi):\n",
    "    pt_var = (1.0 + np.array([0.05, -0.05], dtype=np.float32)) * ptphi.pt[:, None]\n",
    "    phi_var = (1.0 + np.array([0.1, -0.1], dtype=np.float32)) * ptphi.phi[:, None]\n",
    "    return awkward.zip({\"pt\": pt_var, \"phi\": phi_var}, depth_limit=1)\n",
    "\n",
    "muons.add_systematic(\"PtScale\", \"UpDownSystematic\", \"pt\", muon_pt_scale)\n",
    "muons.add_systematic(\"PtResolution\", \"UpDownSystematic\", \"pt\", muon_pt_resolution)\n",
    "muons.add_systematic(\"EfficiencySF\", \"UpDownSystematic\", \"weight\", muon_eff_weight)\n",
    "muons.add_systematic(\"PtPhiSystematic\", \"UpDownMultiSystematic\", (\"pt\", \"phi\"), muon_pt_phi_systematic)\n",
    "\n",
    "def jet_pt_scale(pt):   \n",
    "    return (1.0 + np.array([0.10, -0.10], dtype=np.float32)) * pt[:, None]\n",
    "\n",
    "def jet_pt_resolution(pt):   \n",
    "    return np.random.normal(pt[:,None], np.array([0.20, 0.10], dtype=np.float32))\n",
    "\n",
    "def jet_pt_phi_systematic(ptphi):\n",
    "    pt_var = (1.0 + np.array([0.10, -0.10], dtype=np.float32)) * ptphi.pt[:, None]\n",
    "    phi_var = (1.0 + np.array([0.2, -0.2], dtype=np.float32)) * ptphi.phi[:, None]\n",
    "    return awkward.zip({\"pt\": pt_var, \"phi\": phi_var}, depth_limit=1)\n",
    "\n",
    "jets.add_systematic(\"PtScale\", \"UpDownSystematic\", \"pt\", jet_pt_scale)\n",
    "jets.add_systematic(\"PtResolution\", \"UpDownSystematic\", \"pt\", jet_pt_resolution)\n",
    "jets.add_systematic(\"PtPhiSystematic\", \"UpDownMultiSystematic\", (\"pt\", \"phi\"), jet_pt_phi_systematic)\n",
    "\n",
    "def met_pt_scale(pt):\n",
    "    return (1.0 + np.array([0.03, -0.03], dtype=np.float32)) * pt[:, None]\n",
    "\n",
    "def met_pt_phi_systematic(ptphi):\n",
    "    pt_var = (1.0 + np.array([0.03, -0.03], dtype=np.float32)) * ptphi.pt[:, None]\n",
    "    phi_var = (1.0 + np.array([0.05, -0.05], dtype=np.float32)) * ptphi.phi[:, None]\n",
    "    return awkward.zip({\"pt\": pt_var, \"phi\": phi_var}, depth_limit=1)\n",
    "\n",
    "met.add_systematic(\"PtScale\", \"UpDownMultiSystematic\", \"pt\", met_pt_scale)\n",
    "met.add_systematic(\"PtPhiSystematic\", \"UpDownMultiSystematic\", (\"pt\", \"phi\"), met_pt_phi_systematic)"
   ]
  },
  {
   "cell_type": "code",
   "execution_count": null,
   "id": "5891478d-fa9c-416f-9bc8-4998135be1c5",
   "metadata": {},
   "outputs": [],
   "source": [
    "renfact_up = events.systematics.RenFactScale.up.weight_RenFactScale\n",
    "get_array(renfact_up)"
   ]
  },
  {
   "cell_type": "code",
   "execution_count": null,
   "id": "b88cf664",
   "metadata": {},
   "outputs": [],
   "source": [
    "muon_pt = awkward.flatten(muons.pt)\n",
    "get_array(muon_pt)"
   ]
  },
  {
   "cell_type": "code",
   "execution_count": null,
   "id": "c89f8fd1",
   "metadata": {},
   "outputs": [],
   "source": [
    "muon_PtScale_up = awkward.flatten(muons.systematics.PtScale.up)\n",
    "get_array(muon_PtScale_up)"
   ]
  },
  {
   "cell_type": "code",
   "execution_count": null,
   "id": "3f484489",
   "metadata": {},
   "outputs": [],
   "source": [
    "muon_PtScale_up_pt = awkward.flatten(muons.systematics.PtScale.up.pt)\n",
    "get_array(muon_PtScale_up_pt)"
   ]
  },
  {
   "cell_type": "code",
   "execution_count": null,
   "id": "73aa4936-eca2-4382-ac00-15ecd69580f1",
   "metadata": {},
   "outputs": [],
   "source": [
    "muons_PtPhiSystematic_up = awkward.flatten(muons.systematics.PtPhiSystematic.up)\n",
    "get_array(muons_PtPhiSystematic_up)"
   ]
  },
  {
   "cell_type": "code",
   "execution_count": null,
   "id": "59ebd13c-3a9c-4cbf-a94d-08dc67332eb3",
   "metadata": {},
   "outputs": [],
   "source": [
    "muons_PtPhiSystematic_up_pt = awkward.flatten(muons.systematics.PtPhiSystematic.up.pt)\n",
    "get_array(muons_PtPhiSystematic_up_pt)"
   ]
  },
  {
   "cell_type": "code",
   "execution_count": null,
   "id": "c225ac29-f177-45c5-b47d-aedb94150c7d",
   "metadata": {},
   "outputs": [],
   "source": [
    "muons_PtPhiSystematic_up_phi = awkward.flatten(muons.systematics.PtPhiSystematic.up.phi)\n",
    "get_array(muons_PtPhiSystematic_up_phi)"
   ]
  },
  {
   "cell_type": "code",
   "execution_count": null,
   "id": "7c806b7d",
   "metadata": {},
   "outputs": [],
   "source": [
    "jets_pt = awkward.flatten(jets.pt)\n",
    "get_array(jets_pt)"
   ]
  },
  {
   "cell_type": "code",
   "execution_count": null,
   "id": "e7adf5de",
   "metadata": {},
   "outputs": [],
   "source": [
    "jets_PtScale_up = awkward.flatten(jets.systematics.PtScale.up)\n",
    "get_array(jets_PtScale_up)"
   ]
  },
  {
   "cell_type": "code",
   "execution_count": null,
   "id": "f01ca3a9",
   "metadata": {},
   "outputs": [],
   "source": [
    "jets_PtScale_up_pt = awkward.flatten(jets.systematics.PtScale.up.pt)\n",
    "get_array(jets_PtScale_up_pt)"
   ]
  },
  {
   "cell_type": "code",
   "execution_count": null,
   "id": "b25c46d6-07c0-444b-9627-f9507ca17130",
   "metadata": {},
   "outputs": [],
   "source": [
    "jets_PtPhiSystematic_up = awkward.flatten(jets.systematics.PtPhiSystematic.up)\n",
    "get_array(jets_PtPhiSystematic_up)"
   ]
  },
  {
   "cell_type": "code",
   "execution_count": null,
   "id": "624e0a92-7c25-4837-936e-6f1a2d779840",
   "metadata": {},
   "outputs": [],
   "source": [
    "jets_PtPhiSystematic_up_pt = awkward.flatten(jets.systematics.PtPhiSystematic.up.pt)\n",
    "get_array(jets_PtPhiSystematic_up_pt)"
   ]
  },
  {
   "cell_type": "code",
   "execution_count": null,
   "id": "57ed7ef4-1108-4b66-8711-6e4f6d6ec582",
   "metadata": {},
   "outputs": [],
   "source": [
    "jets_PtPhiSystematic_up_phi = awkward.flatten(jets.systematics.PtPhiSystematic.up.phi)\n",
    "get_array(jets_PtPhiSystematic_up_phi)"
   ]
  },
  {
   "cell_type": "code",
   "execution_count": null,
   "id": "f19c117d-22e9-41ee-a53b-4277902c20a2",
   "metadata": {},
   "outputs": [],
   "source": [
    "met_pt = met.pt\n",
    "get_array(met_pt)"
   ]
  },
  {
   "cell_type": "code",
   "execution_count": null,
   "id": "64291981-0bca-4d53-bf13-3694b946174c",
   "metadata": {},
   "outputs": [],
   "source": [
    "met_PtScale_up = met.systematics.PtScale.up\n",
    "get_array(met_PtScale_up)"
   ]
  },
  {
   "cell_type": "code",
   "execution_count": null,
   "id": "aa95b610-55f8-4c6d-8c48-22e5b7294914",
   "metadata": {},
   "outputs": [],
   "source": [
    "met_PtScale_up_pt = met.systematics.PtScale.up.pt\n",
    "get_array(met_PtScale_up_pt)"
   ]
  },
  {
   "cell_type": "code",
   "execution_count": null,
   "id": "217b8f22-d4c9-4136-8de8-8335c893c40a",
   "metadata": {},
   "outputs": [],
   "source": [
    "met_PtPhiSystematic_up = met.systematics.PtPhiSystematic.up\n",
    "get_array(met_PtPhiSystematic_up)"
   ]
  },
  {
   "cell_type": "code",
   "execution_count": null,
   "id": "94a768e6-89e1-41a1-83ee-b20e2baeaf3f",
   "metadata": {},
   "outputs": [],
   "source": [
    "met_PtPhiSystematic_up_pt = met.systematics.PtPhiSystematic.up.pt\n",
    "get_array(met_PtPhiSystematic_up_pt)"
   ]
  },
  {
   "cell_type": "code",
   "execution_count": null,
   "id": "33b36c1e-988b-459b-9067-ad3ad63d7997",
   "metadata": {},
   "outputs": [],
   "source": [
    "met_PtPhiSystematic_up_phi = met.systematics.PtPhiSystematic.up.phi\n",
    "get_array(met_PtPhiSystematic_up_phi)"
   ]
  },
  {
   "cell_type": "code",
   "execution_count": null,
   "id": "3591fbf3",
   "metadata": {},
   "outputs": [],
   "source": [
    "# TODO: Make it so that syst_muons.Y > X returns boolean values\n",
    "#       for all variations over Y. \n",
    "#       Requires some tracking of (pieces of) \"what\"."
   ]
  },
  {
   "cell_type": "code",
   "execution_count": null,
   "id": "93555e78-0941-4846-afc4-fabb9f492dd1",
   "metadata": {},
   "outputs": [],
   "source": []
  }
 ],
 "metadata": {
  "kernelspec": {
   "display_name": "awkward-coffea",
   "language": "python",
   "name": "awkward-coffea"
  },
  "language_info": {
   "codemirror_mode": {
    "name": "ipython",
    "version": 3
   },
   "file_extension": ".py",
   "mimetype": "text/x-python",
   "name": "python",
   "nbconvert_exporter": "python",
   "pygments_lexer": "ipython3",
   "version": "3.13.7"
  }
 },
 "nbformat": 4,
 "nbformat_minor": 5
}
